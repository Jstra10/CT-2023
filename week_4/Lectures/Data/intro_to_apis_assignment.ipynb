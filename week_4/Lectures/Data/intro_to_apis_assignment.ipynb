{
 "cells": [
  {
   "attachments": {},
   "cell_type": "markdown",
   "metadata": {},
   "source": [
    "# Coding Temple's Data Analytics Program\n",
    "---\n",
    "## Intro to API's Assignment\n",
    "---\n",
    "### Problem 1:\n",
    "Check out this Pokemon API https://pokeapi.co/\n",
    "Use the requests package to connect to this API and get and store data for 5 different pokemon.\n",
    "Get the pokemons: name, atleast one ability's name, base_experience, and the URL for its sprite (an image that shows up on screen) for the 'front_shiny', attack base_state, hp base_stat, defense base_stat\n",
    "\n",
    "**BONUS POINTS IF YOU CAN POPULATE THE IMAGE!**"
   ]
  },
  {
   "cell_type": "code",
   "execution_count": 1,
   "metadata": {},
   "outputs": [],
   "source": [
    "import requests, json\n",
    "import pandas as pd\n",
    "from PIL import Image\n",
    "from io import BytesIO\n",
    "import pprint"
   ]
  },
  {
   "cell_type": "code",
   "execution_count": 2,
   "metadata": {},
   "outputs": [
    {
     "name": "stdout",
     "output_type": "stream",
     "text": [
      "<Response [200]>\n",
      "{'Name': 'Pumpkaboo-Average', 'Ability': 'pickup', 'Base Exp': 67, 'Image URL': 'https://raw.githubusercontent.com/PokeAPI/sprites/master/sprites/pokemon/shiny/710.png', 'Attack': 66, 'Health': 49, 'Defence': 70}\n"
     ]
    }
   ],
   "source": [
    "# Image.open(BytesIO(requests.get(requests.get('https://pokeapi.co/api/v2/pokemon/ditto').json()['sprites']['front_shiny']).content))\n",
    "id_or_name = ['ditto', 'pikachu','charizard','squirtle', 'eevee']\n",
    "\n",
    "\n",
    "\n",
    "def poke_stats(id_or_names):\n",
    "    \"\"\" \n",
    "    Funtion takes a user input \"Pokemon character and or characters \", connets to the pokemon api,\n",
    "    returning the characters name, ability, base exp, image url, attack, hp, defence.\n",
    "    \"\"\"\n",
    "    \n",
    "    # stores the dictionaries of pokemon\n",
    "    all_details =[]\n",
    "    url = f'https://pokeapi.co/api/v2/pokemon/{id_or_names}'\n",
    "   \n",
    "   # Connecting to the Pokemon API\n",
    "    response = requests.get(url)\n",
    "    print(response)\n",
    "    if response.ok:\n",
    "        data = response.json()\n",
    "        \n",
    "        # Searched API and built Pokemon variables to store in a details dictionary. \n",
    "        name = data['forms'][0]['name']\n",
    "        ability = data['abilities'][0]['ability']['name']\n",
    "        base_experience = data['base_experience']\n",
    "        image_url = data['sprites']['front_shiny']\n",
    "        hp = data['stats'][0]['base_stat']\n",
    "        attack = data['stats'][1]['base_stat']\n",
    "        defence = data['stats'][2]['base_stat']\n",
    "        \n",
    "        # Dictionary for individual Pokemon. The individual dictionaries will be \n",
    "        # appended to the cumulative all details dictionary\n",
    "        details = {\n",
    "            \"Name\":name.title(),\n",
    "            \"Ability\":ability,\n",
    "            \"Base Exp\":base_experience,\n",
    "            \"Image URL\":image_url,\n",
    "            \"Attack\":attack,\n",
    "            \"Health\":hp,\n",
    "            \"Defence\":defence\n",
    "            }\n",
    "        \n",
    "        #all_details.append(details)\n",
    "\n",
    "    else:\n",
    "        # Return the failed connection statement below & the response code from the api\n",
    "        return f'The API is having connection issues. Here is the code: {response}'\n",
    "\n",
    "    return details\n",
    "\n",
    "result = poke_stats('710')\n",
    "print(result)\n",
    "# for detail in result:\n",
    "#     print(detail)\n",
    "\n",
    "\n",
    "# poke_stats(id_or_name)\n",
    "\n",
    "    \n",
    "    \n"
   ]
  },
  {
   "attachments": {},
   "cell_type": "markdown",
   "metadata": {},
   "source": [
    "### Problem 2:\n",
    "\n",
    "I want to build the best Pokemon team I can and I need your help to do so! Using the API, build me a team of 6 pokemon who's base-stats are above 60. Return any additional information you think is needed to help understand why you chose that pokemon for the team!"
   ]
  },
  {
   "cell_type": "code",
   "execution_count": 3,
   "metadata": {},
   "outputs": [
    {
     "data": {
      "text/plain": [
       "'Team is already assembled:\\nHere is your assmebled team:\\n[]'"
      ]
     },
     "execution_count": 3,
     "metadata": {},
     "output_type": "execute_result"
    }
   ],
   "source": [
    "id_or_name = ['ditto', 'pikachu','charizard','squirtle', 'eevee']\n",
    "\n",
    "def build_pokemon_team():\n",
    "    \"\"\" \n",
    "    This function allows a user to build a team of six pokemon \n",
    "    that have base stats over 60. The use will enter as many \n",
    "    pokemon needed until the team is complete. \n",
    "    \"\"\"\n",
    "\n",
    "    # base stats have to be above 60. Setting variable for comparison\n",
    "    poke_team = []\n",
    "    while True:\n",
    "        name = input(\"Give me a Pokemon and I'll tell you if it's good. If you want to quit please press 'q'\")\n",
    "        if name.lower() == 'q':\n",
    "            break\n",
    "\n",
    "\n",
    "        pokemon = poke_stats(name.lower())\n",
    "        print(pokemon)\n",
    "        if pokemon['Health'] < 60 or pokemon['Attack'] < 60 or pokemon['defence'] < 60:\n",
    "            return f\"{name.title()} does not meet the stat requirements. Please choose another pokemon\" \n",
    "\n",
    "        else: \n",
    "            poke_team.append(pokemon)\n",
    "\n",
    "        if len(poke_team) == 6:\n",
    "            return f'Team is already assembled:\\nHere is your assmebled team:\\n{poke_team}'\n",
    "            break\n",
    "\n",
    "    return f'Team is already assembled:\\nHere is your assmebled team:\\n{poke_team}'\n",
    "\n",
    "build_pokemon_team() \n",
    "\n",
    "\n",
    "\n",
    "\n",
    "\n",
    "\n",
    "\n"
   ]
  },
  {
   "attachments": {},
   "cell_type": "markdown",
   "metadata": {},
   "source": [
    "### Problem 3:\n",
    "\n",
    "Create a function that does the following:\n",
    "* Input: pokemon_name(user_defined) -> str\n",
    "* Output: list object containing a dictionary of values from the response object.\n",
    "* Please include the type, the most current raritey level, at least one held item, and all stats"
   ]
  },
  {
   "cell_type": "code",
   "execution_count": 4,
   "metadata": {},
   "outputs": [
    {
     "ename": "KeyError",
     "evalue": "'forms'",
     "output_type": "error",
     "traceback": [
      "\u001b[1;31m---------------------------------------------------------------------------\u001b[0m",
      "\u001b[1;31mKeyError\u001b[0m                                  Traceback (most recent call last)",
      "\u001b[1;32mc:\\Users\\jjs61\\OneDrive\\Desktop\\Class\\week_4\\Lectures\\Data\\intro_to_apis_assignment.ipynb Cell 7\u001b[0m line \u001b[0;36m3\n\u001b[0;32m     <a href='vscode-notebook-cell:/c%3A/Users/jjs61/OneDrive/Desktop/Class/week_4/Lectures/Data/intro_to_apis_assignment.ipynb#W6sZmlsZQ%3D%3D?line=28'>29</a>\u001b[0m         \u001b[39mprint\u001b[39m(\u001b[39mf\u001b[39m\u001b[39m\"\u001b[39m\u001b[39mFailed to retrieve information for \u001b[39m\u001b[39m{\u001b[39;00mpokemon_name\u001b[39m}\u001b[39;00m\u001b[39m due to \u001b[39m\u001b[39m{\u001b[39;00mresponse\u001b[39m}\u001b[39;00m\u001b[39m\"\u001b[39m)\n\u001b[0;32m     <a href='vscode-notebook-cell:/c%3A/Users/jjs61/OneDrive/Desktop/Class/week_4/Lectures/Data/intro_to_apis_assignment.ipynb#W6sZmlsZQ%3D%3D?line=29'>30</a>\u001b[0m         \u001b[39mreturn\u001b[39;00m \u001b[39mNone\u001b[39;00m\n\u001b[1;32m---> <a href='vscode-notebook-cell:/c%3A/Users/jjs61/OneDrive/Desktop/Class/week_4/Lectures/Data/intro_to_apis_assignment.ipynb#W6sZmlsZQ%3D%3D?line=31'>32</a>\u001b[0m result \u001b[39m=\u001b[39m get_pokemon()\n\u001b[0;32m     <a href='vscode-notebook-cell:/c%3A/Users/jjs61/OneDrive/Desktop/Class/week_4/Lectures/Data/intro_to_apis_assignment.ipynb#W6sZmlsZQ%3D%3D?line=33'>34</a>\u001b[0m \u001b[39mif\u001b[39;00m result:\n\u001b[0;32m     <a href='vscode-notebook-cell:/c%3A/Users/jjs61/OneDrive/Desktop/Class/week_4/Lectures/Data/intro_to_apis_assignment.ipynb#W6sZmlsZQ%3D%3D?line=34'>35</a>\u001b[0m     \u001b[39mprint\u001b[39m(result)\n",
      "\u001b[1;32mc:\\Users\\jjs61\\OneDrive\\Desktop\\Class\\week_4\\Lectures\\Data\\intro_to_apis_assignment.ipynb Cell 7\u001b[0m line \u001b[0;36m1\n\u001b[0;32m     <a href='vscode-notebook-cell:/c%3A/Users/jjs61/OneDrive/Desktop/Class/week_4/Lectures/Data/intro_to_apis_assignment.ipynb#W6sZmlsZQ%3D%3D?line=14'>15</a>\u001b[0m     data \u001b[39m=\u001b[39m response\u001b[39m.\u001b[39mjson()\n\u001b[0;32m     <a href='vscode-notebook-cell:/c%3A/Users/jjs61/OneDrive/Desktop/Class/week_4/Lectures/Data/intro_to_apis_assignment.ipynb#W6sZmlsZQ%3D%3D?line=16'>17</a>\u001b[0m     \u001b[39m# Extract the required information into a pokemon dictionary\u001b[39;00m\n\u001b[0;32m     <a href='vscode-notebook-cell:/c%3A/Users/jjs61/OneDrive/Desktop/Class/week_4/Lectures/Data/intro_to_apis_assignment.ipynb#W6sZmlsZQ%3D%3D?line=17'>18</a>\u001b[0m     pokemon_info \u001b[39m=\u001b[39m {\n\u001b[1;32m---> <a href='vscode-notebook-cell:/c%3A/Users/jjs61/OneDrive/Desktop/Class/week_4/Lectures/Data/intro_to_apis_assignment.ipynb#W6sZmlsZQ%3D%3D?line=18'>19</a>\u001b[0m         \u001b[39m\"\u001b[39m\u001b[39mName\u001b[39m\u001b[39m\"\u001b[39m: data[\u001b[39m'\u001b[39;49m\u001b[39mforms\u001b[39;49m\u001b[39m'\u001b[39;49m][\u001b[39m0\u001b[39m][\u001b[39m'\u001b[39m\u001b[39mname\u001b[39m\u001b[39m'\u001b[39m],\n\u001b[0;32m     <a href='vscode-notebook-cell:/c%3A/Users/jjs61/OneDrive/Desktop/Class/week_4/Lectures/Data/intro_to_apis_assignment.ipynb#W6sZmlsZQ%3D%3D?line=19'>20</a>\u001b[0m         \u001b[39m\"\u001b[39m\u001b[39mType\u001b[39m\u001b[39m\"\u001b[39m: data[\u001b[39m\"\u001b[39m\u001b[39mtypes\u001b[39m\u001b[39m\"\u001b[39m][\u001b[39m0\u001b[39m][\u001b[39m\"\u001b[39m\u001b[39mtype\u001b[39m\u001b[39m\"\u001b[39m][\u001b[39m\"\u001b[39m\u001b[39mname\u001b[39m\u001b[39m\"\u001b[39m],\n\u001b[0;32m     <a href='vscode-notebook-cell:/c%3A/Users/jjs61/OneDrive/Desktop/Class/week_4/Lectures/Data/intro_to_apis_assignment.ipynb#W6sZmlsZQ%3D%3D?line=20'>21</a>\u001b[0m         \u001b[39m\"\u001b[39m\u001b[39mRarity\u001b[39m\u001b[39m\"\u001b[39m: [item[\u001b[39m\"\u001b[39m\u001b[39mrarity\u001b[39m\u001b[39m\"\u001b[39m] \u001b[39mfor\u001b[39;00m item \u001b[39min\u001b[39;00m data[\u001b[39m\"\u001b[39m\u001b[39mheld_items\u001b[39m\u001b[39m\"\u001b[39m]],\n\u001b[0;32m     <a href='vscode-notebook-cell:/c%3A/Users/jjs61/OneDrive/Desktop/Class/week_4/Lectures/Data/intro_to_apis_assignment.ipynb#W6sZmlsZQ%3D%3D?line=21'>22</a>\u001b[0m         \u001b[39m\"\u001b[39m\u001b[39mHeld_item\u001b[39m\u001b[39m\"\u001b[39m: data[\u001b[39m\"\u001b[39m\u001b[39mheld_items\u001b[39m\u001b[39m\"\u001b[39m][\u001b[39m0\u001b[39m][\u001b[39m\"\u001b[39m\u001b[39mitem\u001b[39m\u001b[39m\"\u001b[39m][\u001b[39m\"\u001b[39m\u001b[39mname\u001b[39m\u001b[39m\"\u001b[39m] \u001b[39mif\u001b[39;00m data[\u001b[39m\"\u001b[39m\u001b[39mheld_items\u001b[39m\u001b[39m\"\u001b[39m] \u001b[39melse\u001b[39;00m \u001b[39m\"\u001b[39m\u001b[39mNone\u001b[39m\u001b[39m\"\u001b[39m,\n\u001b[0;32m     <a href='vscode-notebook-cell:/c%3A/Users/jjs61/OneDrive/Desktop/Class/week_4/Lectures/Data/intro_to_apis_assignment.ipynb#W6sZmlsZQ%3D%3D?line=22'>23</a>\u001b[0m         \u001b[39m\"\u001b[39m\u001b[39mStats\u001b[39m\u001b[39m\"\u001b[39m: {stat[\u001b[39m\"\u001b[39m\u001b[39mstat\u001b[39m\u001b[39m\"\u001b[39m][\u001b[39m\"\u001b[39m\u001b[39mname\u001b[39m\u001b[39m\"\u001b[39m]: stat[\u001b[39m\"\u001b[39m\u001b[39mbase_stat\u001b[39m\u001b[39m\"\u001b[39m] \u001b[39mfor\u001b[39;00m stat \u001b[39min\u001b[39;00m data[\u001b[39m\"\u001b[39m\u001b[39mstats\u001b[39m\u001b[39m\"\u001b[39m]}\n\u001b[0;32m     <a href='vscode-notebook-cell:/c%3A/Users/jjs61/OneDrive/Desktop/Class/week_4/Lectures/Data/intro_to_apis_assignment.ipynb#W6sZmlsZQ%3D%3D?line=23'>24</a>\u001b[0m     }\n\u001b[0;32m     <a href='vscode-notebook-cell:/c%3A/Users/jjs61/OneDrive/Desktop/Class/week_4/Lectures/Data/intro_to_apis_assignment.ipynb#W6sZmlsZQ%3D%3D?line=25'>26</a>\u001b[0m     \u001b[39mreturn\u001b[39;00m [pokemon_info]\n\u001b[0;32m     <a href='vscode-notebook-cell:/c%3A/Users/jjs61/OneDrive/Desktop/Class/week_4/Lectures/Data/intro_to_apis_assignment.ipynb#W6sZmlsZQ%3D%3D?line=26'>27</a>\u001b[0m \u001b[39melse\u001b[39;00m:\n\u001b[0;32m     <a href='vscode-notebook-cell:/c%3A/Users/jjs61/OneDrive/Desktop/Class/week_4/Lectures/Data/intro_to_apis_assignment.ipynb#W6sZmlsZQ%3D%3D?line=27'>28</a>\u001b[0m     \u001b[39m# Upon an error in code or the api, the error message below is returned\u001b[39;00m\n",
      "\u001b[1;31mKeyError\u001b[0m: 'forms'"
     ]
    }
   ],
   "source": [
    "\n",
    "def get_pokemon():\n",
    "    \"\"\"\n",
    "    Input: Pokemon name\n",
    "    Output: The Pokemon name, type, most current rarity level, one held item and all stats.\n",
    "    \"\"\"\n",
    "    pokemon_name = input(\"Enter the name of the Pokémon: \").lower()\n",
    "    \n",
    "    base_url = \"https://pokeapi.co/api/v2/pokemon/\"\n",
    "    url = f\"{base_url}{pokemon_name}/\"\n",
    "\n",
    "    # Connecting to the Pokemon API\n",
    "    response = requests.get(url)\n",
    "\n",
    "    if response.status_code == 200:\n",
    "        data = response.json()\n",
    "\n",
    "        # Extract the required information into a pokemon dictionary\n",
    "        pokemon_info = {\n",
    "            \"Name\": data['forms'][0]['name'],\n",
    "            \"Type\": data[\"types\"][0][\"type\"][\"name\"],\n",
    "            \"Rarity\": [item[\"rarity\"] for item in data[\"held_items\"]],\n",
    "            \"Held_item\": data[\"held_items\"][0][\"item\"][\"name\"] if data[\"held_items\"] else \"None\",\n",
    "            \"Stats\": {stat[\"stat\"][\"name\"]: stat[\"base_stat\"] for stat in data[\"stats\"]}\n",
    "        }\n",
    "\n",
    "        return [pokemon_info]\n",
    "    else:\n",
    "        # Upon an error in code or the api, the error message below is returned\n",
    "        print(f\"Failed to retrieve information for {pokemon_name} due to {response}\")\n",
    "        return None\n",
    "\n",
    "result = get_pokemon()\n",
    "\n",
    "if result:\n",
    "    print(result)\n",
    "\n",
    "\n"
   ]
  }
 ],
 "metadata": {
  "kernelspec": {
   "display_name": "Python 3",
   "language": "python",
   "name": "python3"
  },
  "language_info": {
   "codemirror_mode": {
    "name": "ipython",
    "version": 3
   },
   "file_extension": ".py",
   "mimetype": "text/x-python",
   "name": "python",
   "nbconvert_exporter": "python",
   "pygments_lexer": "ipython3",
   "version": "3.9.9"
  },
  "orig_nbformat": 4,
  "vscode": {
   "interpreter": {
    "hash": "26de051ba29f2982a8de78e945f0abaf191376122a1563185a90213a26c5da77"
   }
  }
 },
 "nbformat": 4,
 "nbformat_minor": 2
}
