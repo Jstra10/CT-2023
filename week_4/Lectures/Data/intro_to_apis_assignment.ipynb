{
 "cells": [
  {
   "attachments": {},
   "cell_type": "markdown",
   "metadata": {},
   "source": [
    "# Coding Temple's Data Analytics Program\n",
    "---\n",
    "## Intro to API's Assignment\n",
    "---\n",
    "### Problem 1:\n",
    "Check out this Pokemon API https://pokeapi.co/\n",
    "Use the requests package to connect to this API and get and store data for 5 different pokemon.\n",
    "Get the pokemons: name, atleast one ability's name, base_experience, and the URL for its sprite (an image that shows up on screen) for the 'front_shiny', attack base_state, hp base_stat, defense base_stat\n",
    "\n",
    "**BONUS POINTS IF YOU CAN POPULATE THE IMAGE!**"
   ]
  },
  {
   "cell_type": "code",
   "execution_count": 9,
   "metadata": {},
   "outputs": [],
   "source": [
    "import requests, json\n",
    "import pandas as pd\n",
    "from PIL import Image\n",
    "from io import BytesIO\n",
    "import pprint"
   ]
  },
  {
   "cell_type": "code",
   "execution_count": 10,
   "metadata": {},
   "outputs": [
    {
     "name": "stdout",
     "output_type": "stream",
     "text": [
      "<Response [200]>\n",
      "{'Name': 'Pumpkaboo-Average', 'Ability': 'pickup', 'Base Exp': 67, 'Image URL': 'https://raw.githubusercontent.com/PokeAPI/sprites/master/sprites/pokemon/shiny/710.png', 'Attack': 66, 'Health': 49, 'Defence': 70}\n"
     ]
    }
   ],
   "source": [
    "# Image.open(BytesIO(requests.get(requests.get('https://pokeapi.co/api/v2/pokemon/ditto').json()['sprites']['front_shiny']).content))\n",
    "id_or_name = ['ditto', 'pikachu','charizard','squirtle', 'eevee']\n",
    "\n",
    "\n",
    "\n",
    "def poke_stats(id_or_names):\n",
    "    \"\"\" \n",
    "    Funtion takes a user input \"Pokemon character and or characters \", connets to the pokemon api,\n",
    "    returning the characters name, ability, base exp, image url, attack, hp, defence.\n",
    "    \"\"\"\n",
    "    \n",
    "    # stores the dictionaries of pokemon\n",
    "    all_details =[]\n",
    "    url = f'https://pokeapi.co/api/v2/pokemon/{id_or_names}'\n",
    "   \n",
    "   # Connecting to the Pokemon API\n",
    "    response = requests.get(url)\n",
    "    print(response)\n",
    "    if response.ok:\n",
    "        data = response.json()\n",
    "        \n",
    "        # Searched API and built Pokemon variables to store in a details dictionary. \n",
    "        name = data['forms'][0]['name']\n",
    "        ability = data['abilities'][0]['ability']['name']\n",
    "        base_experience = data['base_experience']\n",
    "        image_url = data['sprites']['front_shiny']\n",
    "        hp = data['stats'][0]['base_stat']\n",
    "        attack = data['stats'][1]['base_stat']\n",
    "        defence = data['stats'][2]['base_stat']\n",
    "        \n",
    "        # Dictionary for individual Pokemon. The individual dictionaries will be \n",
    "        # appended to the cumulative all details dictionary\n",
    "        details = {\n",
    "            \"Name\":name.title(),\n",
    "            \"Ability\":ability,\n",
    "            \"Base Exp\":base_experience,\n",
    "            \"Image URL\":image_url,\n",
    "            \"Attack\":attack,\n",
    "            \"Health\":hp,\n",
    "            \"Defence\":defence\n",
    "            }\n",
    "        \n",
    "        #all_details.append(details)\n",
    "\n",
    "    else:\n",
    "        # Return the failed connection statement below & the response code from the api\n",
    "        return f'The API is having connection issues. Here is the code: {response}'\n",
    "\n",
    "    return details\n",
    "\n",
    "result = poke_stats('710')\n",
    "print(result)\n",
    "# for detail in result:\n",
    "#     print(detail)\n",
    "\n",
    "\n",
    "# poke_stats(id_or_name)\n",
    "\n",
    "    \n",
    "    \n"
   ]
  },
  {
   "attachments": {},
   "cell_type": "markdown",
   "metadata": {},
   "source": [
    "### Problem 2:\n",
    "\n",
    "I want to build the best Pokemon team I can and I need your help to do so! Using the API, build me a team of 6 pokemon who's base-stats are above 60. Return any additional information you think is needed to help understand why you chose that pokemon for the team!"
   ]
  },
  {
   "cell_type": "code",
   "execution_count": 11,
   "metadata": {},
   "outputs": [
    {
     "name": "stdout",
     "output_type": "stream",
     "text": [
      "<Response [200]>\n",
      "{'Name': 'Bulbasaur', 'Ability': 'overgrow', 'Base Exp': 64, 'Image URL': 'https://raw.githubusercontent.com/PokeAPI/sprites/master/sprites/pokemon/shiny/1.png', 'Attack': 49, 'Health': 45, 'Defence': 49}\n"
     ]
    },
    {
     "data": {
      "text/plain": [
       "'Bulbasaur does not meet the stat requirements. Please choose another pokemon'"
      ]
     },
     "execution_count": 11,
     "metadata": {},
     "output_type": "execute_result"
    }
   ],
   "source": [
    "id_or_name = ['ditto', 'pikachu','charizard','squirtle', 'eevee']\n",
    "\n",
    "def build_pokemon_team():\n",
    "    \"\"\" \n",
    "    This function allows a user to build a team of six pokemon \n",
    "    that have base stats over 60. The use will enter as many \n",
    "    pokemon needed until the team is complete. \n",
    "    \"\"\"\n",
    "\n",
    "    # base stats have to be above 60. Setting variable for comparison\n",
    "    poke_team = []\n",
    "    while True:\n",
    "        name = input(\"Give me a Pokemon and I'll tell you if it's good. If you want to quit please press 'q'\")\n",
    "        if name.lower() == 'q':\n",
    "            break\n",
    "\n",
    "\n",
    "        pokemon = poke_stats(name.lower())\n",
    "        print(pokemon)\n",
    "        if pokemon['Health'] < 60 or pokemon['Attack'] < 60 or pokemon['defence'] < 60:\n",
    "            return f\"{name.title()} does not meet the stat requirements. Please choose another pokemon\" \n",
    "\n",
    "        else: \n",
    "            poke_team.append(pokemon)\n",
    "\n",
    "        if len(poke_team) == 6:\n",
    "            return f'Team is already assembled:\\nHere is your assmebled team:\\n{poke_team}'\n",
    "            break\n",
    "\n",
    "    return f'Team is already assembled:\\nHere is your assmebled team:\\n{poke_team}'\n",
    "\n",
    "build_pokemon_team() \n",
    "\n",
    "\n",
    "\n",
    "\n",
    "\n",
    "\n",
    "\n"
   ]
  },
  {
   "attachments": {},
   "cell_type": "markdown",
   "metadata": {},
   "source": [
    "### Problem 3:\n",
    "\n",
    "Create a function that does the following:\n",
    "* Input: pokemon_name(user_defined) -> str\n",
    "* Output: list object containing a dictionary of values from the response object.\n",
    "* Please include the type, the most current raritey level, at least one held item, and all stats"
   ]
  },
  {
   "cell_type": "code",
   "execution_count": 24,
   "metadata": {},
   "outputs": [
    {
     "name": "stdout",
     "output_type": "stream",
     "text": [
      "[{'Name': 'eevee', 'Type': 'normal', 'Rarity': [], 'Held_item': 'None', 'Stats': {'hp': 55, 'attack': 55, 'defense': 50, 'special-attack': 45, 'special-defense': 65, 'speed': 55}}]\n"
     ]
    }
   ],
   "source": [
    "\n",
    "def get_pokemon():\n",
    "    \"\"\"\n",
    "    Input: Pokemon name\n",
    "    Output: The Pokemon name, type, most current rarity level, one held item and all stats.\n",
    "    \"\"\"\n",
    "    pokemon_name = input(\"Enter the name of the Pokémon: \").lower()\n",
    "    \n",
    "    base_url = \"https://pokeapi.co/api/v2/pokemon/\"\n",
    "    url = f\"{base_url}{pokemon_name}/\"\n",
    "\n",
    "    # Connecting to the Pokemon API\n",
    "    response = requests.get(url)\n",
    "\n",
    "    if response.status_code == 200:\n",
    "        data = response.json()\n",
    "\n",
    "        # Extract the required information into a pokemon dictionary\n",
    "        pokemon_info = {\n",
    "            \"Name\": data['forms'][0]['name'],\n",
    "            \"Type\": data[\"types\"][0][\"type\"][\"name\"],\n",
    "            \"Rarity\": [item[\"rarity\"] for item in data[\"held_items\"]],\n",
    "            \"Held_item\": data[\"held_items\"][0][\"item\"][\"name\"] if data[\"held_items\"] else \"None\",\n",
    "            \"Stats\": {stat[\"stat\"][\"name\"]: stat[\"base_stat\"] for stat in data[\"stats\"]}\n",
    "        }\n",
    "\n",
    "        return [pokemon_info]\n",
    "    else:\n",
    "        # Upon an error in code or the api, the error message below is returned\n",
    "        print(f\"Failed to retrieve information for {pokemon_name} due to {response}\")\n",
    "        return None\n",
    "\n",
    "result = get_pokemon()\n",
    "\n",
    "if result:\n",
    "    print(result)\n",
    "\n",
    "\n"
   ]
  }
 ],
 "metadata": {
  "kernelspec": {
   "display_name": "Python 3",
   "language": "python",
   "name": "python3"
  },
  "language_info": {
   "codemirror_mode": {
    "name": "ipython",
    "version": 3
   },
   "file_extension": ".py",
   "mimetype": "text/x-python",
   "name": "python",
   "nbconvert_exporter": "python",
   "pygments_lexer": "ipython3",
   "version": "3.11.5"
  },
  "orig_nbformat": 4,
  "vscode": {
   "interpreter": {
    "hash": "26de051ba29f2982a8de78e945f0abaf191376122a1563185a90213a26c5da77"
   }
  }
 },
 "nbformat": 4,
 "nbformat_minor": 2
}
