{
 "cells": [
  {
   "cell_type": "markdown",
   "metadata": {},
   "source": [
    "## SQL Practice\n",
    "\n",
    "> Authors: Caroline Schmitt & Katie Sylvia\n",
    "\n",
    "\n",
    "In this lab, you're going to have ten prompts. Each prompt will require you to do two things:\n",
    "1. Write a SQL query.\n",
    "2. Use the result of that query to answer the question.\n",
    "\n",
    "**Data**: The data used in this lab is the famous (but fake) Northwind database. It contains various tables of transactions. The schema for the Northwind database can be found [here](./assets/Northwind_ERD.png).\n",
    "\n",
    "**Important**: The table and label names in the SQLite database are **slightly different than the ERD**. In particular, many of the tables names are singular where the ERD lists them as plural, e.g. the `Customers` table in the ERD is actually called `Customer` in the SQLite database. The instructions should provide the correct table names. The field names themselves should be correct.\n",
    "\n",
    "You'll be using Python's `sqlite3` library this time. `sqlite3` comes with Python, so you shouldn't have to install anything. You will once again be passing queries into `pd.read_sql_query()` as strings. If you try to close the notebook and get an alert that there is still a connection to the database, you can run `con.close()` to close the connection. (Alternatively, it should be safe to force exit.)"
   ]
  },
  {
   "cell_type": "code",
   "execution_count": 1,
   "metadata": {},
   "outputs": [],
   "source": [
    "import pandas as pd\n",
    "from pandas.io import sql\n",
    "\n",
    "import sqlite3"
   ]
  },
  {
   "cell_type": "markdown",
   "metadata": {},
   "source": [
    "### Prompt 1\n",
    "\n",
    "How many rows are there in the `Customer` table?"
   ]
  },
  {
   "cell_type": "code",
   "execution_count": 2,
   "metadata": {},
   "outputs": [
    {
     "data": {
      "text/html": [
       "<div>\n",
       "<style scoped>\n",
       "    .dataframe tbody tr th:only-of-type {\n",
       "        vertical-align: middle;\n",
       "    }\n",
       "\n",
       "    .dataframe tbody tr th {\n",
       "        vertical-align: top;\n",
       "    }\n",
       "\n",
       "    .dataframe thead th {\n",
       "        text-align: right;\n",
       "    }\n",
       "</style>\n",
       "<table border=\"1\" class=\"dataframe\">\n",
       "  <thead>\n",
       "    <tr style=\"text-align: right;\">\n",
       "      <th></th>\n",
       "      <th>Id</th>\n",
       "      <th>CompanyName</th>\n",
       "      <th>ContactName</th>\n",
       "      <th>ContactTitle</th>\n",
       "      <th>Address</th>\n",
       "      <th>City</th>\n",
       "      <th>Region</th>\n",
       "      <th>PostalCode</th>\n",
       "      <th>Country</th>\n",
       "      <th>Phone</th>\n",
       "      <th>Fax</th>\n",
       "    </tr>\n",
       "  </thead>\n",
       "  <tbody>\n",
       "    <tr>\n",
       "      <th>0</th>\n",
       "      <td>ALFKI</td>\n",
       "      <td>Alfreds Futterkiste</td>\n",
       "      <td>Maria Anders</td>\n",
       "      <td>Sales Representative</td>\n",
       "      <td>Obere Str. 57</td>\n",
       "      <td>Berlin</td>\n",
       "      <td>Western Europe</td>\n",
       "      <td>12209</td>\n",
       "      <td>Germany</td>\n",
       "      <td>030-0074321</td>\n",
       "      <td>030-0076545</td>\n",
       "    </tr>\n",
       "    <tr>\n",
       "      <th>1</th>\n",
       "      <td>ANATR</td>\n",
       "      <td>Ana Trujillo Emparedados y helados</td>\n",
       "      <td>Ana Trujillo</td>\n",
       "      <td>Owner</td>\n",
       "      <td>Avda. de la Constitución 2222</td>\n",
       "      <td>México D.F.</td>\n",
       "      <td>Central America</td>\n",
       "      <td>05021</td>\n",
       "      <td>Mexico</td>\n",
       "      <td>(5) 555-4729</td>\n",
       "      <td>(5) 555-3745</td>\n",
       "    </tr>\n",
       "    <tr>\n",
       "      <th>2</th>\n",
       "      <td>ANTON</td>\n",
       "      <td>Antonio Moreno Taquería</td>\n",
       "      <td>Antonio Moreno</td>\n",
       "      <td>Owner</td>\n",
       "      <td>Mataderos  2312</td>\n",
       "      <td>México D.F.</td>\n",
       "      <td>Central America</td>\n",
       "      <td>05023</td>\n",
       "      <td>Mexico</td>\n",
       "      <td>(5) 555-3932</td>\n",
       "      <td>None</td>\n",
       "    </tr>\n",
       "    <tr>\n",
       "      <th>3</th>\n",
       "      <td>AROUT</td>\n",
       "      <td>Around the Horn</td>\n",
       "      <td>Thomas Hardy</td>\n",
       "      <td>Sales Representative</td>\n",
       "      <td>120 Hanover Sq.</td>\n",
       "      <td>London</td>\n",
       "      <td>British Isles</td>\n",
       "      <td>WA1 1DP</td>\n",
       "      <td>UK</td>\n",
       "      <td>(171) 555-7788</td>\n",
       "      <td>(171) 555-6750</td>\n",
       "    </tr>\n",
       "    <tr>\n",
       "      <th>4</th>\n",
       "      <td>BERGS</td>\n",
       "      <td>Berglunds snabbköp</td>\n",
       "      <td>Christina Berglund</td>\n",
       "      <td>Order Administrator</td>\n",
       "      <td>Berguvsvägen  8</td>\n",
       "      <td>Luleå</td>\n",
       "      <td>Northern Europe</td>\n",
       "      <td>S-958 22</td>\n",
       "      <td>Sweden</td>\n",
       "      <td>0921-12 34 65</td>\n",
       "      <td>0921-12 34 67</td>\n",
       "    </tr>\n",
       "    <tr>\n",
       "      <th>...</th>\n",
       "      <td>...</td>\n",
       "      <td>...</td>\n",
       "      <td>...</td>\n",
       "      <td>...</td>\n",
       "      <td>...</td>\n",
       "      <td>...</td>\n",
       "      <td>...</td>\n",
       "      <td>...</td>\n",
       "      <td>...</td>\n",
       "      <td>...</td>\n",
       "      <td>...</td>\n",
       "    </tr>\n",
       "    <tr>\n",
       "      <th>86</th>\n",
       "      <td>WARTH</td>\n",
       "      <td>Wartian Herkku</td>\n",
       "      <td>Pirkko Koskitalo</td>\n",
       "      <td>Accounting Manager</td>\n",
       "      <td>Torikatu 38</td>\n",
       "      <td>Oulu</td>\n",
       "      <td>Scandinavia</td>\n",
       "      <td>90110</td>\n",
       "      <td>Finland</td>\n",
       "      <td>981-443655</td>\n",
       "      <td>981-443655</td>\n",
       "    </tr>\n",
       "    <tr>\n",
       "      <th>87</th>\n",
       "      <td>WELLI</td>\n",
       "      <td>Wellington Importadora</td>\n",
       "      <td>Paula Parente</td>\n",
       "      <td>Sales Manager</td>\n",
       "      <td>Rua do Mercado, 12</td>\n",
       "      <td>Resende</td>\n",
       "      <td>South America</td>\n",
       "      <td>08737-363</td>\n",
       "      <td>Brazil</td>\n",
       "      <td>(14) 555-8122</td>\n",
       "      <td>None</td>\n",
       "    </tr>\n",
       "    <tr>\n",
       "      <th>88</th>\n",
       "      <td>WHITC</td>\n",
       "      <td>White Clover Markets</td>\n",
       "      <td>Karl Jablonski</td>\n",
       "      <td>Owner</td>\n",
       "      <td>305 - 14th Ave. S. Suite 3B</td>\n",
       "      <td>Seattle</td>\n",
       "      <td>North America</td>\n",
       "      <td>98128</td>\n",
       "      <td>USA</td>\n",
       "      <td>(206) 555-4112</td>\n",
       "      <td>(206) 555-4115</td>\n",
       "    </tr>\n",
       "    <tr>\n",
       "      <th>89</th>\n",
       "      <td>WILMK</td>\n",
       "      <td>Wilman Kala</td>\n",
       "      <td>Matti Karttunen</td>\n",
       "      <td>Owner/Marketing Assistant</td>\n",
       "      <td>Keskuskatu 45</td>\n",
       "      <td>Helsinki</td>\n",
       "      <td>Scandinavia</td>\n",
       "      <td>21240</td>\n",
       "      <td>Finland</td>\n",
       "      <td>90-224 8858</td>\n",
       "      <td>90-224 8858</td>\n",
       "    </tr>\n",
       "    <tr>\n",
       "      <th>90</th>\n",
       "      <td>WOLZA</td>\n",
       "      <td>Wolski  Zajazd</td>\n",
       "      <td>Zbyszek Piestrzeniewicz</td>\n",
       "      <td>Owner</td>\n",
       "      <td>ul. Filtrowa 68</td>\n",
       "      <td>Warszawa</td>\n",
       "      <td>Eastern Europe</td>\n",
       "      <td>01-012</td>\n",
       "      <td>Poland</td>\n",
       "      <td>(26) 642-7012</td>\n",
       "      <td>(26) 642-7012</td>\n",
       "    </tr>\n",
       "  </tbody>\n",
       "</table>\n",
       "<p>91 rows × 11 columns</p>\n",
       "</div>"
      ],
      "text/plain": [
       "       Id                         CompanyName              ContactName  \\\n",
       "0   ALFKI                 Alfreds Futterkiste             Maria Anders   \n",
       "1   ANATR  Ana Trujillo Emparedados y helados             Ana Trujillo   \n",
       "2   ANTON             Antonio Moreno Taquería           Antonio Moreno   \n",
       "3   AROUT                     Around the Horn             Thomas Hardy   \n",
       "4   BERGS                  Berglunds snabbköp       Christina Berglund   \n",
       "..    ...                                 ...                      ...   \n",
       "86  WARTH                      Wartian Herkku         Pirkko Koskitalo   \n",
       "87  WELLI              Wellington Importadora            Paula Parente   \n",
       "88  WHITC                White Clover Markets           Karl Jablonski   \n",
       "89  WILMK                         Wilman Kala          Matti Karttunen   \n",
       "90  WOLZA                      Wolski  Zajazd  Zbyszek Piestrzeniewicz   \n",
       "\n",
       "                 ContactTitle                        Address         City  \\\n",
       "0        Sales Representative                  Obere Str. 57       Berlin   \n",
       "1                       Owner  Avda. de la Constitución 2222  México D.F.   \n",
       "2                       Owner                Mataderos  2312  México D.F.   \n",
       "3        Sales Representative                120 Hanover Sq.       London   \n",
       "4         Order Administrator                Berguvsvägen  8        Luleå   \n",
       "..                        ...                            ...          ...   \n",
       "86         Accounting Manager                    Torikatu 38         Oulu   \n",
       "87              Sales Manager             Rua do Mercado, 12      Resende   \n",
       "88                      Owner    305 - 14th Ave. S. Suite 3B      Seattle   \n",
       "89  Owner/Marketing Assistant                  Keskuskatu 45     Helsinki   \n",
       "90                      Owner                ul. Filtrowa 68     Warszawa   \n",
       "\n",
       "             Region PostalCode  Country           Phone             Fax  \n",
       "0    Western Europe      12209  Germany     030-0074321     030-0076545  \n",
       "1   Central America      05021   Mexico    (5) 555-4729    (5) 555-3745  \n",
       "2   Central America      05023   Mexico    (5) 555-3932            None  \n",
       "3     British Isles    WA1 1DP       UK  (171) 555-7788  (171) 555-6750  \n",
       "4   Northern Europe   S-958 22   Sweden   0921-12 34 65   0921-12 34 67  \n",
       "..              ...        ...      ...             ...             ...  \n",
       "86      Scandinavia      90110  Finland      981-443655      981-443655  \n",
       "87    South America  08737-363   Brazil   (14) 555-8122            None  \n",
       "88    North America      98128      USA  (206) 555-4112  (206) 555-4115  \n",
       "89      Scandinavia      21240  Finland     90-224 8858     90-224 8858  \n",
       "90   Eastern Europe     01-012   Poland   (26) 642-7012   (26) 642-7012  \n",
       "\n",
       "[91 rows x 11 columns]"
      ]
     },
     "execution_count": 2,
     "metadata": {},
     "output_type": "execute_result"
    }
   ],
   "source": [
    "con = sqlite3.connect('data/Northwind_small.sqlite')\n",
    "\n",
    "# modify this SQL query to answer the question\n",
    "sql = \"\"\"\n",
    "SELECT *\n",
    "FROM Customer;\n",
    "\"\"\"\n",
    "\n",
    "pd.read_sql_query(sql, con)"
   ]
  },
  {
   "cell_type": "markdown",
   "metadata": {},
   "source": [
    "**Prompt 1 Answer**: "
   ]
  },
  {
   "cell_type": "markdown",
   "metadata": {},
   "source": [
    "### Prompt 2\n",
    "\n",
    "If you sort the customers in alphabetical order by name, which customer is fourth?\n",
    "\n",
    "(You can answer this by retrieving the first four customers; you _do not_ need to retrieve only the 4th customer when customers are sorted alphabetically.)"
   ]
  },
  {
   "cell_type": "code",
   "execution_count": 3,
   "metadata": {},
   "outputs": [
    {
     "ename": "TypeError",
     "evalue": "'NoneType' object is not iterable",
     "output_type": "error",
     "traceback": [
      "\u001b[1;31m---------------------------------------------------------------------------\u001b[0m",
      "\u001b[1;31mTypeError\u001b[0m                                 Traceback (most recent call last)",
      "\u001b[1;32mc:\\Users\\jjs61\\OneDrive\\Desktop\\Class\\week_5\\sql-practice-main\\starter-code.ipynb Cell 7\u001b[0m line \u001b[0;36m7\n\u001b[0;32m      <a href='vscode-notebook-cell:/c%3A/Users/jjs61/OneDrive/Desktop/Class/week_5/sql-practice-main/starter-code.ipynb#W6sZmlsZQ%3D%3D?line=0'>1</a>\u001b[0m con \u001b[39m=\u001b[39m sqlite3\u001b[39m.\u001b[39mconnect(\u001b[39m'\u001b[39m\u001b[39mdata/Northwind_small.sqlite\u001b[39m\u001b[39m'\u001b[39m)\n\u001b[0;32m      <a href='vscode-notebook-cell:/c%3A/Users/jjs61/OneDrive/Desktop/Class/week_5/sql-practice-main/starter-code.ipynb#W6sZmlsZQ%3D%3D?line=2'>3</a>\u001b[0m sql \u001b[39m=\u001b[39m \u001b[39m\"\"\"\u001b[39m\n\u001b[0;32m      <a href='vscode-notebook-cell:/c%3A/Users/jjs61/OneDrive/Desktop/Class/week_5/sql-practice-main/starter-code.ipynb#W6sZmlsZQ%3D%3D?line=3'>4</a>\u001b[0m \n\u001b[0;32m      <a href='vscode-notebook-cell:/c%3A/Users/jjs61/OneDrive/Desktop/Class/week_5/sql-practice-main/starter-code.ipynb#W6sZmlsZQ%3D%3D?line=4'>5</a>\u001b[0m \u001b[39m\"\"\"\u001b[39m\n\u001b[1;32m----> <a href='vscode-notebook-cell:/c%3A/Users/jjs61/OneDrive/Desktop/Class/week_5/sql-practice-main/starter-code.ipynb#W6sZmlsZQ%3D%3D?line=6'>7</a>\u001b[0m pd\u001b[39m.\u001b[39;49mread_sql_query(sql, con)\n",
      "File \u001b[1;32mc:\\Users\\jjs61\\AppData\\Local\\Programs\\Python\\Python311\\Lib\\site-packages\\pandas\\io\\sql.py:469\u001b[0m, in \u001b[0;36mread_sql_query\u001b[1;34m(sql, con, index_col, coerce_float, params, parse_dates, chunksize, dtype, dtype_backend)\u001b[0m\n\u001b[0;32m    466\u001b[0m     dtype_backend \u001b[39m=\u001b[39m \u001b[39m\"\u001b[39m\u001b[39mnumpy\u001b[39m\u001b[39m\"\u001b[39m  \u001b[39m# type: ignore[assignment]\u001b[39;00m\n\u001b[0;32m    468\u001b[0m \u001b[39mwith\u001b[39;00m pandasSQL_builder(con) \u001b[39mas\u001b[39;00m pandas_sql:\n\u001b[1;32m--> 469\u001b[0m     \u001b[39mreturn\u001b[39;00m pandas_sql\u001b[39m.\u001b[39;49mread_query(\n\u001b[0;32m    470\u001b[0m         sql,\n\u001b[0;32m    471\u001b[0m         index_col\u001b[39m=\u001b[39;49mindex_col,\n\u001b[0;32m    472\u001b[0m         params\u001b[39m=\u001b[39;49mparams,\n\u001b[0;32m    473\u001b[0m         coerce_float\u001b[39m=\u001b[39;49mcoerce_float,\n\u001b[0;32m    474\u001b[0m         parse_dates\u001b[39m=\u001b[39;49mparse_dates,\n\u001b[0;32m    475\u001b[0m         chunksize\u001b[39m=\u001b[39;49mchunksize,\n\u001b[0;32m    476\u001b[0m         dtype\u001b[39m=\u001b[39;49mdtype,\n\u001b[0;32m    477\u001b[0m         dtype_backend\u001b[39m=\u001b[39;49mdtype_backend,\n\u001b[0;32m    478\u001b[0m     )\n",
      "File \u001b[1;32mc:\\Users\\jjs61\\AppData\\Local\\Programs\\Python\\Python311\\Lib\\site-packages\\pandas\\io\\sql.py:2267\u001b[0m, in \u001b[0;36mSQLiteDatabase.read_query\u001b[1;34m(self, sql, index_col, coerce_float, parse_dates, params, chunksize, dtype, dtype_backend)\u001b[0m\n\u001b[0;32m   2255\u001b[0m \u001b[39mdef\u001b[39;00m \u001b[39mread_query\u001b[39m(\n\u001b[0;32m   2256\u001b[0m     \u001b[39mself\u001b[39m,\n\u001b[0;32m   2257\u001b[0m     sql,\n\u001b[1;32m   (...)\u001b[0m\n\u001b[0;32m   2264\u001b[0m     dtype_backend: DtypeBackend \u001b[39m|\u001b[39m Literal[\u001b[39m\"\u001b[39m\u001b[39mnumpy\u001b[39m\u001b[39m\"\u001b[39m] \u001b[39m=\u001b[39m \u001b[39m\"\u001b[39m\u001b[39mnumpy\u001b[39m\u001b[39m\"\u001b[39m,\n\u001b[0;32m   2265\u001b[0m ) \u001b[39m-\u001b[39m\u001b[39m>\u001b[39m DataFrame \u001b[39m|\u001b[39m Iterator[DataFrame]:\n\u001b[0;32m   2266\u001b[0m     cursor \u001b[39m=\u001b[39m \u001b[39mself\u001b[39m\u001b[39m.\u001b[39mexecute(sql, params)\n\u001b[1;32m-> 2267\u001b[0m     columns \u001b[39m=\u001b[39m [col_desc[\u001b[39m0\u001b[39m] \u001b[39mfor\u001b[39;00m col_desc \u001b[39min\u001b[39;00m cursor\u001b[39m.\u001b[39mdescription]\n\u001b[0;32m   2269\u001b[0m     \u001b[39mif\u001b[39;00m chunksize \u001b[39mis\u001b[39;00m \u001b[39mnot\u001b[39;00m \u001b[39mNone\u001b[39;00m:\n\u001b[0;32m   2270\u001b[0m         \u001b[39mreturn\u001b[39;00m \u001b[39mself\u001b[39m\u001b[39m.\u001b[39m_query_iterator(\n\u001b[0;32m   2271\u001b[0m             cursor,\n\u001b[0;32m   2272\u001b[0m             chunksize,\n\u001b[1;32m   (...)\u001b[0m\n\u001b[0;32m   2278\u001b[0m             dtype_backend\u001b[39m=\u001b[39mdtype_backend,\n\u001b[0;32m   2279\u001b[0m         )\n",
      "\u001b[1;31mTypeError\u001b[0m: 'NoneType' object is not iterable"
     ]
    }
   ],
   "source": [
    "con = sqlite3.connect('data/Northwind_small.sqlite')\n",
    "\n",
    "sql = \"\"\"\n",
    "\n",
    "\"\"\"\n",
    "\n",
    "pd.read_sql_query(sql, con)"
   ]
  },
  {
   "cell_type": "markdown",
   "metadata": {},
   "source": [
    "**Prompt 2 Answer**: \n",
    "\n"
   ]
  },
  {
   "cell_type": "markdown",
   "metadata": {},
   "source": [
    "### Prompt 3\n",
    "\n",
    "Among those customers who live in Germany, if you sort the customers in alphabetical order by name, which customer is fourth?"
   ]
  },
  {
   "cell_type": "code",
   "execution_count": null,
   "metadata": {},
   "outputs": [],
   "source": [
    "# Use a SQL query to find the answer to the above prompt.\n",
    "con = sqlite3.connect('data/Northwind_small.sqlite')\n",
    "\n",
    "sql = \"\"\"\n",
    "\n",
    "\"\"\"\n",
    "\n",
    "pd.read_sql_query(sql, con)"
   ]
  },
  {
   "cell_type": "markdown",
   "metadata": {},
   "source": [
    "**Prompt 3 Answer**: "
   ]
  },
  {
   "cell_type": "markdown",
   "metadata": {},
   "source": [
    "### Prompt 4\n",
    "\n",
    "From the `Employee` table, what are the first names of the individuals who have a birthdate in the 1960s?"
   ]
  },
  {
   "cell_type": "code",
   "execution_count": null,
   "metadata": {},
   "outputs": [],
   "source": [
    "# Use a SQL query to find the answer to the above prompt.\n",
    "con = sqlite3.connect('data/Northwind_small.sqlite')\n",
    "\n",
    "sql = \"\"\"\n",
    "\n",
    "\"\"\"\n",
    "\n",
    "pd.read_sql_query(sql, con)"
   ]
  },
  {
   "cell_type": "markdown",
   "metadata": {},
   "source": [
    "**Prompt 4 Answer**: "
   ]
  },
  {
   "cell_type": "markdown",
   "metadata": {},
   "source": [
    "### Prompt 5\n",
    "\n",
    "In `OrderDetail` table, what is the total number of units sold for products 2, 3, and 4? \n",
    "\n",
    "You should give us three numbers - one for each `ProductID`.\n",
    "\n",
    "> You can solve this with either three separate queries, or with just one query."
   ]
  },
  {
   "cell_type": "code",
   "execution_count": null,
   "metadata": {
    "tags": []
   },
   "outputs": [],
   "source": [
    "# Use a SQL query to find the answer to the above prompt.\n",
    "con = sqlite3.connect('data/Northwind_small.sqlite')\n",
    "\n",
    "sql = \"\"\"\n",
    "\n",
    "\"\"\"\n",
    "\n",
    "pd.read_sql_query(sql, con)"
   ]
  },
  {
   "cell_type": "markdown",
   "metadata": {},
   "source": [
    "**Prompt 5 Answer**:"
   ]
  },
  {
   "cell_type": "markdown",
   "metadata": {},
   "source": [
    "### Prompt 6\n",
    "\n",
    "From the `OrderDetail` table, calculate the revenue per product. In your SQL output, rename the revenue column `Revenue` and sort your results from largest revenue per product to smallest revenue per product. Which `ProductID` has the fifth-highest revenue, and what is that revenue rounded to the nearest dollar?\n",
    "\n",
    "Note that revenue for a given product should be equal to the total unit price of that product times the quantity. You do not need to worry about the discount here. If you haven't multiplied columns together before, [this StackOverflow question](https://stackoverflow.com/questions/7536996/multiplying-two-columns-in-sql-server/7537059) may be helpful."
   ]
  },
  {
   "cell_type": "code",
   "execution_count": null,
   "metadata": {},
   "outputs": [],
   "source": [
    "# Use a SQL query to find the answer to the above prompt.\n",
    "con = sqlite3.connect('data/Northwind_small.sqlite')\n",
    "\n",
    "sql = \"\"\"\n",
    "\n",
    "\"\"\"\n",
    "\n",
    "pd.read_sql_query(sql, con)"
   ]
  },
  {
   "cell_type": "markdown",
   "metadata": {},
   "source": [
    "**Prompt 6 Answer**:"
   ]
  },
  {
   "cell_type": "markdown",
   "metadata": {},
   "source": [
    "### Prompt 7\n",
    "\n",
    "From the `Product` table, show the `ProductName`, `UnitsInStock`, and `UnitsOnOrder` values for those products who have more units on order than units in stock. Among these results, which product has the most units on order?"
   ]
  },
  {
   "cell_type": "code",
   "execution_count": null,
   "metadata": {},
   "outputs": [],
   "source": [
    "# Use a SQL query to find the answer to the above prompt.\n",
    "con = sqlite3.connect('data/Northwind_small.sqlite')\n",
    "\n",
    "sql = \"\"\"\n",
    "\n",
    "\"\"\"\n",
    "\n",
    "pd.read_sql_query(sql, con)"
   ]
  },
  {
   "cell_type": "markdown",
   "metadata": {},
   "source": [
    "**Prompt 7 Answer**:"
   ]
  },
  {
   "cell_type": "markdown",
   "metadata": {},
   "source": [
    "### Prompt 8\n",
    "\n",
    "From the `OrderDetail` table, show the products that have an average discount of at least 8%. Among these results, which average discount is closest to 8%?"
   ]
  },
  {
   "cell_type": "code",
   "execution_count": null,
   "metadata": {},
   "outputs": [],
   "source": [
    "# Use a SQL query to find the answer to the above prompt.\n",
    "con = sqlite3.connect('data/Northwind_small.sqlite')\n",
    "\n",
    "sql = \"\"\"\n",
    "\n",
    "\"\"\"\n",
    "\n",
    "pd.read_sql_query(sql, con)"
   ]
  },
  {
   "cell_type": "markdown",
   "metadata": {},
   "source": [
    "**Prompt 8 Answer**:"
   ]
  },
  {
   "cell_type": "markdown",
   "metadata": {},
   "source": [
    "### Prompt 9\n",
    "\n",
    "Return the `Orders` table, but also include the first name, last name, and country of the employee assigned to each order (you'll need the `Employee` table for this.) What is the first and last name of the employee assigned to OrderID 11077?"
   ]
  },
  {
   "cell_type": "code",
   "execution_count": null,
   "metadata": {},
   "outputs": [],
   "source": [
    "con = sqlite3.connect('data/Northwind_small.sqlite')\n",
    "\n",
    "sql = \"\"\"\n",
    "\n",
    "\"\"\"\n",
    "\n",
    "pd.read_sql_query(sql, con)"
   ]
  },
  {
   "cell_type": "markdown",
   "metadata": {},
   "source": [
    "**Prompt 9 Answer**:"
   ]
  },
  {
   "cell_type": "markdown",
   "metadata": {},
   "source": [
    "### Prompt 10\n",
    "\n",
    "Find the average amount of freight across all orders, broken out by country of *employee*. (**NOT `ShipCountry`**.) How much higher is the average freight from UK employees than the average freight from US employees?\n",
    "\n",
    "> For a bonus, round the freight to the nearest whole number and rename the column `Average Freight`."
   ]
  },
  {
   "cell_type": "code",
   "execution_count": null,
   "metadata": {},
   "outputs": [],
   "source": [
    "con = sqlite3.connect('data/Northwind_small.sqlite')\n",
    "\n",
    "sql = \"\"\"\n",
    "\n",
    "\"\"\"\n",
    "\n",
    "pd.read_sql_query(sql, con)"
   ]
  },
  {
   "cell_type": "markdown",
   "metadata": {},
   "source": [
    "**Prompt 10 Answer**:\n",
    "\n",
    "---\n",
    "\n",
    "Once you're done, run the following cell to close your connection to the database:"
   ]
  },
  {
   "cell_type": "code",
   "execution_count": null,
   "metadata": {},
   "outputs": [],
   "source": [
    "con.close()"
   ]
  }
 ],
 "metadata": {
  "kernelspec": {
   "display_name": "Python 3 (ipykernel)",
   "language": "python",
   "name": "python3"
  },
  "language_info": {
   "codemirror_mode": {
    "name": "ipython",
    "version": 3
   },
   "file_extension": ".py",
   "mimetype": "text/x-python",
   "name": "python",
   "nbconvert_exporter": "python",
   "pygments_lexer": "ipython3",
   "version": "3.11.5"
  },
  "varInspector": {
   "cols": {
    "lenName": 16,
    "lenType": 16,
    "lenVar": 40
   },
   "kernels_config": {
    "python": {
     "delete_cmd_postfix": "",
     "delete_cmd_prefix": "del ",
     "library": "var_list.py",
     "varRefreshCmd": "print(var_dic_list())"
    },
    "r": {
     "delete_cmd_postfix": ") ",
     "delete_cmd_prefix": "rm(",
     "library": "var_list.r",
     "varRefreshCmd": "cat(var_dic_list()) "
    }
   },
   "types_to_exclude": [
    "module",
    "function",
    "builtin_function_or_method",
    "instance",
    "_Feature"
   ],
   "window_display": false
  }
 },
 "nbformat": 4,
 "nbformat_minor": 4
}
