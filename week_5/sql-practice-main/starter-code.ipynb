{
 "cells": [
  {
   "cell_type": "markdown",
   "metadata": {},
   "source": [
    "## SQL Practice\n",
    "\n",
    "> Authors: Caroline Schmitt & Katie Sylvia\n",
    "\n",
    "\n",
    "In this lab, you're going to have ten prompts. Each prompt will require you to do two things:\n",
    "1. Write a SQL query.\n",
    "2. Use the result of that query to answer the question.\n",
    "\n",
    "**Data**: The data used in this lab is the famous (but fake) Northwind database. It contains various tables of transactions. The schema for the Northwind database can be found [here](./assets/Northwind_ERD.png).\n",
    "\n",
    "**Important**: The table and label names in the SQLite database are **slightly different than the ERD**. In particular, many of the tables names are singular where the ERD lists them as plural, e.g. the `Customers` table in the ERD is actually called `Customer` in the SQLite database. The instructions should provide the correct table names. The field names themselves should be correct.\n",
    "\n",
    "You'll be using Python's `sqlite3` library this time. `sqlite3` comes with Python, so you shouldn't have to install anything. You will once again be passing queries into `pd.read_sql_query()` as strings. If you try to close the notebook and get an alert that there is still a connection to the database, you can run `con.close()` to close the connection. (Alternatively, it should be safe to force exit.)"
   ]
  },
  {
   "cell_type": "code",
   "execution_count": null,
   "metadata": {},
   "outputs": [],
   "source": [
    "import pandas as pd\n",
    "from pandas.io import sql\n",
    "\n",
    "import sqlite3"
   ]
  },
  {
   "cell_type": "markdown",
   "metadata": {},
   "source": [
    "### Prompt 1\n",
    "\n",
    "How many rows are there in the `Customer` table?"
   ]
  },
  {
   "cell_type": "code",
   "execution_count": null,
   "metadata": {},
   "outputs": [],
   "source": [
    "con = sqlite3.connect('data/Northwind_small.sqlite')\n",
    "\n",
    "# modify this SQL query to answer the question\n",
    "sql = \"\"\"\n",
    "SELECT *\n",
    "FROM Customer;\n",
    "\"\"\"\n",
    "\n",
    "pd.read_sql_query(sql, con)"
   ]
  },
  {
   "cell_type": "markdown",
   "metadata": {},
   "source": [
    "**Prompt 1 Answer**: "
   ]
  },
  {
   "cell_type": "markdown",
   "metadata": {},
   "source": [
    "### Prompt 2\n",
    "\n",
    "If you sort the customers in alphabetical order by name, which customer is fourth?\n",
    "\n",
    "(You can answer this by retrieving the first four customers; you _do not_ need to retrieve only the 4th customer when customers are sorted alphabetically.)"
   ]
  },
  {
   "cell_type": "code",
   "execution_count": null,
   "metadata": {},
   "outputs": [],
   "source": [
    "con = sqlite3.connect('data/Northwind_small.sqlite')\n",
    "\n",
    "sql = \"\"\"\n",
    "\n",
    "\"\"\"\n",
    "\n",
    "pd.read_sql_query(sql, con)"
   ]
  },
  {
   "cell_type": "markdown",
   "metadata": {},
   "source": [
    "**Prompt 2 Answer**: \n",
    "\n"
   ]
  },
  {
   "cell_type": "markdown",
   "metadata": {},
   "source": [
    "### Prompt 3\n",
    "\n",
    "Among those customers who live in Germany, if you sort the customers in alphabetical order by name, which customer is fourth?"
   ]
  },
  {
   "cell_type": "code",
   "execution_count": null,
   "metadata": {},
   "outputs": [],
   "source": [
    "# Use a SQL query to find the answer to the above prompt.\n",
    "con = sqlite3.connect('data/Northwind_small.sqlite')\n",
    "\n",
    "sql = \"\"\"\n",
    "\n",
    "\"\"\"\n",
    "\n",
    "pd.read_sql_query(sql, con)"
   ]
  },
  {
   "cell_type": "markdown",
   "metadata": {},
   "source": [
    "**Prompt 3 Answer**: "
   ]
  },
  {
   "cell_type": "markdown",
   "metadata": {},
   "source": [
    "### Prompt 4\n",
    "\n",
    "From the `Employee` table, what are the first names of the individuals who have a birthdate in the 1960s?"
   ]
  },
  {
   "cell_type": "code",
   "execution_count": null,
   "metadata": {},
   "outputs": [],
   "source": [
    "# Use a SQL query to find the answer to the above prompt.\n",
    "con = sqlite3.connect('data/Northwind_small.sqlite')\n",
    "\n",
    "sql = \"\"\"\n",
    "\n",
    "\"\"\"\n",
    "\n",
    "pd.read_sql_query(sql, con)"
   ]
  },
  {
   "cell_type": "markdown",
   "metadata": {},
   "source": [
    "**Prompt 4 Answer**: "
   ]
  },
  {
   "cell_type": "markdown",
   "metadata": {},
   "source": [
    "### Prompt 5\n",
    "\n",
    "In `OrderDetail` table, what is the total number of units sold for products 2, 3, and 4? \n",
    "\n",
    "You should give us three numbers - one for each `ProductID`.\n",
    "\n",
    "> You can solve this with either three separate queries, or with just one query."
   ]
  },
  {
   "cell_type": "code",
   "execution_count": null,
   "metadata": {
    "tags": []
   },
   "outputs": [],
   "source": [
    "# Use a SQL query to find the answer to the above prompt.\n",
    "con = sqlite3.connect('data/Northwind_small.sqlite')\n",
    "\n",
    "sql = \"\"\"\n",
    "\n",
    "\"\"\"\n",
    "\n",
    "pd.read_sql_query(sql, con)"
   ]
  },
  {
   "cell_type": "markdown",
   "metadata": {},
   "source": [
    "**Prompt 5 Answer**:"
   ]
  },
  {
   "cell_type": "markdown",
   "metadata": {},
   "source": [
    "### Prompt 6\n",
    "\n",
    "From the `OrderDetail` table, calculate the revenue per product. In your SQL output, rename the revenue column `Revenue` and sort your results from largest revenue per product to smallest revenue per product. Which `ProductID` has the fifth-highest revenue, and what is that revenue rounded to the nearest dollar?\n",
    "\n",
    "Note that revenue for a given product should be equal to the total unit price of that product times the quantity. You do not need to worry about the discount here. If you haven't multiplied columns together before, [this StackOverflow question](https://stackoverflow.com/questions/7536996/multiplying-two-columns-in-sql-server/7537059) may be helpful."
   ]
  },
  {
   "cell_type": "code",
   "execution_count": null,
   "metadata": {},
   "outputs": [],
   "source": [
    "# Use a SQL query to find the answer to the above prompt.\n",
    "con = sqlite3.connect('data/Northwind_small.sqlite')\n",
    "\n",
    "sql = \"\"\"\n",
    "\n",
    "\"\"\"\n",
    "\n",
    "pd.read_sql_query(sql, con)"
   ]
  },
  {
   "cell_type": "markdown",
   "metadata": {},
   "source": [
    "**Prompt 6 Answer**:"
   ]
  },
  {
   "cell_type": "markdown",
   "metadata": {},
   "source": [
    "### Prompt 7\n",
    "\n",
    "From the `Product` table, show the `ProductName`, `UnitsInStock`, and `UnitsOnOrder` values for those products who have more units on order than units in stock. Among these results, which product has the most units on order?"
   ]
  },
  {
   "cell_type": "code",
   "execution_count": null,
   "metadata": {},
   "outputs": [],
   "source": [
    "# Use a SQL query to find the answer to the above prompt.\n",
    "con = sqlite3.connect('data/Northwind_small.sqlite')\n",
    "\n",
    "sql = \"\"\"\n",
    "\n",
    "\"\"\"\n",
    "\n",
    "pd.read_sql_query(sql, con)"
   ]
  },
  {
   "cell_type": "markdown",
   "metadata": {},
   "source": [
    "**Prompt 7 Answer**:"
   ]
  },
  {
   "cell_type": "markdown",
   "metadata": {},
   "source": [
    "### Prompt 8\n",
    "\n",
    "From the `OrderDetail` table, show the products that have an average discount of at least 8%. Among these results, which average discount is closest to 8%?"
   ]
  },
  {
   "cell_type": "code",
   "execution_count": null,
   "metadata": {},
   "outputs": [],
   "source": [
    "# Use a SQL query to find the answer to the above prompt.\n",
    "con = sqlite3.connect('data/Northwind_small.sqlite')\n",
    "\n",
    "sql = \"\"\"\n",
    "\n",
    "\"\"\"\n",
    "\n",
    "pd.read_sql_query(sql, con)"
   ]
  },
  {
   "cell_type": "markdown",
   "metadata": {},
   "source": [
    "**Prompt 8 Answer**:"
   ]
  },
  {
   "cell_type": "markdown",
   "metadata": {},
   "source": [
    "### Prompt 9\n",
    "\n",
    "Return the `Orders` table, but also include the first name, last name, and country of the employee assigned to each order (you'll need the `Employee` table for this.) What is the first and last name of the employee assigned to OrderID 11077?"
   ]
  },
  {
   "cell_type": "code",
   "execution_count": null,
   "metadata": {},
   "outputs": [],
   "source": [
    "con = sqlite3.connect('data/Northwind_small.sqlite')\n",
    "\n",
    "sql = \"\"\"\n",
    "\n",
    "\"\"\"\n",
    "\n",
    "pd.read_sql_query(sql, con)"
   ]
  },
  {
   "cell_type": "markdown",
   "metadata": {},
   "source": [
    "**Prompt 9 Answer**:"
   ]
  },
  {
   "cell_type": "markdown",
   "metadata": {},
   "source": [
    "### Prompt 10\n",
    "\n",
    "Find the average amount of freight across all orders, broken out by country of *employee*. (**NOT `ShipCountry`**.) How much higher is the average freight from UK employees than the average freight from US employees?\n",
    "\n",
    "> For a bonus, round the freight to the nearest whole number and rename the column `Average Freight`."
   ]
  },
  {
   "cell_type": "code",
   "execution_count": null,
   "metadata": {},
   "outputs": [],
   "source": [
    "con = sqlite3.connect('data/Northwind_small.sqlite')\n",
    "\n",
    "sql = \"\"\"\n",
    "\n",
    "\"\"\"\n",
    "\n",
    "pd.read_sql_query(sql, con)"
   ]
  },
  {
   "cell_type": "markdown",
   "metadata": {},
   "source": [
    "**Prompt 10 Answer**:\n",
    "\n",
    "---\n",
    "\n",
    "Once you're done, run the following cell to close your connection to the database:"
   ]
  },
  {
   "cell_type": "code",
   "execution_count": null,
   "metadata": {},
   "outputs": [],
   "source": [
    "con.close()"
   ]
  }
 ],
 "metadata": {
  "kernelspec": {
   "display_name": "Python 3 (ipykernel)",
   "language": "python",
   "name": "python3"
  },
  "language_info": {
   "codemirror_mode": {
    "name": "ipython",
    "version": 3
   },
   "file_extension": ".py",
   "mimetype": "text/x-python",
   "name": "python",
   "nbconvert_exporter": "python",
   "pygments_lexer": "ipython3",
   "version": "3.8.8"
  },
  "varInspector": {
   "cols": {
    "lenName": 16,
    "lenType": 16,
    "lenVar": 40
   },
   "kernels_config": {
    "python": {
     "delete_cmd_postfix": "",
     "delete_cmd_prefix": "del ",
     "library": "var_list.py",
     "varRefreshCmd": "print(var_dic_list())"
    },
    "r": {
     "delete_cmd_postfix": ") ",
     "delete_cmd_prefix": "rm(",
     "library": "var_list.r",
     "varRefreshCmd": "cat(var_dic_list()) "
    }
   },
   "types_to_exclude": [
    "module",
    "function",
    "builtin_function_or_method",
    "instance",
    "_Feature"
   ],
   "window_display": false
  }
 },
 "nbformat": 4,
 "nbformat_minor": 4
}
