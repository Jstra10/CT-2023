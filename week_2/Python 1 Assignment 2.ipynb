{
 "cells": [
  {
   "attachments": {},
   "cell_type": "markdown",
   "metadata": {},
   "source": [
    "# Coding Temple's Data Analytics Course\n",
    "---\n",
    "## Python 1: Assignment 2\n",
    "---"
   ]
  },
  {
   "cell_type": "code",
   "execution_count": null,
   "metadata": {},
   "outputs": [],
   "source": []
  },
  {
   "cell_type": "code",
   "execution_count": null,
   "metadata": {},
   "outputs": [],
   "source": []
  },
  {
   "attachments": {},
   "cell_type": "markdown",
   "metadata": {},
   "source": [
    "### **Task 1: List Comprehension**\n",
    "Given a list as a parameter, write a function named `less_than_10`, that uses list comprehension to returns the input list with all numbers less than 10."
   ]
  },
  {
   "cell_type": "code",
   "execution_count": 6,
   "metadata": {},
   "outputs": [
    {
     "name": "stdout",
     "output_type": "stream",
     "text": [
      "[1e-05, 2, 3, 4, 5, 7]\n"
     ]
    }
   ],
   "source": [
    "# YOUR CODE HERE\n",
    "\n",
    "def less_than_10(user_list):\n",
    "    new_list = [x for x in user_list if x < 10]\n",
    "    return new_list\n",
    "\n",
    "print(less_than_10([0.00001,2,3,4,5,7,10000000000000000]))\n",
    "\n",
    "\n",
    "\n",
    "\n"
   ]
  },
  {
   "cell_type": "code",
   "execution_count": 7,
   "metadata": {},
   "outputs": [],
   "source": [
    "my_list = [3,20,13,2,77,88,-8]\n"
   ]
  },
  {
   "attachments": {},
   "cell_type": "markdown",
   "metadata": {},
   "source": [
    "### **Task 1 Testing**\n",
    "This cell is to test your task 1"
   ]
  },
  {
   "cell_type": "code",
   "execution_count": 8,
   "metadata": {},
   "outputs": [],
   "source": [
    "# DO NOT EDIT THIS CELL\n",
    "a = [1,2,5,9,55,781,25,478,15,7,99]\n",
    "a_test = [1,2,5,9,7]\n",
    "assert less_than_10(a) == a_test, 'Double check that your function is working properly!'"
   ]
  },
  {
   "attachments": {},
   "cell_type": "markdown",
   "metadata": {},
   "source": [
    "### **Task 2: Merge**\n",
    "Write a function named `merge_lists` that takes two seperate lists as arguments and returns the two lists merged together AND sorted."
   ]
  },
  {
   "cell_type": "code",
   "execution_count": 9,
   "metadata": {},
   "outputs": [],
   "source": [
    "# YOUR CODE HERE\n",
    "\"\"\"list_1 = [3,1,4]\n",
    "list_2 = [1,5,9]\n",
    "list_1_and_2 =list_1 + list_2\n",
    "sorted(list_1_and_2)\"\"\"\n",
    "list_1 = [3,1,4]\n",
    "list_2 = [1,5,9]\n",
    "\n",
    "\n",
    "def merge_lists(entered_list):\n",
    "    new_list = sorted(list_1 + list_2)\n",
    "    return sorted(new_list)\n",
    "\n"
   ]
  },
  {
   "attachments": {},
   "cell_type": "markdown",
   "metadata": {},
   "source": [
    "### **Task 2 Testing**\n",
    "This cell is to test your task 2"
   ]
  },
  {
   "cell_type": "code",
   "execution_count": 10,
   "metadata": {},
   "outputs": [
    {
     "ename": "TypeError",
     "evalue": "merge_lists() takes 1 positional argument but 2 were given",
     "output_type": "error",
     "traceback": [
      "\u001b[1;31m---------------------------------------------------------------------------\u001b[0m",
      "\u001b[1;31mTypeError\u001b[0m                                 Traceback (most recent call last)",
      "\u001b[1;32mc:\\Users\\jjs61\\OneDrive\\Desktop\\Data Analytics\\Coding_Temple\\week_2\\Python 1 Assignment 2.ipynb Cell 12\u001b[0m line \u001b[0;36m4\n\u001b[0;32m      <a href='vscode-notebook-cell:/c%3A/Users/jjs61/OneDrive/Desktop/Data%20Analytics/Coding_Temple/week_2/Python%201%20Assignment%202.ipynb#X14sZmlsZQ%3D%3D?line=1'>2</a>\u001b[0m l_2 \u001b[39m=\u001b[39m [\u001b[39m2\u001b[39m,\u001b[39m6\u001b[39m,\u001b[39m3\u001b[39m]\n\u001b[0;32m      <a href='vscode-notebook-cell:/c%3A/Users/jjs61/OneDrive/Desktop/Data%20Analytics/Coding_Temple/week_2/Python%201%20Assignment%202.ipynb#X14sZmlsZQ%3D%3D?line=2'>3</a>\u001b[0m answer \u001b[39m=\u001b[39m [\u001b[39m1\u001b[39m,\u001b[39m2\u001b[39m,\u001b[39m3\u001b[39m,\u001b[39m4\u001b[39m,\u001b[39m5\u001b[39m,\u001b[39m6\u001b[39m]\n\u001b[1;32m----> <a href='vscode-notebook-cell:/c%3A/Users/jjs61/OneDrive/Desktop/Data%20Analytics/Coding_Temple/week_2/Python%201%20Assignment%202.ipynb#X14sZmlsZQ%3D%3D?line=3'>4</a>\u001b[0m \u001b[39massert\u001b[39;00m merge_lists(l_1, l_2) \u001b[39m==\u001b[39m answer, \u001b[39m'\u001b[39m\u001b[39mDouble Check your function is performing properly!\u001b[39m\u001b[39m'\u001b[39m\n",
      "\u001b[1;31mTypeError\u001b[0m: merge_lists() takes 1 positional argument but 2 were given"
     ]
    }
   ],
   "source": [
    "l_1 = [1,5,4]\n",
    "l_2 = [2,6,3]\n",
    "answer = [1,2,3,4,5,6]\n",
    "assert merge_lists(l_1, l_2) == answer, 'Double Check your function is performing properly!'"
   ]
  },
  {
   "attachments": {},
   "cell_type": "markdown",
   "metadata": {},
   "source": [
    "### **Task 3.1: List Creation**\n",
    "Create a three seperate lists. Save these lists as:\n",
    "* `first_names`: List of 10 first names\n",
    "* `middle_names`: List of 10 middle names\n",
    "* `last_names`: List of 10 last names"
   ]
  },
  {
   "cell_type": "code",
   "execution_count": null,
   "metadata": {},
   "outputs": [],
   "source": [
    "# YOUR CODE HERE\n",
    "first_names = ['katie', 'james', 'jen', 'jamie', 'kalie', 'curt', 'george', 'lisa', 'joe', 'bill']\n",
    "middle_names = ['alex', 'sarah', 'melissa', 'bre', 'josh', 'will', 'elon', 'lex', 'rex', 'andrew']\n",
    "last_names = ['Johnson', 'smithson','Johnsonton', 'smithers','Johnsoners', 'smith','Johnson', 'smith','Johnson', 'smith',]         "
   ]
  },
  {
   "attachments": {},
   "cell_type": "markdown",
   "metadata": {},
   "source": [
    "### **Task 3.2: Range Function**\n",
    "Using the three lists you created in the last task, build a function named `name_generator` which takes in each of these lists as an input and performs the following:\n",
    "\n",
    "* Iterates through each list using a range\n",
    "* Creates a `full_name` variable, which has a first, middle, and last name\n",
    "* Saves the `full_name` to the list `full_names`\n",
    "* Returns the `full_names` list"
   ]
  },
  {
   "cell_type": "code",
   "execution_count": null,
   "metadata": {},
   "outputs": [],
   "source": [
    "# YOUR CODE HERE\n",
    "def name_generator(first_names, middle_names, last_names):\n",
    "    full_names = []\n",
    "    for i in len(first_names):\n",
    "        full_name = f\"{first_names[i]} {middle_names[i]} {last_names[i]}\"\n",
    "        full_names.append(full_name)\n",
    "    return full_names    \n",
    "\n",
    "\n"
   ]
  },
  {
   "attachments": {},
   "cell_type": "markdown",
   "metadata": {},
   "source": [
    "### **Task 3 Testing**\n",
    "This cell is to test your task 3"
   ]
  },
  {
   "cell_type": "code",
   "execution_count": null,
   "metadata": {},
   "outputs": [
    {
     "ename": "TypeError",
     "evalue": "'int' object is not iterable",
     "output_type": "error",
     "traceback": [
      "\u001b[1;31m---------------------------------------------------------------------------\u001b[0m",
      "\u001b[1;31mTypeError\u001b[0m                                 Traceback (most recent call last)",
      "\u001b[1;32mc:\\Users\\jjs61\\OneDrive\\Desktop\\Data Analytics\\Coding_Temple\\week_2\\Python 1 Assignment 2.ipynb Cell 16\u001b[0m line \u001b[0;36m6\n\u001b[0;32m      <a href='vscode-notebook-cell:/c%3A/Users/jjs61/OneDrive/Desktop/Data%20Analytics/Coding_Temple/week_2/Python%201%20Assignment%202.ipynb#X21sZmlsZQ%3D%3D?line=3'>4</a>\u001b[0m last \u001b[39m=\u001b[39m [\u001b[39m'\u001b[39m\u001b[39mLucchesi\u001b[39m\u001b[39m'\u001b[39m, \u001b[39m'\u001b[39m\u001b[39mApol\u001b[39m\u001b[39m'\u001b[39m, \u001b[39m'\u001b[39m\u001b[39mFuentes\u001b[39m\u001b[39m'\u001b[39m]\n\u001b[0;32m      <a href='vscode-notebook-cell:/c%3A/Users/jjs61/OneDrive/Desktop/Data%20Analytics/Coding_Temple/week_2/Python%201%20Assignment%202.ipynb#X21sZmlsZQ%3D%3D?line=4'>5</a>\u001b[0m answer \u001b[39m=\u001b[39m [\u001b[39m'\u001b[39m\u001b[39mAlex The Rock Lucchesi\u001b[39m\u001b[39m'\u001b[39m,\u001b[39m'\u001b[39m\u001b[39mBrandon The Paper Apol\u001b[39m\u001b[39m'\u001b[39m,\u001b[39m'\u001b[39m\u001b[39mNick The Scissors Fuentes\u001b[39m\u001b[39m'\u001b[39m]\n\u001b[1;32m----> <a href='vscode-notebook-cell:/c%3A/Users/jjs61/OneDrive/Desktop/Data%20Analytics/Coding_Temple/week_2/Python%201%20Assignment%202.ipynb#X21sZmlsZQ%3D%3D?line=5'>6</a>\u001b[0m \u001b[39massert\u001b[39;00m name_generator(first,middle,last) \u001b[39m==\u001b[39m answer, \u001b[39m'\u001b[39m\u001b[39mDouble check that your function is performing the way it is supposed to!\u001b[39m\u001b[39m'\u001b[39m\n",
      "\u001b[1;32mc:\\Users\\jjs61\\OneDrive\\Desktop\\Data Analytics\\Coding_Temple\\week_2\\Python 1 Assignment 2.ipynb Cell 16\u001b[0m line \u001b[0;36m4\n\u001b[0;32m      <a href='vscode-notebook-cell:/c%3A/Users/jjs61/OneDrive/Desktop/Data%20Analytics/Coding_Temple/week_2/Python%201%20Assignment%202.ipynb#X21sZmlsZQ%3D%3D?line=1'>2</a>\u001b[0m \u001b[39mdef\u001b[39;00m \u001b[39mname_generator\u001b[39m(first_names, middle_names, last_names):\n\u001b[0;32m      <a href='vscode-notebook-cell:/c%3A/Users/jjs61/OneDrive/Desktop/Data%20Analytics/Coding_Temple/week_2/Python%201%20Assignment%202.ipynb#X21sZmlsZQ%3D%3D?line=2'>3</a>\u001b[0m     full_names \u001b[39m=\u001b[39m []\n\u001b[1;32m----> <a href='vscode-notebook-cell:/c%3A/Users/jjs61/OneDrive/Desktop/Data%20Analytics/Coding_Temple/week_2/Python%201%20Assignment%202.ipynb#X21sZmlsZQ%3D%3D?line=3'>4</a>\u001b[0m     \u001b[39mfor\u001b[39;00m i \u001b[39min\u001b[39;00m \u001b[39mlen\u001b[39m(first_names):\n\u001b[0;32m      <a href='vscode-notebook-cell:/c%3A/Users/jjs61/OneDrive/Desktop/Data%20Analytics/Coding_Temple/week_2/Python%201%20Assignment%202.ipynb#X21sZmlsZQ%3D%3D?line=4'>5</a>\u001b[0m         full_name \u001b[39m=\u001b[39m \u001b[39mf\u001b[39m\u001b[39m\"\u001b[39m\u001b[39m{\u001b[39;00mfirst_names[i]\u001b[39m}\u001b[39;00m\u001b[39m \u001b[39m\u001b[39m{\u001b[39;00mmiddle_names[i]\u001b[39m}\u001b[39;00m\u001b[39m \u001b[39m\u001b[39m{\u001b[39;00mlast_names[i]\u001b[39m}\u001b[39;00m\u001b[39m\"\u001b[39m\n\u001b[0;32m      <a href='vscode-notebook-cell:/c%3A/Users/jjs61/OneDrive/Desktop/Data%20Analytics/Coding_Temple/week_2/Python%201%20Assignment%202.ipynb#X21sZmlsZQ%3D%3D?line=5'>6</a>\u001b[0m         full_names\u001b[39m.\u001b[39mappend(full_name)\n",
      "\u001b[1;31mTypeError\u001b[0m: 'int' object is not iterable"
     ]
    }
   ],
   "source": [
    "# DO NOT EDIT THIS CELL\n",
    "first = ['Alex', 'Brandon', 'Nick']\n",
    "middle = ['The Rock', 'The Paper', 'The Scissors']\n",
    "last = ['Lucchesi', 'Apol', 'Fuentes']\n",
    "answer = ['Alex The Rock Lucchesi','Brandon The Paper Apol','Nick The Scissors Fuentes']\n",
    "assert name_generator(first,middle,last) == answer, 'Double check that your function is performing the way it is supposed to!'"
   ]
  },
  {
   "attachments": {},
   "cell_type": "markdown",
   "metadata": {},
   "source": [
    "### **Task 4: User Functions**\n",
    "For this task, you will create a function named `user_input` which:\n",
    "* Asks a user to input their favorite activity or type 'n'\n",
    "* Repeats until the user types 'n'\n",
    "* Stores all user inputs to a list\n",
    "* Returns that list if a print statement when user types 'n'"
   ]
  },
  {
   "cell_type": "code",
   "execution_count": null,
   "metadata": {},
   "outputs": [
    {
     "name": "stdout",
     "output_type": "stream",
     "text": [
      "Your activity is dsfa\n"
     ]
    }
   ],
   "source": [
    "user_activity = input(\"Enter your favorite activity. or enter 'n' to quit\")\n",
    "print(f'Your activity is {user_activity}')"
   ]
  },
  {
   "cell_type": "code",
   "execution_count": null,
   "metadata": {},
   "outputs": [
    {
     "name": "stdout",
     "output_type": "stream",
     "text": [
      "['hiking']\n"
     ]
    }
   ],
   "source": [
    "# YOUR CODE HERE\n",
    "def user_input():\n",
    "    fav_activities = []\n",
    "    while True:\n",
    "        fav_activities = input(\"Enter your favorite activity. or enter 'n' to quit\")\n",
    "        if fav_activities.lower() == 'n':\n",
    "            break\n",
    "    \n",
    "        user_activities.append(user_activity)\n",
    "    return user_activities\n"
   ]
  },
  {
   "cell_type": "code",
   "execution_count": 1,
   "metadata": {},
   "outputs": [
    {
     "ename": "NameError",
     "evalue": "name 'user_input' is not defined",
     "output_type": "error",
     "traceback": [
      "\u001b[1;31m---------------------------------------------------------------------------\u001b[0m",
      "\u001b[1;31mNameError\u001b[0m                                 Traceback (most recent call last)",
      "\u001b[1;32mc:\\Users\\jjs61\\OneDrive\\Desktop\\Data Analytics\\Coding_Temple\\week_2\\Python 1 Assignment 2.ipynb Cell 22\u001b[0m line \u001b[0;36m2\n\u001b[0;32m      <a href='vscode-notebook-cell:/c%3A/Users/jjs61/OneDrive/Desktop/Data%20Analytics/Coding_Temple/week_2/Python%201%20Assignment%202.ipynb#X30sZmlsZQ%3D%3D?line=0'>1</a>\u001b[0m \u001b[39m# How to use it\u001b[39;00m\n\u001b[1;32m----> <a href='vscode-notebook-cell:/c%3A/Users/jjs61/OneDrive/Desktop/Data%20Analytics/Coding_Temple/week_2/Python%201%20Assignment%202.ipynb#X30sZmlsZQ%3D%3D?line=1'>2</a>\u001b[0m fav_activities \u001b[39m=\u001b[39m user_input()\n\u001b[0;32m      <a href='vscode-notebook-cell:/c%3A/Users/jjs61/OneDrive/Desktop/Data%20Analytics/Coding_Temple/week_2/Python%201%20Assignment%202.ipynb#X30sZmlsZQ%3D%3D?line=2'>3</a>\u001b[0m \u001b[39mprint\u001b[39m(\u001b[39m\"\u001b[39m\u001b[39myour favorite activities: \u001b[39m\u001b[39m{fav_activities}\u001b[39;00m\u001b[39m\"\u001b[39m)\n",
      "\u001b[1;31mNameError\u001b[0m: name 'user_input' is not defined"
     ]
    }
   ],
   "source": [
    "# How to use it\n",
    "fav_activities = user_input()\n",
    "print(\"your favorite activities: {fav_activities}\")"
   ]
  },
  {
   "cell_type": "code",
   "execution_count": null,
   "metadata": {},
   "outputs": [],
   "source": []
  }
 ],
 "metadata": {
  "kernelspec": {
   "display_name": "Python 3",
   "language": "python",
   "name": "python3"
  },
  "language_info": {
   "codemirror_mode": {
    "name": "ipython",
    "version": 3
   },
   "file_extension": ".py",
   "mimetype": "text/x-python",
   "name": "python",
   "nbconvert_exporter": "python",
   "pygments_lexer": "ipython3",
   "version": "3.11.4"
  },
  "orig_nbformat": 4,
  "vscode": {
   "interpreter": {
    "hash": "26de051ba29f2982a8de78e945f0abaf191376122a1563185a90213a26c5da77"
   }
  }
 },
 "nbformat": 4,
 "nbformat_minor": 2
}
