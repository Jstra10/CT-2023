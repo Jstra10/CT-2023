{
 "cells": [
  {
   "attachments": {},
   "cell_type": "markdown",
   "metadata": {},
   "source": [
    "# Coding Temple's Data Analytics Program\n",
    "---\n",
    "## Python Basics Assignment 4\n",
    "---"
   ]
  },
  {
   "attachments": {},
   "cell_type": "markdown",
   "metadata": {},
   "source": [
    "### **Task 1: Update Shopping Cart**\n",
    "Using the shopping cart you created yesterday as a blueprint, create a shopping cart using object-oriented programming. This shopping cart should maintain all functionality that you currently have in your blueprint."
   ]
  },
  {
   "cell_type": "code",
   "execution_count": 5,
   "metadata": {},
   "outputs": [
    {
     "name": "stdout",
     "output_type": "stream",
     "text": [
      "\n",
      "We don't serve CAT people around here buying 12lbs of food!!!!!!!!!!!!!!!!!!\n",
      "Get Out of here!!!\n",
      "\n",
      "Adding - Dog Food: Quantity - 25:\n",
      "\n",
      "Please find your cart below:\n",
      "dog food,25\n",
      "\n",
      "We don't serve CAT people around here buying 25lbs of food!!!!!!!!!!!!!!!!!!\n",
      "Get Out of here!!!\n"
     ]
    }
   ],
   "source": [
    "# YOUR CODE HERE\n",
    "class DigitalShoppingCart:\n",
    "    ''' \n",
    "    This is a digital shopping cart that will have items and qtys placed inside\n",
    "\n",
    "    Attributes:\n",
    "    - items: Items and Qtys inside list\n",
    "\n",
    "    Methods:\n",
    "    - Initialize: self.items as an empty list\n",
    "    - add to cart: try to add items to cart only if qty is a positive int\n",
    "    - remove from cart: remove an item and its qty from cart\n",
    "    - clear cart: will empy the cart\n",
    "    - view cart: allows to see whats in the cart\n",
    "    - checkout: print all items in cart and ttls\n",
    "    '''\n",
    "\n",
    "    def __init__(self):\n",
    "        self.items = {}\n",
    "\n",
    "\n",
    "    def add_to_cart(self, item_name:str, qty:int):\n",
    "        ''' Attemps to add items to cart if qty is positive'''\n",
    "    \n",
    "        try:\n",
    "            if item_name.lower() == 'cat food':\n",
    "                print(f\"\\nWe don't serve CAT people around here buying {qty}lbs of food!!!!!!!!!!!!!!!!!!\\nGet Out of here!!!\")\n",
    "            \n",
    "\n",
    "            elif int(qty) > 0:\n",
    "                self.items[item_name] = qty\n",
    "                print(f\"\\nAdding - {item_name.title()}: Quantity - {qty}:\")\n",
    "\n",
    "            else: \n",
    "                print('\\nQty must be positive')\n",
    "        except:\n",
    "            print('\\nQty must be a positive value')\n",
    "\n",
    "    def remove_from_cart(self, item_name):\n",
    "\n",
    "        if item_name not in [item for item in self.items.keys()]:\n",
    "            print(\"n\\item not found\")\n",
    "        for item in self.items:\n",
    "            if item == item_name:\n",
    "                del self.items[item]\n",
    "                self.view_cart()\n",
    "                break\n",
    "    \n",
    "    def clear_cart(self):\n",
    "        self.items.clear()\n",
    "\n",
    "    def view_cart(self):\n",
    "        for k, v in self.items.items():\n",
    "            print(f\"\\nPlease find your cart below:\\n{k},{v}\")\n",
    "\n",
    "    def checkout(self):\n",
    "        for k,v  in self.items.items():\n",
    "            print(str(k) + ' qty:' + str(v))\n",
    "        return str(sum([v for v in self.iems.values()]))\n",
    "        \n",
    "cart = DigitalShoppingCart()\n",
    "cart.add_to_cart('cat food', 12)\n",
    "cart.clear_cart()\n",
    "cart.view_cart()\n",
    "cart.add_to_cart('dog food' , 25)\n",
    "cart.view_cart()\n",
    "cart.clear_cart()\n",
    "cart.add_to_cart('cat food' , 25)\n",
    "\n",
    "\n",
    "\n",
    "\n"
   ]
  },
  {
   "attachments": {},
   "cell_type": "markdown",
   "metadata": {},
   "source": [
    "### **Task 2: String Class**\n",
    "Write a class which has the following two methods:\n",
    "* `get_string`: Accepts a string input from the user\n",
    "* `print_string`: Prints the string all in upper-case"
   ]
  },
  {
   "cell_type": "code",
   "execution_count": 6,
   "metadata": {},
   "outputs": [
    {
     "name": "stdout",
     "output_type": "stream",
     "text": [
      "\n",
      "Thank you for entering --> jelly\n",
      "\n",
      "The string you entered\n",
      "    --> 'jelly' <-- \n",
      "Has been converted to all upper-case:\n",
      "Please find the output: JELLY\n"
     ]
    }
   ],
   "source": [
    "class StringsToCaps:\n",
    "    '''\n",
    "    This is a class that will accept an input string and print the output in all upper-case\n",
    "    Attributes:\n",
    "    - user_string: Any string the user would like to input\n",
    "\n",
    "    Methods:\n",
    "    - get_string: Accepts an input string from the user\n",
    "    - print_string: Prints the string in upper-case\n",
    "    '''\n",
    "\n",
    "    def __init__(self, string1):\n",
    "        stored_strings = []\n",
    "        \"\"\"Initializes string attribute\"\"\"\n",
    "        self.string1 = string1\n",
    "        print(f\"\\nThank you for entering --> {string1}\")\n",
    "\n",
    "    def print_string(self):\n",
    "        print(f\"\\nThe string you entered\\n    --> '{self.string1}' <-- \\nHas been converted to all upper-case:\\nPlease find the output: {self.string1.upper()}\")\n",
    "\n",
    "\n",
    "my_string = StringsToCaps(\"jelly\")\n",
    "my_string.print_string()\n"
   ]
  },
  {
   "attachments": {},
   "cell_type": "markdown",
   "metadata": {},
   "source": [
    "### **Task 3: Activities**\n",
    "Create a class that depicts your favorite activity. Add in attributes that are associated with that activity in you `__init__` call. Also, create three functions that are associated with the activity.\n",
    "\n",
    "**Example:**\n",
    "If I chose football, I may have a FootballPlayer class with attributes such as:\n",
    "* `self.speed`\n",
    "* `self.strength`\n",
    "* `self.position`\n",
    "\n",
    "and methods such as:\n",
    "* `def pass_ball`\n",
    "* `def run`\n",
    "* `def faster_than_x`"
   ]
  },
  {
   "cell_type": "code",
   "execution_count": 3,
   "metadata": {},
   "outputs": [],
   "source": [
    "class Hikes:\n",
    "    \"\"\"\n",
    "    This is a digital location that stores a hike location, distance (in miles), and difficulty level.\n",
    "    Attributes: \n",
    "    - hike_zip_code: zip code of the hiking location\n",
    "    - hike_distance_in_miles: the length of the hike in miles\n",
    "    - level_of_difficulty: how hard the hike is. girls/boys/men\n",
    "\n",
    "    Methods:\n",
    "    - view_hike: shows the total hike data you have input\n",
    "    - steps_to_hike: calculates how many steps the hike takes (will use average distance of 2.5 feet a step). based on the distance entered initially\n",
    "    - weather_checker: provides a link to check the weather based on the zip code provided\n",
    "    \"\"\"\n",
    "\n",
    "    def __init__(self, hike_zip_code:int,hike_distance_in_miles:float, level_of_difficulty:str):\n",
    "        '''Initializing Attributes'''\n",
    "        self.hike_zip_code = hike_zip_code\n",
    "        self.hike_distance_in_miles = hike_distance_in_miles\n",
    "        self.level_of_difficulty = level_of_difficulty\n",
    "\n",
    "    def steps_to_hike(self):\n",
    "        \"\"\"Calculates and outputs the steps you will accumulate during the hike\"\"\"\n",
    "        steps_ttl = (self.hike_distance_in_miles*5280)/2.5\n",
    "        print(f\"The total step count is: {steps_ttl}\")\n",
    "\n",
    "    def weather_checker(self):\n",
    "        \"\"\"Uses the zip code entered at initialization, and provides an internet link to look up the current weather\"\"\"\n",
    "        weather_link = f\"https://www.google.com/search?client=firefox-b-1-d&q={self.hike_zip_code}+weather\"\n",
    "        print(f\"Please follow the link to the weather: -->  {weather_link}\")\n",
    "\n",
    "    def hike_report(self):\n",
    "        \"\"\"Prints a detailed report of the hike details the user enters \"\"\"\n",
    "        print(f\"\\nHike Report:\\nLocation (zipcode): {self.hike_zip_code}\\nDistance: {self.hike_distance_in_miles} miles\\nDifficulty: {self.level_of_difficulty.upper()}\")\n",
    "\n",
    "\n",
    "\n",
    "\n",
    "\n",
    "\n",
    "        \n",
    "\n"
   ]
  },
  {
   "attachments": {},
   "cell_type": "markdown",
   "metadata": {},
   "source": [
    "### **Task 4: Test Your Class!**\n",
    "Now that you created your class, let's create an instance of your class. In the cell below, instantiate a Class Object, then test each of your class methods on that object."
   ]
  },
  {
   "cell_type": "code",
   "execution_count": 4,
   "metadata": {},
   "outputs": [
    {
     "name": "stdout",
     "output_type": "stream",
     "text": [
      "The total step count is: 3168.0\n",
      "Please follow the link to the weather: -->  https://www.google.com/search?client=firefox-b-1-d&q=43310+weather\n",
      "\n",
      "Hike Report:\n",
      "Location (zipcode): 43310\n",
      "Distance: 1.5 miles\n",
      "Difficulty: CHUCK NORRIS\n"
     ]
    }
   ],
   "source": [
    "ggg = Hikes(43310,1.5,\"Chuck Norris\")\n",
    "ggg.steps_to_hike()\n",
    "ggg.weather_checker()\n",
    "ggg.hike_report()"
   ]
  },
  {
   "cell_type": "code",
   "execution_count": null,
   "metadata": {},
   "outputs": [],
   "source": []
  }
 ],
 "metadata": {
  "kernelspec": {
   "display_name": "Python 3",
   "language": "python",
   "name": "python3"
  },
  "language_info": {
   "codemirror_mode": {
    "name": "ipython",
    "version": 3
   },
   "file_extension": ".py",
   "mimetype": "text/x-python",
   "name": "python",
   "nbconvert_exporter": "python",
   "pygments_lexer": "ipython3",
   "version": "3.11.4"
  },
  "orig_nbformat": 4,
  "vscode": {
   "interpreter": {
    "hash": "26de051ba29f2982a8de78e945f0abaf191376122a1563185a90213a26c5da77"
   }
  }
 },
 "nbformat": 4,
 "nbformat_minor": 2
}
