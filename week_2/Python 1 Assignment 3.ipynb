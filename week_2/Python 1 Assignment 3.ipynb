{
 "cells": [
  {
   "attachments": {},
   "cell_type": "markdown",
   "metadata": {},
   "source": [
    "# Coding Temple's Data Analytics Program\n",
    "---\n",
    "## Python 1 Assignment 3\n",
    "---"
   ]
  },
  {
   "attachments": {},
   "cell_type": "markdown",
   "metadata": {},
   "source": [
    "### **Task 1: Build a Shopping Cart**\n",
    "**You can use either lists or dictionaries. The program should have the following capabilites:**\n",
    "* Takes a string as an input\n",
    "* Stores user input in a dictionary or list\n",
    "* Users should be able to:\n",
    "    * Add Items\n",
    "    * Delete Items\n",
    "    * See current shopping cart\n",
    "* The program should loop until user 'quits'\n",
    "* Upon quitting the program, print out all items in the user's list"
   ]
  },
  {
   "cell_type": "code",
   "execution_count": 18,
   "metadata": {},
   "outputs": [],
   "source": [
    "from IPython.display import clear_output\n",
    "\n",
    "# Ask the user 5 bits of input: Do you want to : Show/Add/Delete/clear or Quit?\n",
    "\n",
    "def manage_shopping_cart():\n",
    "    # initialize an empty shopping cart as a dictionary\n",
    "    shopping_cart = {}\n",
    "    while True:\n",
    "        choice = input(\"Show/Add/Delete/Clear or Quit \")\n",
    "        if choice.lower() == 'quit':\n",
    "            break\n",
    "        elif choice.lower() == 'show':\n",
    "            print(f\"Here is your Cart: \\n{shopping_cart} \")\n",
    "\n",
    "        elif choice.lower() == 'add':\n",
    "            add_item = input(\"Enter the item do you want to add \")\n",
    "            quantity = input('Enter the quantity: ')\n",
    "            shopping_cart[add_item] = quantity\n",
    "\n",
    "        elif choice.lower() == 'delete':\n",
    "            deleted_items = input(\"Enter the item you would like to delete?\")\n",
    "            if deleted_items.lower() in shopping_cart:\n",
    "                del shopping_cart[deleted_items]\n",
    "                print(f\"Your item {choice} has been removed\")\n",
    "\n",
    "        elif choice.lower() == 'clear':\n",
    "            shopping_cart.clear\n",
    "\n",
    "        else:\n",
    "            print(\"Are you crazy!!!?!?!?!? enter a valid response \")\n",
    "\n",
    "manage_shopping_cart()\n"
   ]
  },
  {
   "attachments": {},
   "cell_type": "markdown",
   "metadata": {},
   "source": [
    "### **Task 2: Create a Module and Import it**\n",
    "Create a Module in VS Code and import it into a Notebook. Use each of the functions you build in your module\n",
    "\n",
    "**Your module should have the following capabilities:**\n",
    "* Has a function to calculate the square footage of a house\n",
    "* Has a function to calculate the circumference of a circle\n",
    "* Has a function to change feet to inches"
   ]
  },
  {
   "cell_type": "code",
   "execution_count": 1,
   "metadata": {},
   "outputs": [
    {
     "name": "stdout",
     "output_type": "stream",
     "text": [
      "5\n",
      "{132, 2, 132132, 13}\n",
      "[5, 8, 11, 14, 17, 20, 23, 26, 29, 32, 35, 38, 41, 44, 47, 50, 53, 56, 59, 62, 65, 68, 71, 74, 77, 80, 83, 86, 89, 92, 95, 98]\n"
     ]
    },
    {
     "data": {
      "text/plain": [
       "3000"
      ]
     },
     "execution_count": 1,
     "metadata": {},
     "output_type": "execute_result"
    }
   ],
   "source": [
    "# Calculate the square footage of a house\n",
    "# import my_modules\n",
    "from my_modules import calculate_sqft, calc_circ, inches_to_feet\n",
    "\n",
    "l = 15\n",
    "w = 200\n",
    "calculate_sqft(l,w)"
   ]
  },
  {
   "cell_type": "code",
   "execution_count": 2,
   "metadata": {},
   "outputs": [
    {
     "data": {
      "text/plain": [
       "1570.0"
      ]
     },
     "execution_count": 2,
     "metadata": {},
     "output_type": "execute_result"
    }
   ],
   "source": [
    "# Calculate the circumference of a circle\n",
    "from my_modules import calc_circ\n",
    "\n",
    "radius = 250\n",
    "calc_circ(250)"
   ]
  },
  {
   "cell_type": "code",
   "execution_count": 2,
   "metadata": {},
   "outputs": [],
   "source": [
    "# Additional way importing the math module\n",
    "# Calculate the circumference of a circle\n",
    "import math\n",
    "def calc_circ_2(radius):\n",
    "    return 2 * math.pi * radius"
   ]
  },
  {
   "cell_type": "code",
   "execution_count": 2,
   "metadata": {},
   "outputs": [
    {
     "data": {
      "text/plain": [
       "5.0"
      ]
     },
     "execution_count": 2,
     "metadata": {},
     "output_type": "execute_result"
    }
   ],
   "source": [
    "# Calculate inches to feet\n",
    "inches = 60\n",
    "inches_to_feet(inches)"
   ]
  },
  {
   "attachments": {},
   "cell_type": "markdown",
   "metadata": {},
   "source": [
    "### **Task 3.1: Lists**\n",
    "Create 4 lists. Two of these lists should be keys, two of these lists should be values"
   ]
  },
  {
   "cell_type": "code",
   "execution_count": 9,
   "metadata": {},
   "outputs": [
    {
     "name": "stdout",
     "output_type": "stream",
     "text": [
      "{'name': 'john', 'age': 'syd', 'gender': 'eli', 'country': 'USA', 'city': 'new york', 'zipcode': '1001'}\n"
     ]
    },
    {
     "data": {
      "text/plain": [
       "{'name': 'john',\n",
       " 'age': 'syd',\n",
       " 'gender': 'eli',\n",
       " 'country': 'USA',\n",
       " 'city': 'new york',\n",
       " 'zipcode': '1001'}"
      ]
     },
     "execution_count": 9,
     "metadata": {},
     "output_type": "execute_result"
    }
   ],
   "source": [
    "keys1 = ['name', 'age', 'gender']\n",
    "keys2 = ['country', 'city', 'zip']\n",
    "\n",
    "values1 = ['john', 'syd', 'eli']\n",
    "values2 = ['USA', 'ohio', '43310']\n",
    "\n",
    "dict1 ={k:v for k, v in zip(keys1, values1)}\n",
    "dict2 ={k:v for k, v in zip(keys2, values2)}\n",
    "\n",
    "final_dict = {**dict1, **dict2}\n",
    "\n",
    "print(final_dict)\n",
    "final_dict "
   ]
  },
  {
   "attachments": {},
   "cell_type": "markdown",
   "metadata": {},
   "source": [
    "### **Task 3.2: Create a function that converts two lists into a dictionary, then merges two dictionaries into one.**\n",
    "\n",
    "Using your 4 lists, create a function which combines the keys lists with the values lists into a dictionary, then merges and returns the two dictionaries together."
   ]
  },
  {
   "cell_type": "code",
   "execution_count": 6,
   "metadata": {},
   "outputs": [
    {
     "ename": "NameError",
     "evalue": "name 'keys1' is not defined",
     "output_type": "error",
     "traceback": [
      "\u001b[1;31m---------------------------------------------------------------------------\u001b[0m",
      "\u001b[1;31mNameError\u001b[0m                                 Traceback (most recent call last)",
      "\u001b[1;32mc:\\Users\\jjs61\\OneDrive\\Desktop\\Data Analytics\\Coding_Temple\\week_2\\Python 1 Assignment 3.ipynb Cell 11\u001b[0m line \u001b[0;36m7\n\u001b[0;32m      <a href='vscode-notebook-cell:/c%3A/Users/jjs61/OneDrive/Desktop/Data%20Analytics/Coding_Temple/week_2/Python%201%20Assignment%203.ipynb#X12sZmlsZQ%3D%3D?line=4'>5</a>\u001b[0m     final_dict \u001b[39m=\u001b[39m {\u001b[39m*\u001b[39m\u001b[39m*\u001b[39mdict1, \u001b[39m*\u001b[39m\u001b[39m*\u001b[39mdict2}\n\u001b[0;32m      <a href='vscode-notebook-cell:/c%3A/Users/jjs61/OneDrive/Desktop/Data%20Analytics/Coding_Temple/week_2/Python%201%20Assignment%203.ipynb#X12sZmlsZQ%3D%3D?line=5'>6</a>\u001b[0m     \u001b[39mreturn\u001b[39;00m final_dict\n\u001b[1;32m----> <a href='vscode-notebook-cell:/c%3A/Users/jjs61/OneDrive/Desktop/Data%20Analytics/Coding_Temple/week_2/Python%201%20Assignment%203.ipynb#X12sZmlsZQ%3D%3D?line=6'>7</a>\u001b[0m comb_lists(keys1,keys2,values1,values2)\n",
      "\u001b[1;31mNameError\u001b[0m: name 'keys1' is not defined"
     ]
    }
   ],
   "source": [
    "def comb_lists(keys1,keys2,values1,values2):\n",
    "    dict1 ={k:v for k, v in zip(keys1, values1)}\n",
    "    dict2 ={k:v for k, v in zip(keys2, values2)}\n",
    "\n",
    "    final_dict = {**dict1, **dict2}\n",
    "    return final_dict\n",
    "comb_lists(keys1,keys2,values1,values2)"
   ]
  },
  {
   "cell_type": "code",
   "execution_count": null,
   "metadata": {},
   "outputs": [],
   "source": []
  }
 ],
 "metadata": {
  "kernelspec": {
   "display_name": "Python 3",
   "language": "python",
   "name": "python3"
  },
  "language_info": {
   "codemirror_mode": {
    "name": "ipython",
    "version": 3
   },
   "file_extension": ".py",
   "mimetype": "text/x-python",
   "name": "python",
   "nbconvert_exporter": "python",
   "pygments_lexer": "ipython3",
   "version": "3.11.4"
  },
  "orig_nbformat": 4,
  "vscode": {
   "interpreter": {
    "hash": "26de051ba29f2982a8de78e945f0abaf191376122a1563185a90213a26c5da77"
   }
  }
 },
 "nbformat": 4,
 "nbformat_minor": 2
}
