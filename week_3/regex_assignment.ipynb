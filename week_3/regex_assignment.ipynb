{
 "cells": [
  {
   "attachments": {},
   "cell_type": "markdown",
   "metadata": {},
   "source": [
    "# Coding Temple Data Analytics Program:\n",
    "---\n",
    "## Python II Regex Assignment\n",
    "\n",
    "Use python to read the file `regex_test.txt` and print the last name on each line using regular expressions and groups (return None for names with no first and last name, or names that aren't properly capitalized)\n",
    "\n",
    "##### **Hint: use with open() and readlines()**\n",
    "\n",
    "**Expected Output:**\n",
    "\n",
    "Abraham Lincoln\n",
    "\n",
    "Andrew P Garfield\n",
    "\n",
    "Connor Milliken\n",
    "\n",
    "Jordan Alexander Williams\n",
    "\n",
    "None\n",
    "\n",
    "None"
   ]
  },
  {
   "cell_type": "code",
   "execution_count": 9,
   "metadata": {},
   "outputs": [
    {
     "name": "stdout",
     "output_type": "stream",
     "text": [
      "['Abraham Lincoln\\n', 'Andrew P Garfield\\n', 'Connor Milliken\\n', 'Jordan Alexander Williams\\n', 'Madonna\\n', 'programming is cool\\n', 'james\\n', 'James Stratton\\n']\n"
     ]
    }
   ],
   "source": [
    "import re\n",
    "\n",
    "# reading in the data\n",
    "\n",
    "with open(r'regex_test.txt', encoding='utf-8-sig') as f:\n",
    "    data = f.readlines()\n",
    "\n",
    "# taking a quick look to see what the readlines is doing   (readlines treates every line in the text document as its own list)\n",
    "print(data)\n"
   ]
  },
  {
   "cell_type": "code",
   "execution_count": 10,
   "metadata": {},
   "outputs": [
    {
     "name": "stdout",
     "output_type": "stream",
     "text": [
      "Lincoln\n",
      "Garfield\n",
      "Milliken\n",
      "Williams\n",
      "None\n",
      "None\n",
      "None\n",
      "Stratton\n"
     ]
    }
   ],
   "source": [
    "#                           First name       middle or last (* = repeat.  thats why it captures both middle and last)\n",
    "line_pattern = re.compile('([A-Z][a-z]+) ([A-Z][a-z]+)*')\n",
    "\n",
    "for name in data:\n",
    "    matched_1 = line_pattern.match(name)\n",
    "    \n",
    "    if matched_1:\n",
    "        print(name.split()[-1])\n",
    "    \n",
    "    else:\n",
    "        print(None)"
   ]
  },
  {
   "cell_type": "code",
   "execution_count": 11,
   "metadata": {},
   "outputs": [],
   "source": [
    "def find_the_name(name_input):\n",
    "    line_pattern = re.compile('([A-Z][a-z]+) ([A-Z][a-z]+)*')\n",
    "    matched_1 = line_pattern.match(name_input)\n",
    "\n",
    "    if matched_1:\n",
    "        return name_input.split()[-1]   # split seperates and list by default (',') then index into the last item of the list\n",
    "    else:\n",
    "        return None\n",
    "    \n",
    "\n",
    "\n",
    "\n",
    "\n",
    "\n"
   ]
  },
  {
   "cell_type": "code",
   "execution_count": 15,
   "metadata": {},
   "outputs": [
    {
     "name": "stdout",
     "output_type": "stream",
     "text": [
      "Lincoln\n",
      "Garfield\n",
      "Milliken\n",
      "Williams\n",
      "None\n",
      "None\n",
      "None\n",
      "Stratton\n"
     ]
    }
   ],
   "source": [
    "for name in data:\n",
    "    print(find_the_name(name))"
   ]
  },
  {
   "cell_type": "code",
   "execution_count": 16,
   "metadata": {},
   "outputs": [
    {
     "name": "stdout",
     "output_type": "stream",
     "text": [
      "Sylvia\n",
      "Stratton\n",
      "None\n",
      "Tosti\n"
     ]
    }
   ],
   "source": [
    "# example 2\n",
    "\n",
    "\n",
    "data_two = ['Katie Sylvia', 'James Stratton', 'kjldf jkljlkjr', 'Lee Tosti']\n",
    "\n",
    "for name in data_two:\n",
    "    print(find_the_name(name))"
   ]
  },
  {
   "cell_type": "code",
   "execution_count": null,
   "metadata": {},
   "outputs": [],
   "source": []
  }
 ],
 "metadata": {
  "kernelspec": {
   "display_name": "Python 3",
   "language": "python",
   "name": "python3"
  },
  "language_info": {
   "codemirror_mode": {
    "name": "ipython",
    "version": 3
   },
   "file_extension": ".py",
   "mimetype": "text/x-python",
   "name": "python",
   "nbconvert_exporter": "python",
   "pygments_lexer": "ipython3",
   "version": "3.11.5"
  },
  "orig_nbformat": 4
 },
 "nbformat": 4,
 "nbformat_minor": 2
}
