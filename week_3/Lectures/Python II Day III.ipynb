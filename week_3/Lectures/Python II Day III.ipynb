{
 "cells": [
  {
   "attachments": {},
   "cell_type": "markdown",
   "metadata": {},
   "source": [
    "# Coding Temple's Data Analytics Course\n",
    "---\n",
    "## Python II: Numpy & CSV's"
   ]
  },
  {
   "attachments": {},
   "cell_type": "markdown",
   "metadata": {},
   "source": [
    "## Tasks Today:\n",
    "\n",
    "1) <b>Lambda Functions</b> <br>\n",
    " &nbsp;&nbsp;&nbsp;&nbsp; a) Syntax <br>\n",
    " &nbsp;&nbsp;&nbsp;&nbsp; b) Saving to a Variable <br>\n",
    " &nbsp;&nbsp;&nbsp;&nbsp; c) Multiple Inputs <br>\n",
    " &nbsp;&nbsp;&nbsp;&nbsp; d) Passing a Lambda into a Function <br>\n",
    " &nbsp;&nbsp;&nbsp;&nbsp; e) Returning a Lambda from a Function <br>\n",
    " &nbsp;&nbsp;&nbsp;&nbsp; f) In-Class Exercise #1 <br>\n",
    "2) <b>Map</b> <br>\n",
    " &nbsp;&nbsp;&nbsp;&nbsp; a) Syntax <br>\n",
    " &nbsp;&nbsp;&nbsp;&nbsp; b) Using Lambda's with Map <br>\n",
    " &nbsp;&nbsp;&nbsp;&nbsp; c) In-Class Exercise #2 <br>\n",
    "3) <b>Filter</b> <br>\n",
    " &nbsp;&nbsp;&nbsp;&nbsp; a) Syntax <br>\n",
    " &nbsp;&nbsp;&nbsp;&nbsp; b) Using Lambda's with Filter <br>\n",
    " &nbsp;&nbsp;&nbsp;&nbsp; c) In-Class Exercise #3 <br>\n",
    "4) <b>Recursion</b> <br>\n",
    " &nbsp;&nbsp;&nbsp;&nbsp; a) Implementing a Base <br>\n",
    " &nbsp;&nbsp;&nbsp;&nbsp; b) Writing a Factorial Function <br>\n",
    " &nbsp;&nbsp;&nbsp;&nbsp; c) In-Class Exercise #4 <br>\n",
    "5) <b>Generators & Iterators</b> <br>\n",
    " &nbsp;&nbsp;&nbsp;&nbsp; a) Yield Keyword <br>\n",
    " &nbsp;&nbsp;&nbsp;&nbsp; c) In-Class Exercise #5 <br>\n",
    "\n",
    "\n",
    "6) <b>Numpy</b> <br>\n",
    " &nbsp;&nbsp;&nbsp;&nbsp; a) Python List Comparison <br>\n",
    " &nbsp;&nbsp;&nbsp;&nbsp; b) In-Class Exercise #6 <br>\n",
    " &nbsp;&nbsp;&nbsp;&nbsp; c) Importing <br>\n",
    " &nbsp;&nbsp;&nbsp;&nbsp; d) Creating an NDArray <br>\n",
    " &nbsp;&nbsp;&nbsp;&nbsp;&nbsp;&nbsp;&nbsp;&nbsp; - np.array() <br>\n",
    " &nbsp;&nbsp;&nbsp;&nbsp;&nbsp;&nbsp;&nbsp;&nbsp; - np.zeros() <br>\n",
    " &nbsp;&nbsp;&nbsp;&nbsp;&nbsp;&nbsp;&nbsp;&nbsp; - np.ones() <br>\n",
    " &nbsp;&nbsp;&nbsp;&nbsp;&nbsp;&nbsp;&nbsp;&nbsp; - np.arange() <br>\n",
    " &nbsp;&nbsp;&nbsp;&nbsp;&nbsp;&nbsp;&nbsp;&nbsp; - Making Lists into NDArrays <br>\n",
    " &nbsp;&nbsp;&nbsp;&nbsp; e) Performing Calculations on NDArrays <br>\n",
    " &nbsp;&nbsp;&nbsp;&nbsp;&nbsp;&nbsp;&nbsp;&nbsp; - Summation <br>\n",
    " &nbsp;&nbsp;&nbsp;&nbsp;&nbsp;&nbsp;&nbsp;&nbsp; - Difference <br>\n",
    " &nbsp;&nbsp;&nbsp;&nbsp;&nbsp;&nbsp;&nbsp;&nbsp; - Multiplication <br>\n",
    " &nbsp;&nbsp;&nbsp;&nbsp;&nbsp;&nbsp;&nbsp;&nbsp; - Division <br>\n",
    " &nbsp;&nbsp;&nbsp;&nbsp;&nbsp;&nbsp;&nbsp;&nbsp; - Standard Distribution <br>\n",
    " &nbsp;&nbsp;&nbsp;&nbsp;&nbsp;&nbsp;&nbsp;&nbsp; - Mean <br>\n",
    " &nbsp;&nbsp;&nbsp;&nbsp;&nbsp;&nbsp;&nbsp;&nbsp; - Median <br> \n",
    " &nbsp;&nbsp;&nbsp;&nbsp; f) Numpy Subsetting <br>\n",
    " &nbsp;&nbsp;&nbsp;&nbsp; g) Multi-dimensional Arrays <br>\n",
    " &nbsp;&nbsp;&nbsp;&nbsp; h) Indexing NDArrays <br>\n",
    " &nbsp;&nbsp;&nbsp;&nbsp; i) Checking NDArray Type <br>\n",
    " &nbsp;&nbsp;&nbsp;&nbsp; j) Altering NDArray Type <br>\n",
    " &nbsp;&nbsp;&nbsp;&nbsp; k) Checking the Shape <br>\n",
    " &nbsp;&nbsp;&nbsp;&nbsp; l) Altering the Shape <br>\n",
    " &nbsp;&nbsp;&nbsp;&nbsp; m) In-Class Exercise #7 <br>\n",
    " &nbsp;&nbsp;&nbsp;&nbsp; n) Complex Indexing & Assigning <br>\n",
    " &nbsp;&nbsp;&nbsp;&nbsp; o) Elementwise Multplication <br>\n",
    " &nbsp;&nbsp;&nbsp;&nbsp; p) np.where() <br>\n",
    " &nbsp;&nbsp;&nbsp;&nbsp; q) Random Sampling <br>\n",
    "\n",
    "7) <b>Working With CSV's</b> <br>\n",
    " &nbsp;&nbsp;&nbsp;&nbsp; a) Imports <br>\n",
    " &nbsp;&nbsp;&nbsp;&nbsp; b) Reading a CSV <br>\n",
    " &nbsp;&nbsp;&nbsp;&nbsp; c) Loading a CSV's Data <br>\n",
    " &nbsp;&nbsp;&nbsp;&nbsp; d) Checking Number of Records <br>"
   ]
  },
  {
   "cell_type": "markdown",
   "metadata": {},
   "source": [
    "## Lambda Functions <br>\n",
    "<p>Lambda functions... or \"Anonymous Functions\" are referring to inline functions with no name. The keyword lambda denotes the no name function, and executes within a single line. Without saving it to a variable; however, it is not able to be used, unless passed in either as a paramater or within list comprehension.<br>Written as \"(keyword lambda) (one or more inputs) (colon) (function to be executed)\"</p>"
   ]
  },
  {
   "cell_type": "markdown",
   "metadata": {},
   "source": [
    "#### Syntax"
   ]
  },
  {
   "cell_type": "code",
   "execution_count": 91,
   "metadata": {},
   "outputs": [
    {
     "name": "stdout",
     "output_type": "stream",
     "text": [
      "6\n",
      "6\n"
     ]
    }
   ],
   "source": [
    "def add_two(x):   # functions nice if you need to reuse it multiple times\n",
    "    return x + 2\n",
    "\n",
    "print(add_two(4))\n",
    "\n",
    "\n",
    "# Lamda is nice you don't have to name it\n",
    "a_var = 4\n",
    "\n",
    "# lambda >input variable<: whatever we want to do\n",
    "print((lambda x: x+2)(a_var))"
   ]
  },
  {
   "cell_type": "code",
   "execution_count": null,
   "metadata": {},
   "outputs": [],
   "source": []
  },
  {
   "cell_type": "markdown",
   "metadata": {},
   "source": [
    "#### Saving to a Variable"
   ]
  },
  {
   "cell_type": "code",
   "execution_count": 92,
   "metadata": {},
   "outputs": [
    {
     "data": {
      "text/plain": [
       "485"
      ]
     },
     "execution_count": 92,
     "metadata": {},
     "output_type": "execute_result"
    }
   ],
   "source": [
    "# We can save lambda functions for reusability\n",
    "\n",
    "f_test = lambda x: x+2\n",
    "f_test(483)"
   ]
  },
  {
   "cell_type": "code",
   "execution_count": null,
   "metadata": {},
   "outputs": [],
   "source": []
  },
  {
   "cell_type": "markdown",
   "metadata": {},
   "source": [
    "#### Multiple Inputs"
   ]
  },
  {
   "cell_type": "code",
   "execution_count": 93,
   "metadata": {},
   "outputs": [
    {
     "name": "stdout",
     "output_type": "stream",
     "text": [
      "120\n"
     ]
    }
   ],
   "source": [
    "# can take multiple inputs\n",
    "print((lambda a,b,c: a*b*c)(a=3,b=5,c=8))"
   ]
  },
  {
   "cell_type": "markdown",
   "metadata": {},
   "source": [
    "#### Passing a Lambda into a Function"
   ]
  },
  {
   "cell_type": "code",
   "execution_count": 94,
   "metadata": {},
   "outputs": [
    {
     "name": "stdout",
     "output_type": "stream",
     "text": [
      "16\n",
      "16\n"
     ]
    }
   ],
   "source": [
    "def multiply(function, num):\n",
    "    \"\"\" \n",
    "    function expects to see a lambda function\n",
    "    \"\"\"\n",
    "    return function(num)\n",
    "\n",
    "\n",
    "print(multiply(lambda x: x*x, 4))\n",
    "\n",
    "\n",
    "def squared_nums(num):\n",
    "    return num **2\n",
    "\n",
    "print(multiply(squared_nums, 4))"
   ]
  },
  {
   "cell_type": "markdown",
   "metadata": {},
   "source": [
    "#### Returning a Lambda from a Function"
   ]
  },
  {
   "cell_type": "code",
   "execution_count": 95,
   "metadata": {},
   "outputs": [],
   "source": [
    "def multiply_test(num):\n",
    "    return num * 4\n",
    "\n",
    "# take this function, and run it inside another funtion:\n",
    "\n",
    "def return_func():\n",
    "    test = 4\n",
    "    def multiply(num):\n",
    "        return multiply_test\n",
    "    \n",
    "    print(return_func())\n",
    "\n",
    "\n",
    "# this is the same thing doing lambda:\n",
    "    def return_lambs(b,c):\n",
    "        return lambda x,a: x+a+b+c\n",
    "    \n",
    "    r_lamb = return_lambs(4,4)\n",
    "    print(r_lamb(5,9))"
   ]
  },
  {
   "cell_type": "markdown",
   "metadata": {},
   "source": [
    "#### If Statements within Lambdas"
   ]
  },
  {
   "cell_type": "code",
   "execution_count": 96,
   "metadata": {},
   "outputs": [
    {
     "name": "stdout",
     "output_type": "stream",
     "text": [
      "10\n",
      "98\n"
     ]
    }
   ],
   "source": [
    "# lambda functions are set up to be able to take in conditional statements\n",
    "# lambda x: True if (conditional) else False\n",
    "# Lambda x: do something if (conditional is True) else, do something else\n",
    "\n",
    "\n",
    "f_conditional = lambda num: num * 2 if num > 10 else num + 2\n",
    "\n",
    "print(f_conditional(8))\n",
    "print(f_conditional(49))"
   ]
  },
  {
   "cell_type": "code",
   "execution_count": 97,
   "metadata": {},
   "outputs": [
    {
     "data": {
      "text/plain": [
       "[3, 4, 5, 6, 7, 8, 9, 10, 11, 12, 22, 24, 26, 28]"
      ]
     },
     "execution_count": 97,
     "metadata": {},
     "output_type": "execute_result"
    }
   ],
   "source": [
    "lst =[1,2,3,4,5,6,7,8,9,10,11,12,13,14]\n",
    "[f_conditional(num) for num in lst]"
   ]
  },
  {
   "cell_type": "markdown",
   "metadata": {},
   "source": [
    "#### In-Class Exercise #1 <br>\n",
    "<p>Write an anonymous function that cubes the arguments passed in and assign the anonymous function to a variable 'f'.</p>"
   ]
  },
  {
   "cell_type": "code",
   "execution_count": 98,
   "metadata": {},
   "outputs": [
    {
     "data": {
      "text/plain": [
       "1000"
      ]
     },
     "execution_count": 98,
     "metadata": {},
     "output_type": "execute_result"
    }
   ],
   "source": [
    "# Alex ex.   !!!!!!!!!!!!!!!!!!!!!!!!!!!!!!!!!!!!!!!!!!!!!!!!!!!!!!\n",
    "# write out function\n",
    "f = lambda x: x **3\n",
    "f(10)"
   ]
  },
  {
   "cell_type": "code",
   "execution_count": 99,
   "metadata": {},
   "outputs": [
    {
     "name": "stdout",
     "output_type": "stream",
     "text": [
      "27\n"
     ]
    }
   ],
   "source": [
    "g = 3\n",
    "funct_1 = lambda f: f**3\n",
    "print(funct_1(g))"
   ]
  },
  {
   "cell_type": "code",
   "execution_count": 100,
   "metadata": {},
   "outputs": [
    {
     "name": "stdout",
     "output_type": "stream",
     "text": [
      "8\n"
     ]
    }
   ],
   "source": [
    "print((lambda f: f**3)(2))"
   ]
  },
  {
   "cell_type": "markdown",
   "metadata": {},
   "source": [
    "## Map <br>\n",
    "<p>The map function allows you to iterate over an entire list while running a function on each item of the list. This is why the map function works well with lambda's, because it simplifies things and you write less lines of code.<br>The syntax for a map function is \"map(function to be used, list to be used)\"<br>However, you must be careful, as the map function returns a map object, not a list. To turn it into a list we use the list() type conversion.</p>"
   ]
  },
  {
   "cell_type": "markdown",
   "metadata": {},
   "source": [
    "#### Syntax"
   ]
  },
  {
   "cell_type": "code",
   "execution_count": 101,
   "metadata": {},
   "outputs": [
    {
     "ename": "SyntaxError",
     "evalue": "invalid syntax (3671383686.py, line 6)",
     "output_type": "error",
     "traceback": [
      "\u001b[1;36m  Cell \u001b[1;32mIn[101], line 6\u001b[1;36m\u001b[0m\n\u001b[1;33m    lst []\u001b[0m\n\u001b[1;37m         ^\u001b[0m\n\u001b[1;31mSyntaxError\u001b[0m\u001b[1;31m:\u001b[0m invalid syntax\n"
     ]
    }
   ],
   "source": [
    "numbers = [4,11,22,55,66,99,88,74,14,58,1]\n",
    "\n",
    "# normally in order to use a function on this we need to iterate\n",
    "def squared_normal(val):\n",
    "    return val ** 2\n",
    "lst []\n",
    "for num in nums:\n",
    "    lst.append(squared_normal(num))\n",
    "\n",
    "\n"
   ]
  },
  {
   "cell_type": "code",
   "execution_count": null,
   "metadata": {},
   "outputs": [
    {
     "data": {
      "text/plain": [
       "[(16, 1),\n",
       " (11, 11),\n",
       " (22, 22),\n",
       " (55, 55),\n",
       " (66, 66),\n",
       " (99, 99),\n",
       " (88, 88),\n",
       " (74, 74),\n",
       " (14, 14),\n",
       " (58, 58)]"
      ]
     },
     "execution_count": 63,
     "metadata": {},
     "output_type": "execute_result"
    }
   ],
   "source": [
    "'''\n",
    "map(function, iterable)\n",
    "an iterable si something we can loop over\n",
    "Normally you would use map with a predefined function\n",
    "can also uuse with a lambda \n",
    "'''\n",
    "\n",
    "def squared_map(num1, num2):\n",
    "    if num1 < 10 and num2 < 10:\n",
    "        return num1 **2, num2 **2\n",
    "    else:\n",
    "        return num1, num2\n",
    "    \n",
    "numbers = [4,11,22,55,66,99,88,74,14,58,1]\n",
    "more_nums = [1,11,22,55,66,99,88,74,14,58,]\n",
    "# in order to uise the squared_map function without a map statement, we would need to iterate througfh bouth list.\n",
    "# and we will have to utilize the zip function\n",
    "list((map(squared_map, numbers, more_nums)))\n",
    "\n"
   ]
  },
  {
   "cell_type": "markdown",
   "metadata": {},
   "source": [
    "#### Using Lambda's with Map"
   ]
  },
  {
   "cell_type": "code",
   "execution_count": null,
   "metadata": {},
   "outputs": [
    {
     "data": {
      "text/plain": [
       "[(16, 1),\n",
       " (11, 11),\n",
       " (22, 22),\n",
       " (55, 55),\n",
       " (66, 66),\n",
       " (99, 99),\n",
       " (88, 88),\n",
       " (74, 74),\n",
       " (14, 14),\n",
       " (58, 58)]"
      ]
     },
     "execution_count": 64,
     "metadata": {},
     "output_type": "execute_result"
    }
   ],
   "source": [
    "\"\"\" \n",
    "Instead of having a function we plan using one time\n",
    "we can use a lambda inside a map funtion. Allowing us to do everything\n",
    "in a single line of code\n",
    "\n",
    "Syntax:   map(lambda x: do something, iterable)\n",
    "\n",
    "\"\"\"\n",
    "\n",
    "\n",
    "# run lambda over two lists based on conditional\n",
    "\n",
    "list(map(lambda x,y: (x**2, y**2) if x < 10 and y < 10 else (x,y), numbers, more_nums))"
   ]
  },
  {
   "cell_type": "markdown",
   "metadata": {},
   "source": [
    "#### In-Class Exercise #2 <br>\n",
    "<p>Use the map function to double each number and minus it by one in the list by using a lambda function</p>"
   ]
  },
  {
   "cell_type": "code",
   "execution_count": null,
   "metadata": {},
   "outputs": [
    {
     "data": {
      "text/plain": [
       "[7, 21, 43, 109, 131, 197, 175, 147, 27, 115, 1]"
      ]
     },
     "execution_count": 72,
     "metadata": {},
     "output_type": "execute_result"
    }
   ],
   "source": [
    "lambda x: x*2 -1\n",
    "list(map(lambda x: x*2 -1, numbers))"
   ]
  },
  {
   "cell_type": "markdown",
   "metadata": {},
   "source": [
    "## Filter() <br>\n",
    "<p>Filter's are similar to the map function, where you're able to pass a function argument and a list argument and filter out something from the list based on the conditions passed. Similar to the map function, it returns a filter object, so you need to type convert it to a list()</p>"
   ]
  },
  {
   "cell_type": "markdown",
   "metadata": {},
   "source": [
    "#### Syntax"
   ]
  },
  {
   "cell_type": "code",
   "execution_count": null,
   "metadata": {},
   "outputs": [
    {
     "data": {
      "text/plain": [
       "['andy', 'angela']"
      ]
     },
     "execution_count": 74,
     "metadata": {},
     "output_type": "execute_result"
    }
   ],
   "source": [
    "# Syntax looks like:\n",
    "# list(filter(function , iterable(s)))\n",
    "# a lot like a mask\n",
    "\n",
    "names = ['bob', 'andy', 'max', 'even', 'angela']\n",
    "\n",
    "def a_names(name):\n",
    "    # we will check to see if the first letter begins with an 'a'\n",
    "    if name[0].lower() == 'a':\n",
    "        return True\n",
    "    else:\n",
    "        return False\n",
    "    \n",
    "# we can use this inside a fliter to filter out the info\n",
    "\n",
    "list(filter(a_names, names))"
   ]
  },
  {
   "cell_type": "markdown",
   "metadata": {},
   "source": [
    "#### Using Lambda's with Filter()"
   ]
  },
  {
   "cell_type": "code",
   "execution_count": null,
   "metadata": {},
   "outputs": [
    {
     "data": {
      "text/plain": [
       "['andy', 'angela']"
      ]
     },
     "execution_count": 76,
     "metadata": {},
     "output_type": "execute_result"
    }
   ],
   "source": [
    "# great if you are trying to filter data with a single use function instr=ead of having to define one\n",
    "# when we use a lambda or comprehension we will write out the value then conditional\n",
    "\n",
    "# best way to think about this is like a reversed for loop:\n",
    "\n",
    "list(filter(lambda name: True if name[0].lower() == 'a' else False, names))"
   ]
  },
  {
   "cell_type": "markdown",
   "metadata": {},
   "source": [
    "#### In-Class Exercise #3 <br>\n",
    "<p>Filter out all the numbers that are below the mean of the list.<br><b>Hint: Import the 'statistics' module</b></p>"
   ]
  },
  {
   "cell_type": "code",
   "execution_count": null,
   "metadata": {},
   "outputs": [
    {
     "data": {
      "text/plain": [
       "[4, 11, 22, 14, 1]"
      ]
     },
     "execution_count": 81,
     "metadata": {},
     "output_type": "execute_result"
    }
   ],
   "source": [
    "import statistics\n",
    "# numbers = [4,11,22,55,66,99,88,74,14,58,1]\n",
    "# statistics.mean()\n",
    "list(filter(lambda num: True if num < statistics.mean(numbers) else False, numbers))\n",
    "#print(statistics.mean(numbers))\n",
    "\n",
    "\n",
    "\n"
   ]
  },
  {
   "cell_type": "markdown",
   "metadata": {},
   "source": [
    "## Recursion <br>\n",
    "<p>Recursion means that a function is calling itself, so it contanstly executes until a base case is reached. It will then push the returning values back up the chain until the function is complete. A prime example of recursion is computing factorials... such that 5! (factorial) is 5*4*3*2*1 which equals 120.</p>"
   ]
  },
  {
   "cell_type": "markdown",
   "metadata": {},
   "source": [
    "#### Implementing a Base Case"
   ]
  },
  {
   "cell_type": "code",
   "execution_count": null,
   "metadata": {},
   "outputs": [],
   "source": [
    "# define function\n",
    "def add_nums_breakable(num):\n",
    "    # without a base case, we will end up infinitely looping\n",
    "    if num <= 20000:\n",
    "        return num + add_nums_breakable(num-1)\n",
    "    else: \n",
    "        return num"
   ]
  },
  {
   "cell_type": "code",
   "execution_count": null,
   "metadata": {},
   "outputs": [],
   "source": [
    "def add_nums(num):\n",
    "    if num <= 1:\n",
    "        print('add_nums(1 == 1)')\n",
    "        return num\n",
    "    else:\n",
    "        print(f\"add_nums({num}) = {num} + add_nums({num -1})\")\n",
    "        return num + add_nums(num-1)\n",
    "\n",
    "add_nums(5)"
   ]
  },
  {
   "cell_type": "markdown",
   "metadata": {},
   "source": [
    "#### Writing a Factorial Function"
   ]
  },
  {
   "cell_type": "code",
   "execution_count": null,
   "metadata": {},
   "outputs": [
    {
     "name": "stdout",
     "output_type": "stream",
     "text": [
      "factorial (5) = 5 * factorial(4)\n",
      "factorial (4) = 4 * factorial(3)\n",
      "factorial (3) = 3 * factorial(2)\n",
      "factorial (2) = 2 * factorial(1)\n",
      "factorial 1 ==1\n",
      "120\n"
     ]
    }
   ],
   "source": [
    "# 5! = 5 *4*3*2*1\n",
    "def factorial(num):\n",
    "    if num <= 1:\n",
    "        print('factorial 1 ==1')\n",
    "        return num\n",
    "    else:\n",
    "        print(f\"factorial ({num}) = {num} * factorial({num-1})\")\n",
    "    return num * factorial(num -1)\n",
    "\n",
    "print(factorial(5))"
   ]
  },
  {
   "cell_type": "code",
   "execution_count": null,
   "metadata": {},
   "outputs": [],
   "source": []
  },
  {
   "cell_type": "markdown",
   "metadata": {},
   "source": [
    "#### In-Class Exercise #4 <br>\n",
    "<p>Write a recursive function that subtracts all numbers to the argument given.</p>"
   ]
  },
  {
   "cell_type": "code",
   "execution_count": null,
   "metadata": {},
   "outputs": [
    {
     "name": "stdout",
     "output_type": "stream",
     "text": [
      "25 5\n",
      "24 4\n",
      "23 3\n",
      "22 2\n",
      "21 1\n",
      "20\n"
     ]
    }
   ],
   "source": [
    "#21 - 5\n",
    "\n",
    "def subtract(num1, num2):\n",
    "    if num2 == 0:\n",
    "        return num1\n",
    "    else:\n",
    "        print(num1, num2)\n",
    "        return subtract(num1 -1, num2 -1)\n",
    "    \n",
    "print(subtract(25,5))"
   ]
  },
  {
   "cell_type": "markdown",
   "metadata": {},
   "source": [
    "## Generators <br>\n",
    "<p>Generators are a type of iterable, like lists or tuples. They do not allow indexing, but they can still be iterated through with for loops. They are created using functions and the yield statement.</p>"
   ]
  },
  {
   "cell_type": "markdown",
   "metadata": {},
   "source": [
    "#### Yield Keyword <br>\n",
    "<p>The yield keyword denotes a generator, it doesn't return so it won't leave the function and reset all variables in the function scope, instead it yields the number back to the caller.</p>"
   ]
  },
  {
   "cell_type": "code",
   "execution_count": null,
   "metadata": {},
   "outputs": [
    {
     "name": "stdout",
     "output_type": "stream",
     "text": [
      "[0, 1, 2, 3, 4, 5, 6, 7, 8, 9]\n",
      "[0, 1, 2, 3, 4, 5, 6, 7, 8, 9]\n"
     ]
    }
   ],
   "source": [
    "# [i for i in range(10)]\n",
    "\n",
    "def my_range(stop, start=0, step=1):\n",
    "    while start < stop:\n",
    "        yield start\n",
    "        start += step\n",
    "print([i for i in my_range(10)])\n",
    "\n",
    "print([i for i in range(10)])"
   ]
  },
  {
   "cell_type": "markdown",
   "metadata": {},
   "source": [
    "#### In-Class Exercise #5 <br>\n",
    "<p>Create a generator that takes a number argument and yields that number squared, then prints each number squared until zero is reached.</p>"
   ]
  },
  {
   "cell_type": "code",
   "execution_count": null,
   "metadata": {},
   "outputs": [
    {
     "data": {
      "text/plain": [
       "[100, 81, 64, 49, 36, 25, 16, 9, 4, 1]"
      ]
     },
     "execution_count": 13,
     "metadata": {},
     "output_type": "execute_result"
    }
   ],
   "source": [
    "def squared_numbers(num):\n",
    "    while num > 0:\n",
    "        yield num **2\n",
    "        num -= 1\n",
    "[i for i in squared_numbers(10)]"
   ]
  },
  {
   "attachments": {},
   "cell_type": "markdown",
   "metadata": {},
   "source": [
    "## Numpy <br>\n",
    "\n",
    "<p>NumPy is a library for the Python programming language, adding support for large, multi-dimensional arrays and matrices, along with a large collection of high-level mathematical functions to operate on these arrays.</p>\n",
    "<ul>\n",
    "    <li>Shape = Rows & Columns</li>\n",
    "    <li>Matrix = Entire Array</li>\n",
    "    <li>Vector = Variables to be applied (same vector as the one used in physics)</li>\n",
    "    <li>Array = Similar to lists</li>\n",
    "</ul>"
   ]
  },
  {
   "attachments": {},
   "cell_type": "markdown",
   "metadata": {},
   "source": [
    "#### Python List Comparison"
   ]
  },
  {
   "attachments": {},
   "cell_type": "markdown",
   "metadata": {},
   "source": [
    "Lists are flexible, dynamic python objects that do their job quite well. But they do not support some mathematical operations in an intuitive way. Consider the summation of two lists, $l_1$ and $l_2$"
   ]
  },
  {
   "cell_type": "code",
   "execution_count": null,
   "metadata": {},
   "outputs": [
    {
     "name": "stdout",
     "output_type": "stream",
     "text": [
      "Sum the lists: [1, 2, 3, 4, 5, 6]\n"
     ]
    },
    {
     "ename": "TypeError",
     "evalue": "unsupported operand type(s) for -: 'list' and 'list'",
     "output_type": "error",
     "traceback": [
      "\u001b[1;31m---------------------------------------------------------------------------\u001b[0m",
      "\u001b[1;31mTypeError\u001b[0m                                 Traceback (most recent call last)",
      "\u001b[1;32mc:\\Users\\jjs61\\OneDrive\\Desktop\\Data Analytics\\Coding_Temple\\week_3\\Python II Day III.ipynb Cell 55\u001b[0m line \u001b[0;36m6\n\u001b[0;32m      <a href='vscode-notebook-cell:/c%3A/Users/jjs61/OneDrive/Desktop/Data%20Analytics/Coding_Temple/week_3/Python%20II%20Day%20III.ipynb#Y105sZmlsZQ%3D%3D?line=2'>3</a>\u001b[0m \u001b[39mprint\u001b[39m(\u001b[39mf\u001b[39m\u001b[39m\"\u001b[39m\u001b[39mSum the lists: \u001b[39m\u001b[39m{\u001b[39;00ml1\u001b[39m+\u001b[39ml2\u001b[39m}\u001b[39;00m\u001b[39m\"\u001b[39m)\n\u001b[0;32m      <a href='vscode-notebook-cell:/c%3A/Users/jjs61/OneDrive/Desktop/Data%20Analytics/Coding_Temple/week_3/Python%20II%20Day%20III.ipynb#Y105sZmlsZQ%3D%3D?line=4'>5</a>\u001b[0m \u001b[39m# Apply a subtraction element wise\u001b[39;00m\n\u001b[1;32m----> <a href='vscode-notebook-cell:/c%3A/Users/jjs61/OneDrive/Desktop/Data%20Analytics/Coding_Temple/week_3/Python%20II%20Day%20III.ipynb#Y105sZmlsZQ%3D%3D?line=5'>6</a>\u001b[0m \u001b[39mprint\u001b[39m(\u001b[39mf\u001b[39m\u001b[39m\"\u001b[39m\u001b[39m Try to subtract\u001b[39m\u001b[39m{\u001b[39;00ml1\u001b[39m-\u001b[39;49ml2\u001b[39m}\u001b[39;00m\u001b[39m\"\u001b[39m)\n",
      "\u001b[1;31mTypeError\u001b[0m: unsupported operand type(s) for -: 'list' and 'list'"
     ]
    }
   ],
   "source": [
    "l1 =[1,2,3]\n",
    "l2 = [4,5,6]\n",
    "print(f\"Sum the lists: {l1+l2}\")\n",
    "\n",
    "# Apply a subtraction element wise\n",
    "print(f\" Try to subtract{l1-l2}\")  # cant subtract lists\n",
    "\n"
   ]
  },
  {
   "attachments": {},
   "cell_type": "markdown",
   "metadata": {},
   "source": [
    "<p>If we wanted to sum lists elementwise, we could write our own function that does the job entirely within the framework of python</p>"
   ]
  },
  {
   "attachments": {},
   "cell_type": "markdown",
   "metadata": {},
   "source": [
    "#### In-Class Exercise #6 - Write a function that sums the indexes of two lists <br>\n",
    "<p>Ex: [2, 3, 4] + [1, 5, 2] = [3, 8, 6]</p>"
   ]
  },
  {
   "cell_type": "code",
   "execution_count": null,
   "metadata": {},
   "outputs": [],
   "source": [
    "list1 = [5,5,10]\n",
    "list2 = [2,4,1]\n",
    "\n",
    "# Output: [7,9,11]\n",
    "def sum_list(l1,l2):\n",
    "    final = []\n",
    "    i = 0\n",
    "    while i < len(l1):\n",
    "        final.appendl1[i] + l2[i]\n",
    "        i += 1\n",
    "    return final\n",
    "\n",
    "    print(sum_list(list + list2))"
   ]
  },
  {
   "attachments": {},
   "cell_type": "markdown",
   "metadata": {},
   "source": [
    "We would have to write a similar function for all the possible operands that we could consider for list arithmatic. This is time consuming and inefficient. Moreover, once the lists in question become nested, mimicing the behavior of true matrices, the problem gets worse. Complicated indexing is necessary, just to allow for the most basic matrix operations common throughout science and engineering. Imagine writing a matrix multiplication function using python syntax in a general way, such that it returns a matrix-matrix or matrix-vector product:\n",
    "\n",
    "\\begin{align}\n",
    "(n \\times x) \\times (x \\times m) \\rightarrow (n \\times m)\n",
    "\\end{align}\n",
    "\n",
    "\\begin{align}\n",
    "\\begin{bmatrix}\n",
    "c_{0,0} & ... & c_{0,n} \\\\\n",
    "\\vdots & \\ddots & \\vdots \\\\\n",
    "c_{m,0} & ... & c_{m,n}\n",
    "\\end{bmatrix}\n",
    "=\n",
    "\\begin{bmatrix}\n",
    "a_{0,0} & ... & a_{0,x} \\\\\n",
    "\\vdots & \\ddots & \\vdots \\\\\n",
    "a_{n,0} & ... & a_{n,x}\n",
    "\\end{bmatrix}\n",
    "\\begin{bmatrix}\n",
    "b_{0,0} & ... & b_{0,m} \\\\\n",
    "\\vdots & \\ddots & \\vdots \\\\\n",
    "b_{x,0} & ... & b_{x,m}\n",
    "\\end{bmatrix}\n",
    "\\end{align}\n",
    "\n",
    "Another Example:\n",
    "\n",
    "<img src=\"https://www.mathsisfun.com/algebra/images/matrix-multiply-a.svg\">\n",
    "\n",
    "---\n",
    "\n",
    "The \"Dot Product\" is where we multiply matching members, then sum up:\n",
    "\n",
    "(1, 2, 3) • (7, 9, 11) = 1×7 + 2×9 + 3×11\n",
    "    = 58\n",
    "\n",
    "We match the 1st members (1 and 7), multiply them, likewise for the 2nd members (2 and 9) and the 3rd members (3 and 11), and finally sum them up.\n",
    "\n",
    "<hr>\n",
    "\n",
    "So, let's instantiate a matrix $\\mathcal{M}$ and a vector $\\vec{v}$ and write a function that does the multiplication ourselves."
   ]
  },
  {
   "cell_type": "code",
   "execution_count": null,
   "metadata": {},
   "outputs": [
    {
     "ename": "SyntaxError",
     "evalue": "expected ':' (3775901697.py, line 10)",
     "output_type": "error",
     "traceback": [
      "\u001b[1;36m  Cell \u001b[1;32mIn[32], line 10\u001b[1;36m\u001b[0m\n\u001b[1;33m    for i in range(n_dime)\u001b[0m\n\u001b[1;37m                          ^\u001b[0m\n\u001b[1;31mSyntaxError\u001b[0m\u001b[1;31m:\u001b[0m expected ':'\n"
     ]
    }
   ],
   "source": [
    "def matrix_multiplication(A,B):\n",
    "    zero_list = [[0 for i in range(len(B[0]))] for i in range(len(a))]\n",
    "    print(zero_list)\n",
    "    inner_dimensions = len(A[0])\n",
    "    print(inner_dimensions)\n",
    "    n_dimension = len(zero_list)\n",
    "    print(n_dimension)\n",
    "    m_dimension = len(zero_list[0])\n",
    "\n",
    "    for i in range(n_dime)\n",
    "\n",
    "\n",
    "\n",
    "\n",
    "#print(matrix_multiplication([[0,1,0],[0,2,0],[0,3,0]], [[1],[2],[3]]))"
   ]
  },
  {
   "attachments": {},
   "cell_type": "markdown",
   "metadata": {},
   "source": [
    "#### Importing"
   ]
  },
  {
   "cell_type": "code",
   "execution_count": null,
   "metadata": {},
   "outputs": [],
   "source": [
    "import numpy as np # <--- Aliasing\n",
    "\n",
    "\n"
   ]
  },
  {
   "attachments": {},
   "cell_type": "markdown",
   "metadata": {},
   "source": [
    "#### Creating an NDArray <br>\n",
    "NumPy is based around a class called the $\\textit{NDArray}$, which is a flexible vector / matrix class that implements the intuitive matrix and vector arithmatic lacking in basic Python. Let's start by creating some NDArrays:"
   ]
  },
  {
   "attachments": {},
   "cell_type": "markdown",
   "metadata": {},
   "source": [
    "##### - np.array()"
   ]
  },
  {
   "cell_type": "code",
   "execution_count": null,
   "metadata": {},
   "outputs": [
    {
     "name": "stdout",
     "output_type": "stream",
     "text": [
      "[1 2 3]\n",
      "<class 'numpy.ndarray'>\n"
     ]
    }
   ],
   "source": [
    "arr_1 = np.array([1,2,3])\n",
    "print(arr_1)\n",
    "print(type(arr_1))\n"
   ]
  },
  {
   "attachments": {},
   "cell_type": "markdown",
   "metadata": {},
   "source": [
    "##### - np.zeros()"
   ]
  },
  {
   "cell_type": "code",
   "execution_count": null,
   "metadata": {},
   "outputs": [
    {
     "data": {
      "text/plain": [
       "array([[0, 0, 0],\n",
       "       [0, 0, 0],\n",
       "       [0, 0, 0]])"
      ]
     },
     "execution_count": 53,
     "metadata": {},
     "output_type": "execute_result"
    }
   ],
   "source": [
    "# create a shape variable that references the two dimensional shape I want my matrix to have\n",
    "shape = (3,3)\n",
    "\n",
    "M = np.zeros(shape, int)\n",
    "M"
   ]
  },
  {
   "attachments": {},
   "cell_type": "markdown",
   "metadata": {},
   "source": [
    "##### - np.ones()"
   ]
  },
  {
   "cell_type": "code",
   "execution_count": null,
   "metadata": {},
   "outputs": [
    {
     "name": "stdout",
     "output_type": "stream",
     "text": [
      "[[1 1 1]\n",
      " [1 1 1]\n",
      " [1 1 1]]\n"
     ]
    }
   ],
   "source": [
    "arr_2 =np.ones(shape, int)\n",
    "print(arr_2)"
   ]
  },
  {
   "attachments": {},
   "cell_type": "markdown",
   "metadata": {},
   "source": [
    "##### - np.arange()"
   ]
  },
  {
   "cell_type": "code",
   "execution_count": null,
   "metadata": {},
   "outputs": [
    {
     "data": {
      "text/plain": [
       "array([ 1,  2,  3,  4,  5,  6,  7,  8,  9, 10, 11])"
      ]
     },
     "execution_count": 58,
     "metadata": {},
     "output_type": "execute_result"
    }
   ],
   "source": [
    "np.arange(1,12)\n"
   ]
  },
  {
   "attachments": {},
   "cell_type": "markdown",
   "metadata": {},
   "source": [
    "##### - Making Lists into NDArrays"
   ]
  },
  {
   "cell_type": "code",
   "execution_count": null,
   "metadata": {},
   "outputs": [
    {
     "data": {
      "text/plain": [
       "array([4, 5, 6])"
      ]
     },
     "execution_count": 61,
     "metadata": {},
     "output_type": "execute_result"
    }
   ],
   "source": [
    "l3 =[4,5,6]\n",
    "# use .array()\n",
    "np.array(l3)\n",
    "\n",
    "arr_list = np.array(l3)\n",
    "arr_list"
   ]
  },
  {
   "attachments": {},
   "cell_type": "markdown",
   "metadata": {},
   "source": [
    "#### Performing Calculations on NDArrays"
   ]
  },
  {
   "attachments": {},
   "cell_type": "markdown",
   "metadata": {},
   "source": [
    "##### - Summation"
   ]
  },
  {
   "cell_type": "code",
   "execution_count": null,
   "metadata": {
    "scrolled": true
   },
   "outputs": [
    {
     "data": {
      "text/plain": [
       "array([15, 30, 45, 60, 75])"
      ]
     },
     "execution_count": 62,
     "metadata": {},
     "output_type": "execute_result"
    }
   ],
   "source": [
    "arr5 = np.array([5,10,15,20,25])\n",
    "arr10 = np.array([10,20,30,40,50])\n",
    "\n",
    "arr5 + arr10"
   ]
  },
  {
   "attachments": {},
   "cell_type": "markdown",
   "metadata": {},
   "source": [
    "##### - Difference"
   ]
  },
  {
   "cell_type": "code",
   "execution_count": null,
   "metadata": {},
   "outputs": [
    {
     "data": {
      "text/plain": [
       "array([ -5, -10, -15, -20, -25])"
      ]
     },
     "execution_count": 63,
     "metadata": {},
     "output_type": "execute_result"
    }
   ],
   "source": [
    "arr5 - arr10"
   ]
  },
  {
   "attachments": {},
   "cell_type": "markdown",
   "metadata": {},
   "source": [
    "##### - Multiplication"
   ]
  },
  {
   "cell_type": "code",
   "execution_count": null,
   "metadata": {},
   "outputs": [
    {
     "data": {
      "text/plain": [
       "array([0, 0, 0, 0, 0])"
      ]
     },
     "execution_count": 65,
     "metadata": {},
     "output_type": "execute_result"
    }
   ],
   "source": [
    "(arr5 / arr10).astype(int)"
   ]
  },
  {
   "attachments": {},
   "cell_type": "markdown",
   "metadata": {},
   "source": [
    "##### - Division"
   ]
  },
  {
   "cell_type": "code",
   "execution_count": null,
   "metadata": {},
   "outputs": [],
   "source": [
    "arr5"
   ]
  },
  {
   "attachments": {},
   "cell_type": "markdown",
   "metadata": {},
   "source": [
    "##### - Standard Deviation"
   ]
  },
  {
   "cell_type": "code",
   "execution_count": null,
   "metadata": {},
   "outputs": [
    {
     "name": "stdout",
     "output_type": "stream",
     "text": [
      "14.142135623730951\n"
     ]
    }
   ],
   "source": [
    "print(np.std(arr10))            "
   ]
  },
  {
   "attachments": {},
   "cell_type": "markdown",
   "metadata": {},
   "source": [
    "##### - Mean"
   ]
  },
  {
   "cell_type": "code",
   "execution_count": null,
   "metadata": {},
   "outputs": [
    {
     "data": {
      "text/plain": [
       "15"
      ]
     },
     "execution_count": 68,
     "metadata": {},
     "output_type": "execute_result"
    }
   ],
   "source": [
    "np.mean(arr5).astype(int)"
   ]
  },
  {
   "attachments": {},
   "cell_type": "markdown",
   "metadata": {},
   "source": [
    "##### - Median"
   ]
  },
  {
   "cell_type": "code",
   "execution_count": null,
   "metadata": {},
   "outputs": [
    {
     "data": {
      "text/plain": [
       "15"
      ]
     },
     "execution_count": 70,
     "metadata": {},
     "output_type": "execute_result"
    }
   ],
   "source": [
    "np.median(arr5).astype(int)\n",
    "\n"
   ]
  },
  {
   "attachments": {},
   "cell_type": "markdown",
   "metadata": {},
   "source": [
    "#### Numpy Subsetting"
   ]
  },
  {
   "cell_type": "code",
   "execution_count": null,
   "metadata": {},
   "outputs": [
    {
     "data": {
      "text/plain": [
       "array([30, 40, 50])"
      ]
     },
     "execution_count": 71,
     "metadata": {},
     "output_type": "execute_result"
    }
   ],
   "source": [
    "mask = arr10 > 20\n",
    "arr10[mask]"
   ]
  },
  {
   "attachments": {},
   "cell_type": "markdown",
   "metadata": {},
   "source": [
    "#### Multi-dimensional Arrays <br>\n",
    "NumPy seamlessly supports multidimensional arrays and matrices of arbitrary dimension without nesting NDArrays. NDArrays themselves are flexible and extensible and may be defined with such dimensions, with a rich API of common functions to facilitate their use. Let's start by building a two dimensional 3x3 matrix by conversion from a nested group of core python lists $M = [l_0, l_1, l_2]$:"
   ]
  },
  {
   "cell_type": "code",
   "execution_count": null,
   "metadata": {},
   "outputs": [
    {
     "name": "stdout",
     "output_type": "stream",
     "text": [
      "This is a nested list structure [[0, 1, 2], [3, 4, 5], [6, 7, 8]]\n",
      "Matrix Structure: [[0 1 2]\n",
      " [3 4 5]\n",
      " [6 7 8]]\n"
     ]
    }
   ],
   "source": [
    "a_list = [0,1,2]\n",
    "b_list = [3,4,5]\n",
    "c_list = [6,7,8]\n",
    "\n",
    "# step 1: Convert list into a matrix\n",
    "M = [a_list, b_list, c_list]\n",
    "\n",
    "print(f'This is a nested list structure {M}')\n",
    "\n",
    "\n",
    "\n",
    "M = np.array(M)\n",
    "print(f\"Matrix Structure: {M}\")"
   ]
  },
  {
   "attachments": {},
   "cell_type": "markdown",
   "metadata": {},
   "source": [
    "#### Indexing NDArrays <br>\n",
    "<p> Similar to lists within lists; however, the syntax looks more like C programming language.... It is [1, 2] to access the second row, third element.</p>"
   ]
  },
  {
   "cell_type": "code",
   "execution_count": null,
   "metadata": {},
   "outputs": [
    {
     "name": "stdout",
     "output_type": "stream",
     "text": [
      "[[0 1 2]\n",
      " [3 9 5]\n",
      " [6 7 8]]\n"
     ]
    }
   ],
   "source": [
    "# Multi level way:\n",
    "# this will seperate out the statement into two indecies\n",
    "M[1][1] =9\n",
    "print(M)"
   ]
  },
  {
   "attachments": {},
   "cell_type": "markdown",
   "metadata": {},
   "source": [
    "#### Assigning Values in NDArrays"
   ]
  },
  {
   "cell_type": "code",
   "execution_count": null,
   "metadata": {},
   "outputs": [
    {
     "name": "stdout",
     "output_type": "stream",
     "text": [
      "[[0 8 2]\n",
      " [3 9 5]\n",
      " [6 7 8]]\n"
     ]
    }
   ],
   "source": [
    "M[0,1] = 8\n",
    "print(M)"
   ]
  },
  {
   "attachments": {},
   "cell_type": "markdown",
   "metadata": {},
   "source": [
    "<p>Notice above how we ended up with a 1 in the target element's place. This is a data type issue. The .dtype() method is supported by all NDArrays, as well as the .astype() method for casting between data types:</p>"
   ]
  },
  {
   "attachments": {},
   "cell_type": "markdown",
   "metadata": {},
   "source": [
    "#### Checking NDArray Type"
   ]
  },
  {
   "cell_type": "code",
   "execution_count": null,
   "metadata": {},
   "outputs": [
    {
     "data": {
      "text/plain": [
       "dtype('int32')"
      ]
     },
     "execution_count": 87,
     "metadata": {},
     "output_type": "execute_result"
    }
   ],
   "source": [
    "M.dtype"
   ]
  },
  {
   "attachments": {},
   "cell_type": "markdown",
   "metadata": {},
   "source": [
    "#### Altering NDArray Type"
   ]
  },
  {
   "cell_type": "code",
   "execution_count": 108,
   "metadata": {},
   "outputs": [
    {
     "name": "stdout",
     "output_type": "stream",
     "text": [
      "type before changes int32\n"
     ]
    }
   ],
   "source": [
    "# let's take a look at te type of the data before we make changes:\n",
    "t = M\n",
    "print(f'type before changes {t.dtype}')\n",
    "# change to float\n",
    "# use .astype()\n",
    "\n",
    "changed = t.astype(np.float64)\n"
   ]
  },
  {
   "attachments": {},
   "cell_type": "markdown",
   "metadata": {},
   "source": [
    "#### Checking the Shape <br>\n",
    "The behavior and properties of an NDArray are often sensitively dependent on the $\\textit{shape}$ of the NDArray itself. The shape of an array can be found by calling the .shape method, which will return a tuple containing the array's dimensions:"
   ]
  },
  {
   "cell_type": "code",
   "execution_count": 110,
   "metadata": {},
   "outputs": [
    {
     "name": "stdout",
     "output_type": "stream",
     "text": [
      "(3, 3)\n",
      "(5,)\n"
     ]
    }
   ],
   "source": [
    "print(changed.shape)\n",
    "print(arr5.shape)"
   ]
  },
  {
   "cell_type": "code",
   "execution_count": null,
   "metadata": {},
   "outputs": [],
   "source": []
  },
  {
   "attachments": {},
   "cell_type": "markdown",
   "metadata": {},
   "source": [
    "#### Altering the Shape <br>\n",
    "<p>As long as the number of elements remains fixed, we can reshape NDArrays at will:</p>"
   ]
  },
  {
   "cell_type": "code",
   "execution_count": 112,
   "metadata": {},
   "outputs": [
    {
     "name": "stdout",
     "output_type": "stream",
     "text": [
      "(3, 3)\n",
      "Now we will reshape the matrix into a vector: [[0]\n",
      " [8]\n",
      " [2]\n",
      " [3]\n",
      " [9]\n",
      " [5]\n",
      " [6]\n",
      " [7]\n",
      " [8]]\n"
     ]
    }
   ],
   "source": [
    "print(changed.shape)\n",
    "print(f\"Now we will reshape the matrix into a vector: {changed.reshape(9,1).astype(int)}\")"
   ]
  },
  {
   "cell_type": "code",
   "execution_count": null,
   "metadata": {},
   "outputs": [],
   "source": []
  },
  {
   "attachments": {},
   "cell_type": "markdown",
   "metadata": {},
   "source": [
    "#### In-Class Exercise #7 - Create a matrix of range 0 up to 16 and reshape it into a 4x4 matrice"
   ]
  },
  {
   "cell_type": "code",
   "execution_count": null,
   "metadata": {},
   "outputs": [],
   "source": []
  },
  {
   "attachments": {},
   "cell_type": "markdown",
   "metadata": {},
   "source": [
    "#### Complex Indexing & Assinging"
   ]
  },
  {
   "cell_type": "code",
   "execution_count": 123,
   "metadata": {},
   "outputs": [
    {
     "name": "stdout",
     "output_type": "stream",
     "text": [
      "reseting the matrix\n",
      "Before assigning valuesL \n",
      " [M]\n",
      "after assigning 1 to the first column \n",
      " [[0 0 0 0 0 0]\n",
      " [0 0 0 0 0 0]\n",
      " [0 0 0 0 0 0]\n",
      " [0 0 0 0 0 0]\n",
      " [0 0 0 0 0 0]\n",
      " [0 0 0 0 0 0]]\n",
      "after assigning 5: [[0 0 0 0 0 0]\n",
      " [0 0 0 0 0 0]\n",
      " [5 5 5 5 5 5]\n",
      " [5 5 5 5 5 5]\n",
      " [5 5 5 5 5 5]\n",
      " [0 0 0 0 0 0]]\n",
      "reset confirmed\n",
      "[[0 0 0 0 0 0]\n",
      " [0 0 0 0 0 0]\n",
      " [0 0 0 0 0 0]\n",
      " [0 0 0 0 0 0]\n",
      " [0 0 0 0 0 0]\n",
      " [0 0 0 0 0 0]]\n",
      "assinging 2 and 3rd columns to two \n",
      "[[0 2 2 0 0 0]\n",
      " [0 2 2 0 0 0]\n",
      " [0 2 2 0 0 0]\n",
      " [0 2 2 0 0 0]\n",
      " [0 2 2 0 0 0]\n",
      " [0 2 2 0 0 0]]\n"
     ]
    }
   ],
   "source": [
    "# reset the matrix\n",
    "M = np.zeros((6,6)).astype(int)\n",
    "print('reseting the matrix')\n",
    "print('Before assigning valuesL \\n [M]')\n",
    "\n",
    "m[:,0] = 1\n",
    "print(f\"after assigning 1 to the first column \\n {M}\")\n",
    "\n",
    "# set all elemnts in the axis to 3 to 5 equal to 5 \n",
    "M[2:5, :] =5\n",
    "\n",
    "print(f'after assigning 5: {M}')\n",
    "\n",
    "\n",
    "M = M * 0\n",
    "print(f'reset confirmed\\n{M}')\n",
    "\n",
    "\n",
    "# set 2 and 3rd columns to two\n",
    "M[:, 1:3] = 2\n",
    "print(f'assinging 2 and 3rd columns to two \\n{M}')"
   ]
  },
  {
   "attachments": {},
   "cell_type": "markdown",
   "metadata": {},
   "source": [
    "#### Elementwise Multiplication"
   ]
  },
  {
   "attachments": {},
   "cell_type": "markdown",
   "metadata": {},
   "source": [
    "<p>As long as the shapes of NDArrays are 'compatible', they can be multiplied elementwise, broadcasted, used in inner products, and much much more. 'Compatible' in this context can mean compatible in the linear algebraic sense, i.e. for inner products and other matrix multiplication, or simply sharing a dimension in such a manner that broadcasting 'makes sense'. Here are some examples of this:</p>"
   ]
  },
  {
   "cell_type": "code",
   "execution_count": 130,
   "metadata": {},
   "outputs": [
    {
     "name": "stdout",
     "output_type": "stream",
     "text": [
      "[[0 0 0 0 0 0]\n",
      " [0 0 0 0 0 0]\n",
      " [0 0 0 0 0 0]\n",
      " [0 0 0 0 0 0]\n",
      " [0 0 0 0 0 0]\n",
      " [0 0 0 0 0 0]]\n",
      "\n",
      "\n",
      "[0 1 2 3 4 5]\n",
      "[[0 1 2 3 4 5]\n",
      " [0 1 2 3 4 5]\n",
      " [0 1 2 3 4 5]\n",
      " [0 1 2 3 4 5]\n",
      " [0 1 2 3 4 5]\n",
      " [0 1 2 3 4 5]]\n",
      "[[ 0  1  4  9 16 25]\n",
      " [ 0  1  4  9 16 25]\n",
      " [ 0  1  4  9 16 25]\n",
      " [ 0  1  4  9 16 25]\n",
      " [ 0  1  4  9 16 25]\n",
      " [ 0  1  4  9 16 25]]\n"
     ]
    }
   ],
   "source": [
    "M *= 0\n",
    "matrix = M\n",
    "v = M\n",
    "# create the vector of range 6\n",
    "vecotr = np.arange(6)\n",
    "print(matrix)\n",
    "print('\\n')\n",
    "print(vecotr)\n",
    "\n",
    "matrix += vecotr\n",
    "print(matrix)\n",
    "\n",
    "matrix *= vecotr\n",
    "print(matrix)"
   ]
  },
  {
   "attachments": {},
   "cell_type": "markdown",
   "metadata": {},
   "source": [
    "#### np.where() <br>\n",
    "<p>If statement within NDArrays that allows you to run conditionals on the entire array</p>"
   ]
  },
  {
   "cell_type": "code",
   "execution_count": 133,
   "metadata": {},
   "outputs": [
    {
     "name": "stdout",
     "output_type": "stream",
     "text": [
      "(array([0, 0, 0, 0, 1, 1, 1, 1, 2, 2, 2, 2, 3, 3, 3, 3, 4, 4, 4, 4, 5, 5,\n",
      "       5, 5], dtype=int64), array([2, 3, 4, 5, 2, 3, 4, 5, 2, 3, 4, 5, 2, 3, 4, 5, 2, 3, 4, 5, 2, 3,\n",
      "       4, 5], dtype=int64))\n",
      "[[ 0  2  4  9 16 25]\n",
      " [ 0  2  4  9 16 25]\n",
      " [ 0  2  4  9 16 25]\n",
      " [ 0  2  4  9 16 25]\n",
      " [ 0  2  4  9 16 25]\n",
      " [ 0  2  4  9 16 25]]\n"
     ]
    }
   ],
   "source": [
    "print(f'{np.where(M>2)}')\n",
    "\n",
    "\n",
    "\n",
    "mask = np.where(M==1)\n",
    "M[mask] =2\n",
    "\n",
    "print(M)"
   ]
  },
  {
   "attachments": {},
   "cell_type": "markdown",
   "metadata": {},
   "source": [
    "#### Random Sampling <br>\n",
    "<p>NumPy provides machinery to work with random numbers - something often needed in a broad spectrum of data science applications.</p>"
   ]
  },
  {
   "cell_type": "code",
   "execution_count": 149,
   "metadata": {},
   "outputs": [
    {
     "name": "stdout",
     "output_type": "stream",
     "text": [
      "950714.3064099161\n",
      "[7.58794548 6.38792636 2.40416776]\n",
      "this is adding a matrix: [[3 7 8 5 4 8]\n",
      " [8 3 6 5 2 8]\n",
      " [6 2 5 1 6 9]\n",
      " [1 3 7 4 9 3]\n",
      " [5 3 7 5 9 7]\n",
      " [2 4 9 2 9 5]]\n"
     ]
    }
   ],
   "source": [
    "# Seed allows us to reproduce the random numbers over and over again\n",
    "# once run the randomizer provides the same numbers everytime\n",
    "\n",
    "np.random.seed(42)\n",
    "\n",
    "# A single call to the uniform function that allows us to generate a float between 0 and 1\n",
    "np.random.uniform()\n",
    "\n",
    "\n",
    "print(np.random.uniform(0,1e6))\n",
    "\n",
    "# can generate more than 1 random #\n",
    "print(np.random.uniform(1,10,3))\n",
    "\n",
    "\n",
    "print(f'this is adding a matrix: {np.random.randint(1,10,(6,6))}')\n"
   ]
  },
  {
   "attachments": {},
   "cell_type": "markdown",
   "metadata": {},
   "source": [
    "## Working With CSV's"
   ]
  },
  {
   "attachments": {},
   "cell_type": "markdown",
   "metadata": {},
   "source": [
    "#### Imports"
   ]
  },
  {
   "cell_type": "code",
   "execution_count": 150,
   "metadata": {},
   "outputs": [],
   "source": [
    "import csv"
   ]
  },
  {
   "attachments": {},
   "cell_type": "markdown",
   "metadata": {},
   "source": [
    "#### Reading a CSV"
   ]
  },
  {
   "cell_type": "code",
   "execution_count": 156,
   "metadata": {},
   "outputs": [
    {
     "data": {
      "text/plain": [
       "[['Rk',\n",
       "  'Pos',\n",
       "  'Name',\n",
       "  'Age',\n",
       "  'G',\n",
       "  'PA',\n",
       "  'AB',\n",
       "  'R',\n",
       "  'H',\n",
       "  '2B',\n",
       "  '3B',\n",
       "  'HR',\n",
       "  'RBI',\n",
       "  'SB',\n",
       "  'CS',\n",
       "  'BB',\n",
       "  'SO',\n",
       "  'BA',\n",
       "  'OBP',\n",
       "  'SLG',\n",
       "  'OPS',\n",
       "  'OPS+',\n",
       "  'TB',\n",
       "  'GDP',\n",
       "  'HBP',\n",
       "  'SH',\n",
       "  'SF',\n",
       "  'IBB'],\n",
       " ['1',\n",
       "  'C',\n",
       "  'Christian Vazquez',\n",
       "  '26',\n",
       "  '99',\n",
       "  '345',\n",
       "  '324',\n",
       "  '43',\n",
       "  '94',\n",
       "  '18',\n",
       "  '2',\n",
       "  '5',\n",
       "  '32',\n",
       "  '7',\n",
       "  '2',\n",
       "  '17',\n",
       "  '64',\n",
       "  '.290',\n",
       "  '.330',\n",
       "  '.404',\n",
       "  '.735',\n",
       "  '91',\n",
       "  '131',\n",
       "  '14',\n",
       "  '3',\n",
       "  '0',\n",
       "  '1',\n",
       "  '0'],\n",
       " ['2',\n",
       "  '1B',\n",
       "  'Mitch Moreland',\n",
       "  '31',\n",
       "  '149',\n",
       "  '576',\n",
       "  '508',\n",
       "  '73',\n",
       "  '125',\n",
       "  '34',\n",
       "  '0',\n",
       "  '22',\n",
       "  '79',\n",
       "  '0',\n",
       "  '1',\n",
       "  '57',\n",
       "  '120',\n",
       "  '.246',\n",
       "  '.326',\n",
       "  '.443',\n",
       "  '.769',\n",
       "  '99',\n",
       "  '225',\n",
       "  '14',\n",
       "  '6',\n",
       "  '0',\n",
       "  '5',\n",
       "  '6'],\n",
       " ['3',\n",
       "  '2B',\n",
       "  'Dustin Pedroia',\n",
       "  '33',\n",
       "  '105',\n",
       "  '463',\n",
       "  '406',\n",
       "  '46',\n",
       "  '119',\n",
       "  '19',\n",
       "  '0',\n",
       "  '7',\n",
       "  '62',\n",
       "  '4',\n",
       "  '3',\n",
       "  '49',\n",
       "  '48',\n",
       "  '.293',\n",
       "  '.369',\n",
       "  '.392',\n",
       "  '.760',\n",
       "  '100',\n",
       "  '159',\n",
       "  '11',\n",
       "  '2',\n",
       "  '2',\n",
       "  '4',\n",
       "  '4'],\n",
       " ['4',\n",
       "  'SS',\n",
       "  'Xander Bogaerts',\n",
       "  '24',\n",
       "  '148',\n",
       "  '635',\n",
       "  '571',\n",
       "  '94',\n",
       "  '156',\n",
       "  '32',\n",
       "  '6',\n",
       "  '10',\n",
       "  '62',\n",
       "  '15',\n",
       "  '1',\n",
       "  '56',\n",
       "  '116',\n",
       "  '.273',\n",
       "  '.343',\n",
       "  '.403',\n",
       "  '.746',\n",
       "  '95',\n",
       "  '230',\n",
       "  '17',\n",
       "  '6',\n",
       "  '0',\n",
       "  '2',\n",
       "  '6'],\n",
       " ['5',\n",
       "  '3B',\n",
       "  'Rafael Devers',\n",
       "  '20',\n",
       "  '58',\n",
       "  '240',\n",
       "  '222',\n",
       "  '34',\n",
       "  '63',\n",
       "  '14',\n",
       "  '0',\n",
       "  '10',\n",
       "  '30',\n",
       "  '3',\n",
       "  '1',\n",
       "  '18',\n",
       "  '57',\n",
       "  '.284',\n",
       "  '.338',\n",
       "  '.482',\n",
       "  '.819',\n",
       "  '111',\n",
       "  '107',\n",
       "  '5',\n",
       "  '0',\n",
       "  '0',\n",
       "  '0',\n",
       "  '3'],\n",
       " ['6',\n",
       "  'LF',\n",
       "  'Andrew Benintendi',\n",
       "  '22',\n",
       "  '151',\n",
       "  '658',\n",
       "  '573',\n",
       "  '84',\n",
       "  '155',\n",
       "  '26',\n",
       "  '1',\n",
       "  '20',\n",
       "  '90',\n",
       "  '20',\n",
       "  '5',\n",
       "  '70',\n",
       "  '112',\n",
       "  '.271',\n",
       "  '.352',\n",
       "  '.424',\n",
       "  '.776',\n",
       "  '102',\n",
       "  '243',\n",
       "  '16',\n",
       "  '6',\n",
       "  '1',\n",
       "  '8',\n",
       "  '7'],\n",
       " ['7',\n",
       "  'CF',\n",
       "  'Jackie Bradley Jr.',\n",
       "  '27',\n",
       "  '133',\n",
       "  '541',\n",
       "  '482',\n",
       "  '58',\n",
       "  '118',\n",
       "  '19',\n",
       "  '3',\n",
       "  '17',\n",
       "  '63',\n",
       "  '8',\n",
       "  '3',\n",
       "  '48',\n",
       "  '124',\n",
       "  '.245',\n",
       "  '.323',\n",
       "  '.402',\n",
       "  '.726',\n",
       "  '89',\n",
       "  '194',\n",
       "  '8',\n",
       "  '9',\n",
       "  '0',\n",
       "  '2',\n",
       "  '4'],\n",
       " ['8',\n",
       "  'RF',\n",
       "  'Mookie Betts',\n",
       "  '24',\n",
       "  '153',\n",
       "  '712',\n",
       "  '628',\n",
       "  '101',\n",
       "  '166',\n",
       "  '46',\n",
       "  '2',\n",
       "  '24',\n",
       "  '102',\n",
       "  '26',\n",
       "  '3',\n",
       "  '77',\n",
       "  '79',\n",
       "  '.264',\n",
       "  '.344',\n",
       "  '.459',\n",
       "  '.803',\n",
       "  '108',\n",
       "  '288',\n",
       "  '9',\n",
       "  '2',\n",
       "  '0',\n",
       "  '5',\n",
       "  '9'],\n",
       " ['9',\n",
       "  'DH',\n",
       "  'Hanley Ramirez',\n",
       "  '33',\n",
       "  '133',\n",
       "  '553',\n",
       "  '496',\n",
       "  '58',\n",
       "  '120',\n",
       "  '24',\n",
       "  '0',\n",
       "  '23',\n",
       "  '62',\n",
       "  '1',\n",
       "  '3',\n",
       "  '51',\n",
       "  '116',\n",
       "  '.242',\n",
       "  '.320',\n",
       "  '.429',\n",
       "  '.750',\n",
       "  '94',\n",
       "  '213',\n",
       "  '15',\n",
       "  '6',\n",
       "  '0',\n",
       "  '0',\n",
       "  '8'],\n",
       " ['10',\n",
       "  'C',\n",
       "  'Sandy Leon',\n",
       "  '28',\n",
       "  '85',\n",
       "  '301',\n",
       "  '271',\n",
       "  '32',\n",
       "  '61',\n",
       "  '14',\n",
       "  '0',\n",
       "  '7',\n",
       "  '39',\n",
       "  '0',\n",
       "  '0',\n",
       "  '25',\n",
       "  '74',\n",
       "  '.225',\n",
       "  '.290',\n",
       "  '.354',\n",
       "  '.644',\n",
       "  '68',\n",
       "  '96',\n",
       "  '5',\n",
       "  '1',\n",
       "  '1',\n",
       "  '3',\n",
       "  '1'],\n",
       " ['11',\n",
       "  'UT',\n",
       "  'Chris Young',\n",
       "  '33',\n",
       "  '90',\n",
       "  '276',\n",
       "  '243',\n",
       "  '30',\n",
       "  '57',\n",
       "  '12',\n",
       "  '2',\n",
       "  '7',\n",
       "  '25',\n",
       "  '3',\n",
       "  '2',\n",
       "  '30',\n",
       "  '55',\n",
       "  '.235',\n",
       "  '.322',\n",
       "  '.387',\n",
       "  '.709',\n",
       "  '85',\n",
       "  '94',\n",
       "  '4',\n",
       "  '2',\n",
       "  '0',\n",
       "  '1',\n",
       "  '0'],\n",
       " ['12',\n",
       "  '3B',\n",
       "  'Deven Marrero',\n",
       "  '26',\n",
       "  '71',\n",
       "  '188',\n",
       "  '171',\n",
       "  '32',\n",
       "  '36',\n",
       "  '9',\n",
       "  '0',\n",
       "  '4',\n",
       "  '27',\n",
       "  '5',\n",
       "  '0',\n",
       "  '12',\n",
       "  '61',\n",
       "  '.211',\n",
       "  '.259',\n",
       "  '.333',\n",
       "  '.593',\n",
       "  '54',\n",
       "  '57',\n",
       "  '8',\n",
       "  '0',\n",
       "  '3',\n",
       "  '2',\n",
       "  '0'],\n",
       " ['13',\n",
       "  '2B',\n",
       "  'Eduardo Nunez',\n",
       "  '30',\n",
       "  '38',\n",
       "  '173',\n",
       "  '165',\n",
       "  '23',\n",
       "  '53',\n",
       "  '12',\n",
       "  '0',\n",
       "  '8',\n",
       "  '27',\n",
       "  '6',\n",
       "  '2',\n",
       "  '6',\n",
       "  '25',\n",
       "  '.321',\n",
       "  '.353',\n",
       "  '.539',\n",
       "  '.892',\n",
       "  '128',\n",
       "  '89',\n",
       "  '3',\n",
       "  '2',\n",
       "  '0',\n",
       "  '0',\n",
       "  '0'],\n",
       " ['14',\n",
       "  '2B',\n",
       "  'Brock Holt',\n",
       "  '29',\n",
       "  '64',\n",
       "  '164',\n",
       "  '140',\n",
       "  '20',\n",
       "  '28',\n",
       "  '6',\n",
       "  '0',\n",
       "  '0',\n",
       "  '7',\n",
       "  '2',\n",
       "  '1',\n",
       "  '19',\n",
       "  '34',\n",
       "  '.200',\n",
       "  '.305',\n",
       "  '.243',\n",
       "  '.548',\n",
       "  '47',\n",
       "  '34',\n",
       "  '3',\n",
       "  '3',\n",
       "  '0',\n",
       "  '2',\n",
       "  '0'],\n",
       " ['15',\n",
       "  'IF',\n",
       "  'Josh Rutledge',\n",
       "  '28',\n",
       "  '37',\n",
       "  '118',\n",
       "  '107',\n",
       "  '10',\n",
       "  '24',\n",
       "  '2',\n",
       "  '1',\n",
       "  '0',\n",
       "  '9',\n",
       "  '1',\n",
       "  '0',\n",
       "  '9',\n",
       "  '31',\n",
       "  '.224',\n",
       "  '.297',\n",
       "  '.262',\n",
       "  '.558',\n",
       "  '49',\n",
       "  '28',\n",
       "  '1',\n",
       "  '2',\n",
       "  '0',\n",
       "  '0',\n",
       "  '0'],\n",
       " ['16',\n",
       "  '3B',\n",
       "  'Pablo Sandoval',\n",
       "  '30',\n",
       "  '32',\n",
       "  '108',\n",
       "  '99',\n",
       "  '10',\n",
       "  '21',\n",
       "  '2',\n",
       "  '0',\n",
       "  '4',\n",
       "  '12',\n",
       "  '0',\n",
       "  '1',\n",
       "  '8',\n",
       "  '24',\n",
       "  '.212',\n",
       "  '.269',\n",
       "  '.354',\n",
       "  '.622',\n",
       "  '61',\n",
       "  '35',\n",
       "  '4',\n",
       "  '0',\n",
       "  '0',\n",
       "  '1',\n",
       "  '0'],\n",
       " ['17',\n",
       "  'UT',\n",
       "  'Sam Travis',\n",
       "  '23',\n",
       "  '33',\n",
       "  '83',\n",
       "  '76',\n",
       "  '13',\n",
       "  '20',\n",
       "  '6',\n",
       "  '0',\n",
       "  '0',\n",
       "  '1',\n",
       "  '1',\n",
       "  '0',\n",
       "  '6',\n",
       "  '23',\n",
       "  '.263',\n",
       "  '.325',\n",
       "  '.342',\n",
       "  '.667',\n",
       "  '75',\n",
       "  '26',\n",
       "  '2',\n",
       "  '1',\n",
       "  '0',\n",
       "  '0',\n",
       "  '0'],\n",
       " ['18',\n",
       "  'UT',\n",
       "  'Tzu-Wei Lin',\n",
       "  '23',\n",
       "  '25',\n",
       "  '66',\n",
       "  '56',\n",
       "  '7',\n",
       "  '15',\n",
       "  '0',\n",
       "  '2',\n",
       "  '0',\n",
       "  '2',\n",
       "  '1',\n",
       "  '1',\n",
       "  '9',\n",
       "  '17',\n",
       "  '.268',\n",
       "  '.369',\n",
       "  '.339',\n",
       "  '.709',\n",
       "  '88',\n",
       "  '19',\n",
       "  '0',\n",
       "  '0',\n",
       "  '1',\n",
       "  '0',\n",
       "  '0'],\n",
       " ['19',\n",
       "  'IF',\n",
       "  'Marco Hernandez',\n",
       "  '24',\n",
       "  '21',\n",
       "  '60',\n",
       "  '58',\n",
       "  '7',\n",
       "  '16',\n",
       "  '3',\n",
       "  '0',\n",
       "  '0',\n",
       "  '2',\n",
       "  '0',\n",
       "  '1',\n",
       "  '1',\n",
       "  '15',\n",
       "  '.276',\n",
       "  '.300',\n",
       "  '.328',\n",
       "  '.628',\n",
       "  '65',\n",
       "  '19',\n",
       "  '0',\n",
       "  '1',\n",
       "  '0',\n",
       "  '0',\n",
       "  '0'],\n",
       " ['20',\n",
       "  'UT',\n",
       "  'Rajai Davis',\n",
       "  '36',\n",
       "  '17',\n",
       "  '38',\n",
       "  '36',\n",
       "  '7',\n",
       "  '9',\n",
       "  '2',\n",
       "  '0',\n",
       "  '0',\n",
       "  '2',\n",
       "  '3',\n",
       "  '1',\n",
       "  '1',\n",
       "  '13',\n",
       "  '.250',\n",
       "  '.289',\n",
       "  '.306',\n",
       "  '.595',\n",
       "  '56',\n",
       "  '11',\n",
       "  '2',\n",
       "  '1',\n",
       "  '0',\n",
       "  '0',\n",
       "  '0'],\n",
       " ['21',\n",
       "  'UT',\n",
       "  'Steve Selsky',\n",
       "  '27',\n",
       "  '8',\n",
       "  '9',\n",
       "  '9',\n",
       "  '0',\n",
       "  '1',\n",
       "  '1',\n",
       "  '0',\n",
       "  '0',\n",
       "  '0',\n",
       "  '0',\n",
       "  '0',\n",
       "  '0',\n",
       "  '5',\n",
       "  '.111',\n",
       "  '.111',\n",
       "  '.222',\n",
       "  '.333',\n",
       "  '-16',\n",
       "  '2',\n",
       "  '0',\n",
       "  '0',\n",
       "  '0',\n",
       "  '0',\n",
       "  '0'],\n",
       " ['22',\n",
       "  'UT',\n",
       "  'Blake Swihart',\n",
       "  '25',\n",
       "  '6',\n",
       "  '7',\n",
       "  '5',\n",
       "  '1',\n",
       "  '1',\n",
       "  '0',\n",
       "  '0',\n",
       "  '0',\n",
       "  '0',\n",
       "  '0',\n",
       "  '0',\n",
       "  '2',\n",
       "  '3',\n",
       "  '.200',\n",
       "  '.429',\n",
       "  '.200',\n",
       "  '.629',\n",
       "  '74',\n",
       "  '1',\n",
       "  '0',\n",
       "  '0',\n",
       "  '0',\n",
       "  '0',\n",
       "  '0'],\n",
       " ['23',\n",
       "  '2B',\n",
       "  \"Chase d'Arnaud\",\n",
       "  '30',\n",
       "  '2',\n",
       "  '1',\n",
       "  '1',\n",
       "  '2',\n",
       "  '1',\n",
       "  '0',\n",
       "  '0',\n",
       "  '0',\n",
       "  '0',\n",
       "  '0',\n",
       "  '0',\n",
       "  '0',\n",
       "  '0',\n",
       "  '1.000',\n",
       "  '1.000',\n",
       "  '1.000',\n",
       "  '2.000',\n",
       "  '428',\n",
       "  '1',\n",
       "  '0',\n",
       "  '0',\n",
       "  '0',\n",
       "  '0',\n",
       "  '0']]"
      ]
     },
     "execution_count": 156,
     "metadata": {},
     "output_type": "execute_result"
    }
   ],
   "source": [
    "def open_csv(filepath, d = ','):\n",
    "    # define a list to store the data in:\n",
    "    data = []\n",
    "\n",
    "    # use the with keyword and utf_8-sig engoding to load data from .csv\n",
    "\n",
    "    with open(filepath, encoding='utf-8-sig') as my_data:\n",
    "        info = csv.reader(my_data, delimiter=d)\n",
    "        for row in info:\n",
    "            \n",
    "            data.append(row)\n",
    "\n",
    "        return data\n",
    "\n",
    "csv_data = open_csv(r'c:\\Users\\jjs61\\OneDrive\\Desktop\\Data Analytics\\Coding_Temple\\week_3\\Data\\redsox_2017_hitting.txt')\n",
    "csv_data\n",
    "\n",
    "\n",
    "\n",
    "\n",
    "\n"
   ]
  },
  {
   "attachments": {},
   "cell_type": "markdown",
   "metadata": {},
   "source": [
    "#### Loading a CSV's Data "
   ]
  },
  {
   "cell_type": "code",
   "execution_count": 163,
   "metadata": {},
   "outputs": [
    {
     "ename": "SyntaxError",
     "evalue": "invalid character '…' (U+2026) (2356079793.py, line 21)",
     "output_type": "error",
     "traceback": [
      "\u001b[1;36m  Cell \u001b[1;32mIn[163], line 21\u001b[1;36m\u001b[0m\n\u001b[1;33m    Reply…\u001b[0m\n\u001b[1;37m         ^\u001b[0m\n\u001b[1;31mSyntaxError\u001b[0m\u001b[1;31m:\u001b[0m invalid character '…' (U+2026)\n"
     ]
    }
   ],
   "source": [
    "FIELDS = ['Rk','Pos','Name','Age','G','PA','AB','R','H','2B','3B','HR','RBI','SB',\n",
    "          'CS','BB','SO','BA','OBP','SLG','OPS','OPS+','TB','GDP','HBP','SH','SF','IBB']\n",
    "DATATYPES = [('rk', 'i'), ('pos', '|S25'), ('name', '|S25'), ('age', 'i'), ('g', 'i'), ('pa', 'i'), ('ab', 'i'),\n",
    "                ('r', 'i'), ('h', 'i'), ('2b', 'i'), ('3b', 'i'), ('hr', 'i'), ('rbi', 'i'), ('sb', 'i'), ('cs', 'i'),\n",
    "                ('bb', 'i'), ('so', 'i'), ('ba', 'f'), ('obp', 'f'), ('slg', 'f'), ('ops', 'f'), ('opsp', 'i'),\n",
    "                ('tb', 'i'), ('gdp', 'i'), ('hbp', 'i'), ('sh', 'i'), ('sf', 'i'), ('ibb', 'i')]\n",
    "\n",
    "\n",
    "def load_data(filepath, d = \",\"):\n",
    "    data = np.genfromtxt(filepath, delimiter=d, skip_header=1, usecols=(0,24), invalid_raise=False, names=FIELDS, dtype=DATATYPES)\n",
    "    \n",
    "    return data\n",
    "\n",
    "\n",
    "bs2017 = load_data(r'c:\\Users\\jjs61\\OneDrive\\Desktop\\Data Analytics\\Coding_Temple\\week_3\\Data\\redsox_2017_hitting.txt')\n",
    "\n",
    "\n",
    "\n",
    "\n",
    "\n",
    "Reply…\n",
    "Also send to bonfire-129"
   ]
  },
  {
   "cell_type": "code",
   "execution_count": null,
   "metadata": {},
   "outputs": [],
   "source": []
  },
  {
   "attachments": {},
   "cell_type": "markdown",
   "metadata": {},
   "source": [
    "#### Summing the top 5 hitters for HR's"
   ]
  },
  {
   "cell_type": "code",
   "execution_count": null,
   "metadata": {},
   "outputs": [],
   "source": []
  },
  {
   "cell_type": "code",
   "execution_count": null,
   "metadata": {},
   "outputs": [],
   "source": []
  },
  {
   "cell_type": "code",
   "execution_count": null,
   "metadata": {},
   "outputs": [],
   "source": []
  }
 ],
 "metadata": {
  "kernelspec": {
   "display_name": "Python 3",
   "language": "python",
   "name": "python3"
  },
  "language_info": {
   "codemirror_mode": {
    "name": "ipython",
    "version": 3
   },
   "file_extension": ".py",
   "mimetype": "text/x-python",
   "name": "python",
   "nbconvert_exporter": "python",
   "pygments_lexer": "ipython3",
   "version": "3.11.5"
  },
  "vscode": {
   "interpreter": {
    "hash": "26de051ba29f2982a8de78e945f0abaf191376122a1563185a90213a26c5da77"
   }
  }
 },
 "nbformat": 4,
 "nbformat_minor": 2
}
