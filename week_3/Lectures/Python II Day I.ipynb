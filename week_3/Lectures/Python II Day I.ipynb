{
  "cells": [
    {
      "attachments": {},
      "cell_type": "markdown",
      "metadata": {
        "id": "A3jUapQsAZn-"
      },
      "source": [
        "# Coding Temple's Data Analytics Course\n",
        "---\n",
        "## Python II: Regular Expressions"
      ]
    },
    {
      "attachments": {},
      "cell_type": "markdown",
      "metadata": {
        "id": "PdLjKD4UAZn_"
      },
      "source": [
        "## Tasks today:\n",
        "1) <b>Importing</b> <br>\n",
        "2) <b>Using Regular Expressions</b> <br>\n",
        " &nbsp;&nbsp;&nbsp;&nbsp; a) re.compile() <br>\n",
        " &nbsp;&nbsp;&nbsp;&nbsp; b) re.match() <br>\n",
        " &nbsp;&nbsp;&nbsp;&nbsp; c) re.findall() <br>\n",
        " &nbsp;&nbsp;&nbsp;&nbsp; d) re.search() <br>\n",
        "3) <b>Sets</b> <br>\n",
        " &nbsp;&nbsp;&nbsp;&nbsp; a) Integer Ranges <br>\n",
        " &nbsp;&nbsp;&nbsp;&nbsp; b) Character Ranges <br>\n",
        "4) <b>Counting Occurences</b> <br>\n",
        " &nbsp;&nbsp;&nbsp;&nbsp; a) {x} <br>\n",
        " &nbsp;&nbsp;&nbsp;&nbsp; b) {, x} <br>\n",
        " &nbsp;&nbsp;&nbsp;&nbsp; c) {?} <br>\n",
        " &nbsp;&nbsp;&nbsp;&nbsp; d) {*} <br>\n",
        " &nbsp;&nbsp;&nbsp;&nbsp; e) {+} <br>\n",
        "5) <b>In-Class Exercise #1</b> <br>\n",
        "6) <b>Escaping Characters</b> <br>\n",
        "7) <b>Grouping</b> <br>\n",
        "8) <b>In-Class Exercise #2</b> <br>\n",
        "9) <b>Opening a File</b> <br>\n",
        " &nbsp;&nbsp;&nbsp;&nbsp; a) open() <br>\n",
        " &nbsp;&nbsp;&nbsp;&nbsp; b) with open() <br>\n",
        " &nbsp;&nbsp;&nbsp;&nbsp; c) re.match() <br>\n",
        " &nbsp;&nbsp;&nbsp;&nbsp; d) re.search() <br>\n",
        " &nbsp;&nbsp;&nbsp;&nbsp; e) Store the String in a Variable <br>"
      ]
    },
    {
      "attachments": {},
      "cell_type": "markdown",
      "metadata": {
        "id": "PAC04z0nAZoA"
      },
      "source": [
        "### Importing <br>\n",
        "<p>Regular Expressions are universal throughout most programming languages... They are generally imported through the module 're'.</p>"
      ]
    },
    {
      "cell_type": "code",
      "execution_count": 2,
      "metadata": {
        "id": "SxP-cmPsAZoA"
      },
      "outputs": [],
      "source": [
        "# Import statements always go at the TOP of a noteboom\n",
        "import re"
      ]
    },
    {
      "attachments": {},
      "cell_type": "markdown",
      "metadata": {
        "id": "M7A6o9vXAZoB"
      },
      "source": [
        "### Using Regular Expressions <br>\n",
        "<p>Regular expressions give us the ability to search for patterns within text, strings, files, etc. They serve several uses, such as; security measures, searching, filtering, pattern recognition, and more...</p>"
      ]
    },
    {
      "attachments": {},
      "cell_type": "markdown",
      "metadata": {
        "id": "LwC1v9vRAZoB"
      },
      "source": [
        "##### re.compile()"
      ]
    },
    {
      "cell_type": "code",
      "execution_count": 3,
      "metadata": {
        "id": "ldZfAB8FAZoB"
      },
      "outputs": [],
      "source": [
        "# Using compile, we pre determine the string we want to search for inside of regex methods:\n",
        "\n",
        "\n",
        "pattern = re.compile('abcd')\n",
        "\n"
      ]
    },
    {
      "attachments": {},
      "cell_type": "markdown",
      "metadata": {
        "id": "CvfW_ms2AZoC"
      },
      "source": [
        "##### re.match()"
      ]
    },
    {
      "cell_type": "code",
      "execution_count": 4,
      "metadata": {
        "id": "-zJbcV12AZoC"
      },
      "outputs": [
        {
          "name": "stdout",
          "output_type": "stream",
          "text": [
            "Help on function match in module re:\n",
            "\n",
            "match(pattern, string, flags=0)\n",
            "    Try to apply the pattern at the start of the string, returning\n",
            "    a Match object, or None if no match was found.\n",
            "\n",
            "None\n"
          ]
        },
        {
          "data": {
            "text/plain": [
              "(0, 4)"
            ]
          },
          "execution_count": 4,
          "metadata": {},
          "output_type": "execute_result"
        }
      ],
      "source": [
        "# in order to access pieces of a string and use the patter over a doc, string, etc., we would use the .match() function\n",
        "\n",
        "print(help(re.match))\n",
        "\n",
        "# both of these are the same thing\n",
        "re.match(pattern, 'abcd123')\n",
        "\n",
        "\n",
        "match = pattern.match('abcd123')\n",
        "\n",
        "match.span()"
      ]
    },
    {
      "attachments": {},
      "cell_type": "markdown",
      "metadata": {
        "id": "b10Z-_c0AZoC"
      },
      "source": [
        "##### re.findall()"
      ]
    },
    {
      "cell_type": "code",
      "execution_count": 24,
      "metadata": {
        "id": "Edc4cN4yAZoC"
      },
      "outputs": [
        {
          "name": "stdout",
          "output_type": "stream",
          "text": [
            "Help on function findall in module re:\n",
            "\n",
            "findall(pattern, string, flags=0)\n",
            "    Return a list of all non-overlapping matches in the string.\n",
            "    \n",
            "    If one or more capturing groups are present in the pattern, return\n",
            "    a list of groups; this will be a list of tuples if the pattern\n",
            "    has more than one group.\n",
            "    \n",
            "    Empty matches are included in the result.\n",
            "\n",
            "None\n"
          ]
        },
        {
          "data": {
            "text/plain": [
              "['abcd', 'abcd']"
            ]
          },
          "execution_count": 24,
          "metadata": {},
          "output_type": "execute_result"
        }
      ],
      "source": [
        "# What happens when I hav multiple matches in a single string or text document\n",
        "# findall() come into play\n",
        "print(help(re.findall))\n",
        "\n",
        "\n",
        "pattern.findall('abcd123abcd')"
      ]
    },
    {
      "attachments": {},
      "cell_type": "markdown",
      "metadata": {
        "id": "YGpNo_XZAZoC"
      },
      "source": [
        "##### re.search()"
      ]
    },
    {
      "cell_type": "code",
      "execution_count": 5,
      "metadata": {
        "id": "0DolcygtAZoD"
      },
      "outputs": [
        {
          "name": "stdout",
          "output_type": "stream",
          "text": [
            "<re.Match object; span=(12, 16), match='abcd'>\n",
            "(12, 16) <class 'tuple'>\n",
            " abc\n",
            "abcd\n",
            "12\n"
          ]
        }
      ],
      "source": [
        "# Search object will retuyrn the single match of the string wherever it matches at\n",
        "# the return object from a search funtion is also still a match object\n",
        "\n",
        "random_string = \"123 123 234 abcd abcd\"\n",
        "# search the string for a patter\n",
        "search = pattern.search(random_string)\n",
        "print(search)\n",
        "\n",
        "span = search.span()\n",
        "print(span, type(span))\n",
        "\n",
        "# what if i wanted to return the actual match instead of this object\n",
        "# hard-coding:\n",
        "print(random_string[16:20]) # this value never changes\n",
        "\n",
        "\n",
        "# Reproducible method: no matter how the string object changes\n",
        "\n",
        "print(random_string[span[0]:span[1]])\n",
        "print(span[0])\n",
        "\n"
      ]
    },
    {
      "attachments": {},
      "cell_type": "markdown",
      "metadata": {
        "id": "KbKNBUxLAZoD"
      },
      "source": [
        "### Sets <br>\n",
        "<p>The following cells will allow you to use regular expressions to search for certain values within a range such as numbers 1 through 4.</p>"
      ]
    },
    {
      "attachments": {},
      "cell_type": "markdown",
      "metadata": {
        "id": "_2G-uS27AZoD"
      },
      "source": [
        "##### [a-z] or [A-Z] - any lowercase/uppercase letters from a to z<br/>[^2] - anything that's not 2"
      ]
    },
    {
      "attachments": {},
      "cell_type": "markdown",
      "metadata": {
        "id": "H6y2Ls9aAZoD"
      },
      "source": [
        "##### Integer Ranges"
      ]
    },
    {
      "cell_type": "code",
      "execution_count": 6,
      "metadata": {
        "id": "FGn5mZlzAZoD"
      },
      "outputs": [
        {
          "name": "stdout",
          "output_type": "stream",
          "text": [
            "<re.Match object; span=(8, 11), match='383'>\n"
          ]
        }
      ],
      "source": [
        "# # we are searching phone numbers for an area code that is between 0-4 for the first digit, 7 -9 for the second digit, and 0-3 for the third digit\n",
        "\n",
        "pattern_int = re.compile(\"[0-4][7-9][0-3]\")\n",
        "phone_num = '673 838 3838'\n",
        "\n",
        "# search string for the matching numbers in our set and return them\n",
        "random_num = pattern_int.search(phone_num)\n",
        "print(random_num)"
      ]
    },
    {
      "cell_type": "code",
      "execution_count": 49,
      "metadata": {},
      "outputs": [
        {
          "name": "stdout",
          "output_type": "stream",
          "text": [
            "393\n"
          ]
        }
      ],
      "source": [
        "# can alos iterate over integer values\n",
        "# comlie an integer patter and create an integer variable\n",
        "pattern_int = re.compile('[0-4][7-9][0-3]')\n",
        "int_value = 67393\n",
        "\n",
        "\n",
        "random_num = pattern_int.search(str(int_value))\n",
        "random_num\n",
        "\n",
        "span = random_num.span()\n",
        "print(int(str(int_value)[span[0]:span[1]]))"
      ]
    },
    {
      "attachments": {},
      "cell_type": "markdown",
      "metadata": {
        "id": "PgBHuJW2AZoD"
      },
      "source": [
        "##### Character Ranges"
      ]
    },
    {
      "cell_type": "code",
      "execution_count": 47,
      "metadata": {
        "id": "DPU6DLtZAZoD"
      },
      "outputs": [
        {
          "data": {
            "text/plain": [
              "['He', 'Th', 'Se', 'An']"
            ]
          },
          "execution_count": 47,
          "metadata": {},
          "output_type": "execute_result"
        }
      ],
      "source": [
        "# compile a character pattern and create a string object\n",
        "char_pattern = re.compile('[A-Z][a-z]')\n",
        "\n",
        "my_string = \"Hello There Senior Anderson\"\n",
        "\n",
        "\n",
        "char_pattern.findall(my_string)\n",
        "\n"
      ]
    },
    {
      "attachments": {},
      "cell_type": "markdown",
      "metadata": {
        "id": "cNrmcRxBAZoE"
      },
      "source": [
        "### Counting Occurences"
      ]
    },
    {
      "attachments": {},
      "cell_type": "markdown",
      "metadata": {
        "id": "52zJm_dTAZoE"
      },
      "source": [
        "##### {x} - something that occurs {num_of_times}"
      ]
    },
    {
      "cell_type": "code",
      "execution_count": 53,
      "metadata": {
        "id": "OfFlvkxaAZoE"
      },
      "outputs": [
        {
          "name": "stdout",
          "output_type": "stream",
          "text": [
            "['Hel', 'An3']\n"
          ]
        }
      ],
      "source": [
        "\"\"\"What does this do\"\"\"   \"\"\"created a pattern looking for an uppercase letter, a lowercase letter, and then two digits between 0-3\"\"\"\n",
        "\n",
        "char_pattern_count = re.compile(\"[A-Z][a-z}[0-3]{2}\")\n",
        "\n",
        "\n",
        "found_count = char_pattern_count.findall(\"Hello Mr. An333333derson\")\n",
        "if found_count:\n",
        "    print(found_count)\n",
        "else: \n",
        "    print(\"Your search returned nothing\")"
      ]
    },
    {
      "attachments": {},
      "cell_type": "markdown",
      "metadata": {
        "id": "S0BYqWlLAZoE"
      },
      "source": [
        "##### {x, x} - something that occurs between x and x times"
      ]
    },
    {
      "cell_type": "code",
      "execution_count": 57,
      "metadata": {
        "id": "YfOZVHsXAZoE"
      },
      "outputs": [
        {
          "name": "stdout",
          "output_type": "stream",
          "text": [
            "['m', 'mm', 'mmmmm', 'mmmmm', 'mm', 'm', 'm']\n"
          ]
        }
      ],
      "source": [
        "\"\"\"whit is this?\n",
        "- creating a pattern that looks for any occurances of the letter 'm' where it occurs anwhere between 1 - 5 tims\"\"\"\n",
        "\n",
        "random_pattern = re.compile(\"m{1,5}\")\n",
        "\n",
        "\n",
        "random_statement = random_pattern.findall('m mm mmmmmmmmmmmm this was great soup! I am in love with Tomato soup')\n",
        "print(random_statement)"
      ]
    },
    {
      "attachments": {},
      "cell_type": "markdown",
      "metadata": {
        "id": "3B6Nre9mAZoE"
      },
      "source": [
        "##### ? - something that occurs 0 or 1 time"
      ]
    },
    {
      "cell_type": "code",
      "execution_count": 60,
      "metadata": {
        "id": "_XAtCwCLAZoE"
      },
      "outputs": [
        {
          "name": "stdout",
          "output_type": "stream",
          "text": [
            "['Mr', 'Mrs']\n"
          ]
        }
      ],
      "source": [
        "# this will create a patern of 'Mr' and search for an occurance of the letter 's' to follow after it\n",
        "# if the letter 's' does ont occur, will return all matches of 'Mr'\n",
        "pattern = re.compile(\"Mrs?\")\n",
        "\n",
        "\n",
        "found_pat = pattern.findall(\"Hellp M there Mr. Anderson. How is Mrs. Anderson and Ms Anderson?\")\n",
        "print(found_pat)"
      ]
    },
    {
      "attachments": {},
      "cell_type": "markdown",
      "metadata": {
        "id": "gP5_jLEpAZoE"
      },
      "source": [
        "##### * - something that occurs at least 0 times"
      ]
    },
    {
      "cell_type": "code",
      "execution_count": null,
      "metadata": {
        "id": "5pf3JL1cAZoE"
      },
      "outputs": [],
      "source": []
    },
    {
      "attachments": {},
      "cell_type": "markdown",
      "metadata": {
        "id": "9S37A82sAZoE"
      },
      "source": [
        "##### + - something that occurs at least once"
      ]
    },
    {
      "cell_type": "code",
      "execution_count": 63,
      "metadata": {
        "id": "PfyTRw_OAZoF"
      },
      "outputs": [
        {
          "name": "stdout",
          "output_type": "stream",
          "text": [
            "['MMMs', 's', 'Ms', 's', 's', 'Ms', 's', 's', 's', 's']\n"
          ]
        }
      ],
      "source": [
        "\"\"\" Creates a pattern that will serach for a s with any number of \"M\"'s preceeding it\"\"\"\n",
        "\n",
        "\n",
        "patern_m = re.compile('M*s')\n",
        "\n",
        "found_m = patern_m.findall('MMMs nameis Ms. Smith. This is Msssss')\n",
        "print(found_m)\n",
        "\n",
        "\n",
        "\n"
      ]
    },
    {
      "attachments": {},
      "cell_type": "markdown",
      "metadata": {
        "id": "KpVslvyuAZoF"
      },
      "source": [
        "##### In-class exercise 1: \n",
        "\n",
        "Use a regular expression to find every number in the given string"
      ]
    },
    {
      "cell_type": "code",
      "execution_count": 74,
      "metadata": {
        "id": "IyVgLkCSAZoF"
      },
      "outputs": [
        {
          "name": "stdout",
          "output_type": "stream",
          "text": [
            "['10909090', '1', '2']\n"
          ]
        }
      ],
      "source": [
        "my_string = 'This string has 10909090 numbers, but it is only 1 string. I hope you solve this 2day'\n",
        "# Output: ['10909090', '1', '2']\n",
        "\n",
        "all_nums = re.compile('[0-9]+')\n",
        "\n",
        "found_nums = all_nums.findall(my_string)\n",
        "print(found_nums)\n",
        "\n",
        "\n",
        "\n",
        "\n",
        "\n",
        "\n"
      ]
    },
    {
      "attachments": {},
      "cell_type": "markdown",
      "metadata": {
        "id": "h0NrOe0OAZoF"
      },
      "source": [
        "### Escaping Characters"
      ]
    },
    {
      "attachments": {},
      "cell_type": "markdown",
      "metadata": {
        "id": "h4orJZqnAZoF"
      },
      "source": [
        "##### \\w - look for any Unicode character<br/>\\W - look for anything that isnt a Unicode character\n",
        "\n",
        "[History on Unicode](http://unicode.org/standard/WhatIsUnicode.html)\n",
        "\n",
        "[More on Unicode Characters](https://en.wikipedia.org/wiki/List_of_Unicode_characters)"
      ]
    },
    {
      "cell_type": "code",
      "execution_count": 89,
      "metadata": {
        "id": "Plsf-e0bAZoF"
      },
      "outputs": [
        {
          "name": "stdout",
          "output_type": "stream",
          "text": [
            "\n"
          ]
        }
      ],
      "source": [
        "print('\\U0000F4AA')"
      ]
    },
    {
      "cell_type": "code",
      "execution_count": 83,
      "metadata": {},
      "outputs": [
        {
          "name": "stdout",
          "output_type": "stream",
          "text": [
            "['This', 'is', 'a', 'sentence', 'This', 'has', 'aan', 'exclamation']\n",
            "[' ', ' ', ' ', '. ', ' ', ' ', ' ', '!!!!']\n"
          ]
        }
      ],
      "source": [
        "# anytyhing that is a unicode object:\n",
        "# means I want everything that matches afterwards to also be returned\n",
        "\n",
        "patter_uni = re.compile('[\\w]+')\n",
        "\n",
        "found_uni = patter_uni.findall('This is a sentence. This has aan exclamation!!!!')\n",
        "print(found_uni)\n",
        "\n",
        "\n",
        "\n",
        "pattern_not_uni = re.compile('[\\W]+')\n",
        "found_non_uni = pattern_not_uni.findall('This is a sentence. This has aan exclamation!!!!')\n",
        "print(found_non_uni)"
      ]
    },
    {
      "attachments": {},
      "cell_type": "markdown",
      "metadata": {
        "id": "0iUynUmbAZoF"
      },
      "source": [
        "##### \\d - look for any digit 0-9<br/>\\D - look for anything that isnt a digit"
      ]
    },
    {
      "cell_type": "code",
      "execution_count": 94,
      "metadata": {
        "id": "day5uczJAZoF"
      },
      "outputs": [
        {
          "name": "stdout",
          "output_type": "stream",
          "text": [
            "['25th', '1st']\n"
          ]
        }
      ],
      "source": [
        "date = 'Today is the 25th. In five days it will be the 1st.'\n",
        "\"\"\" What does this do?\n",
        "we are searching for any numeric value that occurs one to two time then is preceeded by a non-numerical value 2 times.  \"\"\"\n",
        "\n",
        "patter_num = re.compile('\\d{1,2}[\\D]{2}')\n",
        "found_date = patter_num.findall(date)\n",
        "print(found_date)"
      ]
    },
    {
      "attachments": {},
      "cell_type": "markdown",
      "metadata": {
        "id": "s40MLh_BAZoF"
      },
      "source": [
        "##### \\s - look for any white space<br/>\\S - look for anything that isnt whitespace"
      ]
    },
    {
      "cell_type": "code",
      "execution_count": 102,
      "metadata": {
        "id": "7iygJ50-AZoG"
      },
      "outputs": [
        {
          "name": "stdout",
          "output_type": "stream",
          "text": [
            "['Are', 'you', 'afraid', 'of', 'the', 'dark', 'in']\n",
            "[' ', '    ', ' ', ' ', ' ', ' ', ' ', ' ']\n"
          ]
        }
      ],
      "source": [
        "string_1 = \"Are you    afraid of the dark in OH?\"\n",
        "# whitespace any for of space within a string. (leading, trailing or in between words)\n",
        "# we are searching for all items not white space, from a - z \n",
        "pattern_no_space = re.compile('\\S[a-z]+')\n",
        "found_dark = pattern_no_space.findall(string_1)\n",
        "print(found_dark)\n",
        "\n",
        "pattern_with_space = re.compile('\\s+')\n",
        "found_space = pattern_with_space.findall(string_1)\n",
        "print(found_space)"
      ]
    },
    {
      "attachments": {},
      "cell_type": "markdown",
      "metadata": {
        "id": "ocOxfZxHAZoG"
      },
      "source": [
        "##### \\b - look for boundaries or edges of a word<br/>\\B - look for anything that isnt a boundary"
      ]
    },
    {
      "cell_type": "code",
      "execution_count": 107,
      "metadata": {
        "id": "f_qVKVvsAZoG"
      },
      "outputs": [
        {
          "name": "stdout",
          "output_type": "stream",
          "text": [
            "[]\n"
          ]
        }
      ],
      "source": [
        "pattern_boundry = re.compile(r'\\bTheCodingTemple\\b') # r in front of a sstring means I want to read this as a literal word\n",
        "found_pat = pattern_boundry.findall(\"The CodingTemple\")\n",
        "print(found_pat)\n"
      ]
    },
    {
      "attachments": {},
      "cell_type": "markdown",
      "metadata": {
        "id": "M69Sj-rDAZoG"
      },
      "source": [
        "### Grouping"
      ]
    },
    {
      "cell_type": "code",
      "execution_count": 126,
      "metadata": {
        "id": "yWMQqGQkAZoG"
      },
      "outputs": [
        {
          "ename": "SyntaxError",
          "evalue": "unterminated string literal (detected at line 21) (3051965635.py, line 21)",
          "output_type": "error",
          "traceback": [
            "\u001b[1;36m  Cell \u001b[1;32mIn[126], line 21\u001b[1;36m\u001b[0m\n\u001b[1;33m    print(f'this name didn't print: {name}')\u001b[0m\n\u001b[1;37m                                          ^\u001b[0m\n\u001b[1;31mSyntaxError\u001b[0m\u001b[1;31m:\u001b[0m unterminated string literal (detected at line 21)\n"
          ]
        }
      ],
      "source": [
        "my_string_again = \"Max Smith, aaron rodgers, sam darnold, LeBron James, michael jordan\"\n",
        "\n",
        "# Search for patterns matching either on of our grouped patterns in the compile statement.\n",
        "# first parenthesis (searches for name exceptions - searching a cap letter, followed by a lower case. then another capital and lowercase to follow)\n",
        "# second parenthess ) searches for where there is a capital letter and any cap and lower case letters to follow\n",
        "\n",
        "# the parenthesis create the grouping saying \"Here is a list of how i  want this specific search parameter\"\n",
        "pattern_name = re.compile('([A-Z][a-zA-z-a-z]+) ([A-Z][A-Za-z]+)')\n",
        "\n",
        "fin_names = pattern_name.findall(my_string_again)\n",
        "print(fin_names)\n",
        "\n",
        "\n",
        "\n",
        "\n",
        "for name in my_string_again.split(','):\n",
        "    match = pattern_name.search(name)\n",
        "    if match:\n",
        "        print(match.groups(2))\n",
        "    else:\n",
        "        print(f'this name didn't print: {name}')\n",
        "\n",
        "\n",
        "\n",
        "\n",
        "\n",
        "\n",
        "\n",
        "\n",
        "\n",
        "\n",
        "\n",
        "\n"
      ]
    },
    {
      "attachments": {},
      "cell_type": "markdown",
      "metadata": {
        "id": "_9k6rLgMAZoG"
      },
      "source": [
        "##### In-class Exercise 2:\n",
        "\n",
        "Write a function using regular expressions to find the domain name in the given email addresses (and return None for the invalid email addresses)<br><b>HINT: Use '|' for either or</b>"
      ]
    },
    {
      "cell_type": "code",
      "execution_count": 144,
      "metadata": {
        "id": "H6q94xwIAZoG"
      },
      "outputs": [],
      "source": [
        "my_emails = [\"jordanw@codingtemple.orgcom\", \"pocohontas1776@gmail.com\", \"helloworld@aol..com\",\n",
        "             \"yourfavoriteband@g6.org\", \"@codingtemple.com\"]\n",
        "\n",
        "# define function\n",
        "def validate_email(email):\n",
        "    pattern - re.compile(\"([a-za-z0-9]+)@([A-za-z0-9]+).(org$|com)$\")\n",
        "\n",
        "    # when we look at the match, if a motch is fouind, this triggers\n",
        "    if pattern.match(email):\n",
        "        return email\n",
        "    else:\n",
        "        return None\n",
        "    \n",
        "\n",
        "        for email in my_emails:\n",
        "            print(validate_email(email))\n",
        "    \n",
        "        print(validate_email(email))\n",
        "\n"
      ]
    },
    {
      "cell_type": "markdown",
      "metadata": {},
      "source": []
    },
    {
      "attachments": {},
      "cell_type": "markdown",
      "metadata": {
        "id": "7SvPDEPUAZoH"
      },
      "source": [
        "### Opening a File <br>\n",
        "<p>Python gives us a couple ways to import files, below are the two used most often.</p>"
      ]
    },
    {
      "attachments": {},
      "cell_type": "markdown",
      "metadata": {
        "id": "7NshyCNvAZoH"
      },
      "source": [
        "##### open()"
      ]
    },
    {
      "cell_type": "code",
      "execution_count": 140,
      "metadata": {
        "id": "R06Sh5-FAZoH"
      },
      "outputs": [
        {
          "name": "stdout",
          "output_type": "stream",
          "text": [
            "ï»¿Hawkins, Derek        derek@codingtemple.com        (555) 555-5555        Teacher, Coding Temple        @derekhawkins\n",
            "Zhai, Mo        mozhai@codingtemple.com        (555) 555-5554        Teacher, Coding Temple\n",
            "Johnson, Joe        joejohnson@codingtemple.com                Johson, Joe\n",
            "Osterberg, Sven-Erik        governor@norrbotten.co.se                Governor, Norrbotten        @sverik\n",
            ", Tim        tim@killerrabbit.com                Enchanter, Killer Rabbit Cave\n",
            "Butz, Ryan        ryanb@codingtemple.com        (555) 555-5543        CEO, Coding Temple        @ryanbutz\n",
            "Doctor, The        doctor+companion@tardis.co.uk                Time Lord, Gallifrey\n",
            "Exampleson, Example        me@example.com        555-555-5552        Example, Example Co.        @example\n",
            "Pael, Ripal        ripalp@codingtemple.com        (555) 555-5553        Teacher, Coding Temple        @ripalp\n",
            "Vader, Darth        darth-vader@empire.gov        (555) 555-4444        Sith Lord, Galactic Empire        @darthvader\n",
            "Fernandez de la Vega Sanz, Maria Teresa        mtfvs@spain.gov                First Deputy Prime Minister, Spanish Gov\n",
            "<class 'str'>\n"
          ]
        }
      ],
      "source": [
        "# allows us to open a file             # always remeber to close the file!!!!!!!!!!!!!!!!!!!\n",
        "f = open(r'c:\\Users\\jjs61\\OneDrive\\Desktop\\Data Analytics\\Coding_Temple\\week_3\\names.txt')\n",
        "\n",
        "data = f.read()\n",
        "print(data)\n",
        "print(type(data))\n",
        "\n",
        "f.close()\n"
      ]
    },
    {
      "attachments": {},
      "cell_type": "markdown",
      "metadata": {
        "id": "ACOU8PwzAZoH"
      },
      "source": [
        "##### with open()"
      ]
    },
    {
      "cell_type": "code",
      "execution_count": 148,
      "metadata": {
        "id": "WTo40P6FAZoH"
      },
      "outputs": [
        {
          "name": "stdout",
          "output_type": "stream",
          "text": [
            "ï»¿Hawkins, Derek        derek@codingtemple.com        (555) 555-5555        Teacher, Coding Temple        @derekhawkins\n",
            "Zhai, Mo        mozhai@codingtemple.com        (555) 555-5554        Teacher, Coding Temple\n",
            "Johnson, Joe        joejohnson@codingtemple.com                Johson, Joe\n",
            "Osterberg, Sven-Erik        governor@norrbotten.co.se                Governor, Norrbotten        @sverik\n",
            ", Tim        tim@killerrabbit.com                Enchanter, Killer Rabbit Cave\n",
            "Butz, Ryan        ryanb@codingtemple.com        (555) 555-5543        CEO, Coding Temple        @ryanbutz\n",
            "Doctor, The        doctor+companion@tardis.co.uk                Time Lord, Gallifrey\n",
            "Exampleson, Example        me@example.com        555-555-5552        Example, Example Co.        @example\n",
            "Pael, Ripal        ripalp@codingtemple.com        (555) 555-5553        Teacher, Coding Temple        @ripalp\n",
            "Vader, Darth        darth-vader@empire.gov        (555) 555-4444        Sith Lord, Galactic Empire        @darthvader\n",
            "Fernandez de la Vega Sanz, Maria Teresa        mtfvs@spain.gov                First Deputy Prime Minister, Spanish Gov\n"
          ]
        }
      ],
      "source": [
        "# when you use with open(), you do not havbe to close the file.   It does it for you!\n",
        "with open(r'c:\\Users\\jjs61\\OneDrive\\Desktop\\Data Analytics\\Coding_Temple\\week_3\\names.txt') as f:\n",
        "\n",
        "    data = f.read()\n",
        "    print(data)\n"
      ]
    },
    {
      "attachments": {},
      "cell_type": "markdown",
      "metadata": {
        "id": "LeX9ZH_nAZoH"
      },
      "source": [
        "##### re.search()"
      ]
    },
    {
      "cell_type": "code",
      "execution_count": 151,
      "metadata": {
        "id": "UE5h5Z59AZoH"
      },
      "outputs": [
        {
          "data": {
            "text/plain": [
              "<re.Match object; span=(788, 811), match='ripalp@codingtemple.com'>"
            ]
          },
          "execution_count": 151,
          "metadata": {},
          "output_type": "execute_result"
        }
      ],
      "source": [
        "re.search('ripalp@codingtemple.com', data)"
      ]
    },
    {
      "attachments": {},
      "cell_type": "markdown",
      "metadata": {
        "id": "89ATa2GmAZoI"
      },
      "source": [
        "##### Store the String to a Variable"
      ]
    },
    {
      "cell_type": "code",
      "execution_count": 154,
      "metadata": {
        "id": "eVZ7Ly1qAZoI"
      },
      "outputs": [
        {
          "name": "stdout",
          "output_type": "stream",
          "text": [
            "['Butz, Ryan']\n",
            " i found ['Butz, Ryan']\n"
          ]
        }
      ],
      "source": [
        "answer = input(\"what name would you liek t o look for?\")\n",
        "found = re.findall(answer, data)\n",
        "print(found)\n",
        "if found:\n",
        "    print (f\" i found {found}\")\n",
        "else:\n",
        "    print('nothing found')\n",
        "    "
      ]
    },
    {
      "attachments": {},
      "cell_type": "markdown",
      "metadata": {
        "id": "SSiDJtVyAZoI"
      },
      "source": [
        "### In-Class Exercise #3 <br>\n",
        "<p>Print each persons name and twitter handle, using groups, should look like:</p>\n",
        "<p>==============<br>\n",
        "   Full Name / Twitter<br>\n",
        "   ==============</p>\n",
        "Derek Hawkins / @derekhawkins\n",
        "\n",
        " Erik Sven-Osterberg / @sverik\n",
        "\n",
        " Ryan Butz / @ryanbutz\n",
        "\n",
        " Example Exampleson / @example\n",
        "\n",
        " Ripal Pael / @ripalp\n",
        "\n",
        " Darth Vader / @darthvader"
      ]
    },
    {
      "cell_type": "code",
      "execution_count": 174,
      "metadata": {},
      "outputs": [
        {
          "name": "stdout",
          "output_type": "stream",
          "text": [
            "Derek Hawkins / @derekhawkins\n",
            "Sven-Erik Osterberg / @sverik\n",
            "Ryan Butz / @ryanbutz\n",
            "Example Exampleson / @example\n",
            "Ripal Pael / @ripalp\n",
            "Darth Vader / @darthvader\n",
            "None\n"
          ]
        }
      ],
      "source": [
        "with open(r'c:\\Users\\jjs61\\OneDrive\\Desktop\\Data Analytics\\Coding_Temple\\week_3\\names.txt') as f:\n",
        "    data = f.read()\n",
        "\n",
        "\n",
        "\n",
        "def accounts(data):\n",
        "    pattern = re.compile(r\"([A-Za-z-]+), ([A-Za-z-]+).*(@[A-Za-z0-9_-]+)$\", re.MULTILINE)\n",
        "    matches = pattern.findall(data)\n",
        "    for match in matches:\n",
        "        print(f\"{match[1]} {match[0]} / {match[2]}\")\n",
        "\n",
        "print(accounts(data))\n",
        "\n",
        "\n",
        "\n"
      ]
    },
    {
      "cell_type": "code",
      "execution_count": null,
      "metadata": {},
      "outputs": [],
      "source": []
    }
  ],
  "metadata": {
    "colab": {
      "provenance": []
    },
    "kernelspec": {
      "display_name": "Python 3",
      "language": "python",
      "name": "python3"
    },
    "language_info": {
      "codemirror_mode": {
        "name": "ipython",
        "version": 3
      },
      "file_extension": ".py",
      "mimetype": "text/x-python",
      "name": "python",
      "nbconvert_exporter": "python",
      "pygments_lexer": "ipython3",
      "version": "3.11.5"
    },
    "vscode": {
      "interpreter": {
        "hash": "26de051ba29f2982a8de78e945f0abaf191376122a1563185a90213a26c5da77"
      }
    }
  },
  "nbformat": 4,
  "nbformat_minor": 0
}
